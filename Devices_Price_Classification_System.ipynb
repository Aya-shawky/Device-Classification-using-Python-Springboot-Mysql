{
  "nbformat": 4,
  "nbformat_minor": 0,
  "metadata": {
    "colab": {
      "provenance": [],
      "collapsed_sections": [
        "QzbNPamm7GMo",
        "fORx6hyULdv_"
      ],
      "authorship_tag": "ABX9TyOScZ0KGQegnV+oEWCinEaq",
      "include_colab_link": true
    },
    "kernelspec": {
      "name": "python3",
      "display_name": "Python 3"
    },
    "language_info": {
      "name": "python"
    }
  },
  "cells": [
    {
      "cell_type": "markdown",
      "metadata": {
        "id": "view-in-github",
        "colab_type": "text"
      },
      "source": [
        "<a href=\"https://colab.research.google.com/github/Aya-shawky/Device-Classification-using-Python-Springboot-Mysql/blob/master/Devices_Price_Classification_System.ipynb\" target=\"_parent\"><img src=\"https://colab.research.google.com/assets/colab-badge.svg\" alt=\"Open In Colab\"/></a>"
      ]
    },
    {
      "cell_type": "code",
      "source": [
        "from google.colab import drive\n",
        "drive.mount('/content/drive')"
      ],
      "metadata": {
        "colab": {
          "base_uri": "https://localhost:8080/"
        },
        "id": "YIjtNTPy0Dpj",
        "outputId": "dfef2f6a-a43e-4d7e-9696-df362bd23f78"
      },
      "execution_count": 1,
      "outputs": [
        {
          "output_type": "stream",
          "name": "stdout",
          "text": [
            "Drive already mounted at /content/drive; to attempt to forcibly remount, call drive.mount(\"/content/drive\", force_remount=True).\n"
          ]
        }
      ]
    },
    {
      "cell_type": "code",
      "source": [
        "import pandas as pd\n",
        "import seaborn as sns"
      ],
      "metadata": {
        "id": "S1kdkFZ_2G-Q"
      },
      "execution_count": 2,
      "outputs": []
    },
    {
      "cell_type": "code",
      "source": [
        "import numpy as np\n",
        "import matplotlib.pyplot as plt\n",
        "import seaborn as sns\n",
        "\n",
        "from sklearn.model_selection import train_test_split\n",
        "from sklearn.model_selection import GridSearchCV\n",
        "\n",
        "# import the class\n",
        "from sklearn.linear_model import LogisticRegression\n",
        "from sklearn.svm import SVC\n",
        "\n",
        "# import the metrics class\n",
        "from sklearn.preprocessing import StandardScaler\n",
        "from sklearn.metrics import accuracy_score, confusion_matrix, ConfusionMatrixDisplay"
      ],
      "metadata": {
        "id": "V7WADCQ3udut"
      },
      "execution_count": 3,
      "outputs": []
    },
    {
      "cell_type": "markdown",
      "source": [
        "## Read Data"
      ],
      "metadata": {
        "id": "QzbNPamm7GMo"
      }
    },
    {
      "cell_type": "code",
      "execution_count": 4,
      "metadata": {
        "colab": {
          "base_uri": "https://localhost:8080/",
          "height": 0
        },
        "id": "XIJNqWa5zsDY",
        "outputId": "eec9ad1b-f31a-4adb-f183-383d3e0e975d"
      },
      "outputs": [
        {
          "output_type": "execute_result",
          "data": {
            "text/plain": [
              "   battery_power  blue  clock_speed  dual_sim    fc  four_g  int_memory  \\\n",
              "0            842     0          2.2         0   1.0     0.0         7.0   \n",
              "1           1021     1          0.5         1   0.0     1.0        53.0   \n",
              "2            563     1          0.5         1   2.0     1.0        41.0   \n",
              "3            615     1          2.5         0   0.0     0.0        10.0   \n",
              "4           1821     1          1.2         0  13.0     1.0        44.0   \n",
              "\n",
              "   m_dep  mobile_wt  n_cores  ...  px_height  px_width     ram  sc_h  sc_w  \\\n",
              "0    0.6      188.0      2.0  ...       20.0     756.0  2549.0   9.0   7.0   \n",
              "1    0.7      136.0      3.0  ...      905.0    1988.0  2631.0  17.0   3.0   \n",
              "2    0.9      145.0      5.0  ...     1263.0    1716.0  2603.0  11.0   2.0   \n",
              "3    0.8      131.0      6.0  ...     1216.0    1786.0  2769.0  16.0   8.0   \n",
              "4    0.6      141.0      2.0  ...     1208.0    1212.0  1411.0   8.0   2.0   \n",
              "\n",
              "   talk_time  three_g  touch_screen  wifi  price_range  \n",
              "0         19        0             0     1            1  \n",
              "1          7        1             1     0            2  \n",
              "2          9        1             1     0            2  \n",
              "3         11        1             0     0            2  \n",
              "4         15        1             1     0            1  \n",
              "\n",
              "[5 rows x 21 columns]"
            ],
            "text/html": [
              "\n",
              "  <div id=\"df-d7be4ce2-7b8b-4e8a-b55a-41fe3dc66f3b\" class=\"colab-df-container\">\n",
              "    <div>\n",
              "<style scoped>\n",
              "    .dataframe tbody tr th:only-of-type {\n",
              "        vertical-align: middle;\n",
              "    }\n",
              "\n",
              "    .dataframe tbody tr th {\n",
              "        vertical-align: top;\n",
              "    }\n",
              "\n",
              "    .dataframe thead th {\n",
              "        text-align: right;\n",
              "    }\n",
              "</style>\n",
              "<table border=\"1\" class=\"dataframe\">\n",
              "  <thead>\n",
              "    <tr style=\"text-align: right;\">\n",
              "      <th></th>\n",
              "      <th>battery_power</th>\n",
              "      <th>blue</th>\n",
              "      <th>clock_speed</th>\n",
              "      <th>dual_sim</th>\n",
              "      <th>fc</th>\n",
              "      <th>four_g</th>\n",
              "      <th>int_memory</th>\n",
              "      <th>m_dep</th>\n",
              "      <th>mobile_wt</th>\n",
              "      <th>n_cores</th>\n",
              "      <th>...</th>\n",
              "      <th>px_height</th>\n",
              "      <th>px_width</th>\n",
              "      <th>ram</th>\n",
              "      <th>sc_h</th>\n",
              "      <th>sc_w</th>\n",
              "      <th>talk_time</th>\n",
              "      <th>three_g</th>\n",
              "      <th>touch_screen</th>\n",
              "      <th>wifi</th>\n",
              "      <th>price_range</th>\n",
              "    </tr>\n",
              "  </thead>\n",
              "  <tbody>\n",
              "    <tr>\n",
              "      <th>0</th>\n",
              "      <td>842</td>\n",
              "      <td>0</td>\n",
              "      <td>2.2</td>\n",
              "      <td>0</td>\n",
              "      <td>1.0</td>\n",
              "      <td>0.0</td>\n",
              "      <td>7.0</td>\n",
              "      <td>0.6</td>\n",
              "      <td>188.0</td>\n",
              "      <td>2.0</td>\n",
              "      <td>...</td>\n",
              "      <td>20.0</td>\n",
              "      <td>756.0</td>\n",
              "      <td>2549.0</td>\n",
              "      <td>9.0</td>\n",
              "      <td>7.0</td>\n",
              "      <td>19</td>\n",
              "      <td>0</td>\n",
              "      <td>0</td>\n",
              "      <td>1</td>\n",
              "      <td>1</td>\n",
              "    </tr>\n",
              "    <tr>\n",
              "      <th>1</th>\n",
              "      <td>1021</td>\n",
              "      <td>1</td>\n",
              "      <td>0.5</td>\n",
              "      <td>1</td>\n",
              "      <td>0.0</td>\n",
              "      <td>1.0</td>\n",
              "      <td>53.0</td>\n",
              "      <td>0.7</td>\n",
              "      <td>136.0</td>\n",
              "      <td>3.0</td>\n",
              "      <td>...</td>\n",
              "      <td>905.0</td>\n",
              "      <td>1988.0</td>\n",
              "      <td>2631.0</td>\n",
              "      <td>17.0</td>\n",
              "      <td>3.0</td>\n",
              "      <td>7</td>\n",
              "      <td>1</td>\n",
              "      <td>1</td>\n",
              "      <td>0</td>\n",
              "      <td>2</td>\n",
              "    </tr>\n",
              "    <tr>\n",
              "      <th>2</th>\n",
              "      <td>563</td>\n",
              "      <td>1</td>\n",
              "      <td>0.5</td>\n",
              "      <td>1</td>\n",
              "      <td>2.0</td>\n",
              "      <td>1.0</td>\n",
              "      <td>41.0</td>\n",
              "      <td>0.9</td>\n",
              "      <td>145.0</td>\n",
              "      <td>5.0</td>\n",
              "      <td>...</td>\n",
              "      <td>1263.0</td>\n",
              "      <td>1716.0</td>\n",
              "      <td>2603.0</td>\n",
              "      <td>11.0</td>\n",
              "      <td>2.0</td>\n",
              "      <td>9</td>\n",
              "      <td>1</td>\n",
              "      <td>1</td>\n",
              "      <td>0</td>\n",
              "      <td>2</td>\n",
              "    </tr>\n",
              "    <tr>\n",
              "      <th>3</th>\n",
              "      <td>615</td>\n",
              "      <td>1</td>\n",
              "      <td>2.5</td>\n",
              "      <td>0</td>\n",
              "      <td>0.0</td>\n",
              "      <td>0.0</td>\n",
              "      <td>10.0</td>\n",
              "      <td>0.8</td>\n",
              "      <td>131.0</td>\n",
              "      <td>6.0</td>\n",
              "      <td>...</td>\n",
              "      <td>1216.0</td>\n",
              "      <td>1786.0</td>\n",
              "      <td>2769.0</td>\n",
              "      <td>16.0</td>\n",
              "      <td>8.0</td>\n",
              "      <td>11</td>\n",
              "      <td>1</td>\n",
              "      <td>0</td>\n",
              "      <td>0</td>\n",
              "      <td>2</td>\n",
              "    </tr>\n",
              "    <tr>\n",
              "      <th>4</th>\n",
              "      <td>1821</td>\n",
              "      <td>1</td>\n",
              "      <td>1.2</td>\n",
              "      <td>0</td>\n",
              "      <td>13.0</td>\n",
              "      <td>1.0</td>\n",
              "      <td>44.0</td>\n",
              "      <td>0.6</td>\n",
              "      <td>141.0</td>\n",
              "      <td>2.0</td>\n",
              "      <td>...</td>\n",
              "      <td>1208.0</td>\n",
              "      <td>1212.0</td>\n",
              "      <td>1411.0</td>\n",
              "      <td>8.0</td>\n",
              "      <td>2.0</td>\n",
              "      <td>15</td>\n",
              "      <td>1</td>\n",
              "      <td>1</td>\n",
              "      <td>0</td>\n",
              "      <td>1</td>\n",
              "    </tr>\n",
              "  </tbody>\n",
              "</table>\n",
              "<p>5 rows × 21 columns</p>\n",
              "</div>\n",
              "    <div class=\"colab-df-buttons\">\n",
              "\n",
              "  <div class=\"colab-df-container\">\n",
              "    <button class=\"colab-df-convert\" onclick=\"convertToInteractive('df-d7be4ce2-7b8b-4e8a-b55a-41fe3dc66f3b')\"\n",
              "            title=\"Convert this dataframe to an interactive table.\"\n",
              "            style=\"display:none;\">\n",
              "\n",
              "  <svg xmlns=\"http://www.w3.org/2000/svg\" height=\"24px\" viewBox=\"0 -960 960 960\">\n",
              "    <path d=\"M120-120v-720h720v720H120Zm60-500h600v-160H180v160Zm220 220h160v-160H400v160Zm0 220h160v-160H400v160ZM180-400h160v-160H180v160Zm440 0h160v-160H620v160ZM180-180h160v-160H180v160Zm440 0h160v-160H620v160Z\"/>\n",
              "  </svg>\n",
              "    </button>\n",
              "\n",
              "  <style>\n",
              "    .colab-df-container {\n",
              "      display:flex;\n",
              "      gap: 12px;\n",
              "    }\n",
              "\n",
              "    .colab-df-convert {\n",
              "      background-color: #E8F0FE;\n",
              "      border: none;\n",
              "      border-radius: 50%;\n",
              "      cursor: pointer;\n",
              "      display: none;\n",
              "      fill: #1967D2;\n",
              "      height: 32px;\n",
              "      padding: 0 0 0 0;\n",
              "      width: 32px;\n",
              "    }\n",
              "\n",
              "    .colab-df-convert:hover {\n",
              "      background-color: #E2EBFA;\n",
              "      box-shadow: 0px 1px 2px rgba(60, 64, 67, 0.3), 0px 1px 3px 1px rgba(60, 64, 67, 0.15);\n",
              "      fill: #174EA6;\n",
              "    }\n",
              "\n",
              "    .colab-df-buttons div {\n",
              "      margin-bottom: 4px;\n",
              "    }\n",
              "\n",
              "    [theme=dark] .colab-df-convert {\n",
              "      background-color: #3B4455;\n",
              "      fill: #D2E3FC;\n",
              "    }\n",
              "\n",
              "    [theme=dark] .colab-df-convert:hover {\n",
              "      background-color: #434B5C;\n",
              "      box-shadow: 0px 1px 3px 1px rgba(0, 0, 0, 0.15);\n",
              "      filter: drop-shadow(0px 1px 2px rgba(0, 0, 0, 0.3));\n",
              "      fill: #FFFFFF;\n",
              "    }\n",
              "  </style>\n",
              "\n",
              "    <script>\n",
              "      const buttonEl =\n",
              "        document.querySelector('#df-d7be4ce2-7b8b-4e8a-b55a-41fe3dc66f3b button.colab-df-convert');\n",
              "      buttonEl.style.display =\n",
              "        google.colab.kernel.accessAllowed ? 'block' : 'none';\n",
              "\n",
              "      async function convertToInteractive(key) {\n",
              "        const element = document.querySelector('#df-d7be4ce2-7b8b-4e8a-b55a-41fe3dc66f3b');\n",
              "        const dataTable =\n",
              "          await google.colab.kernel.invokeFunction('convertToInteractive',\n",
              "                                                    [key], {});\n",
              "        if (!dataTable) return;\n",
              "\n",
              "        const docLinkHtml = 'Like what you see? Visit the ' +\n",
              "          '<a target=\"_blank\" href=https://colab.research.google.com/notebooks/data_table.ipynb>data table notebook</a>'\n",
              "          + ' to learn more about interactive tables.';\n",
              "        element.innerHTML = '';\n",
              "        dataTable['output_type'] = 'display_data';\n",
              "        await google.colab.output.renderOutput(dataTable, element);\n",
              "        const docLink = document.createElement('div');\n",
              "        docLink.innerHTML = docLinkHtml;\n",
              "        element.appendChild(docLink);\n",
              "      }\n",
              "    </script>\n",
              "  </div>\n",
              "\n",
              "\n",
              "<div id=\"df-ea56e9bf-8e5e-42d6-b7de-76a69f55e067\">\n",
              "  <button class=\"colab-df-quickchart\" onclick=\"quickchart('df-ea56e9bf-8e5e-42d6-b7de-76a69f55e067')\"\n",
              "            title=\"Suggest charts\"\n",
              "            style=\"display:none;\">\n",
              "\n",
              "<svg xmlns=\"http://www.w3.org/2000/svg\" height=\"24px\"viewBox=\"0 0 24 24\"\n",
              "     width=\"24px\">\n",
              "    <g>\n",
              "        <path d=\"M19 3H5c-1.1 0-2 .9-2 2v14c0 1.1.9 2 2 2h14c1.1 0 2-.9 2-2V5c0-1.1-.9-2-2-2zM9 17H7v-7h2v7zm4 0h-2V7h2v10zm4 0h-2v-4h2v4z\"/>\n",
              "    </g>\n",
              "</svg>\n",
              "  </button>\n",
              "\n",
              "<style>\n",
              "  .colab-df-quickchart {\n",
              "      --bg-color: #E8F0FE;\n",
              "      --fill-color: #1967D2;\n",
              "      --hover-bg-color: #E2EBFA;\n",
              "      --hover-fill-color: #174EA6;\n",
              "      --disabled-fill-color: #AAA;\n",
              "      --disabled-bg-color: #DDD;\n",
              "  }\n",
              "\n",
              "  [theme=dark] .colab-df-quickchart {\n",
              "      --bg-color: #3B4455;\n",
              "      --fill-color: #D2E3FC;\n",
              "      --hover-bg-color: #434B5C;\n",
              "      --hover-fill-color: #FFFFFF;\n",
              "      --disabled-bg-color: #3B4455;\n",
              "      --disabled-fill-color: #666;\n",
              "  }\n",
              "\n",
              "  .colab-df-quickchart {\n",
              "    background-color: var(--bg-color);\n",
              "    border: none;\n",
              "    border-radius: 50%;\n",
              "    cursor: pointer;\n",
              "    display: none;\n",
              "    fill: var(--fill-color);\n",
              "    height: 32px;\n",
              "    padding: 0;\n",
              "    width: 32px;\n",
              "  }\n",
              "\n",
              "  .colab-df-quickchart:hover {\n",
              "    background-color: var(--hover-bg-color);\n",
              "    box-shadow: 0 1px 2px rgba(60, 64, 67, 0.3), 0 1px 3px 1px rgba(60, 64, 67, 0.15);\n",
              "    fill: var(--button-hover-fill-color);\n",
              "  }\n",
              "\n",
              "  .colab-df-quickchart-complete:disabled,\n",
              "  .colab-df-quickchart-complete:disabled:hover {\n",
              "    background-color: var(--disabled-bg-color);\n",
              "    fill: var(--disabled-fill-color);\n",
              "    box-shadow: none;\n",
              "  }\n",
              "\n",
              "  .colab-df-spinner {\n",
              "    border: 2px solid var(--fill-color);\n",
              "    border-color: transparent;\n",
              "    border-bottom-color: var(--fill-color);\n",
              "    animation:\n",
              "      spin 1s steps(1) infinite;\n",
              "  }\n",
              "\n",
              "  @keyframes spin {\n",
              "    0% {\n",
              "      border-color: transparent;\n",
              "      border-bottom-color: var(--fill-color);\n",
              "      border-left-color: var(--fill-color);\n",
              "    }\n",
              "    20% {\n",
              "      border-color: transparent;\n",
              "      border-left-color: var(--fill-color);\n",
              "      border-top-color: var(--fill-color);\n",
              "    }\n",
              "    30% {\n",
              "      border-color: transparent;\n",
              "      border-left-color: var(--fill-color);\n",
              "      border-top-color: var(--fill-color);\n",
              "      border-right-color: var(--fill-color);\n",
              "    }\n",
              "    40% {\n",
              "      border-color: transparent;\n",
              "      border-right-color: var(--fill-color);\n",
              "      border-top-color: var(--fill-color);\n",
              "    }\n",
              "    60% {\n",
              "      border-color: transparent;\n",
              "      border-right-color: var(--fill-color);\n",
              "    }\n",
              "    80% {\n",
              "      border-color: transparent;\n",
              "      border-right-color: var(--fill-color);\n",
              "      border-bottom-color: var(--fill-color);\n",
              "    }\n",
              "    90% {\n",
              "      border-color: transparent;\n",
              "      border-bottom-color: var(--fill-color);\n",
              "    }\n",
              "  }\n",
              "</style>\n",
              "\n",
              "  <script>\n",
              "    async function quickchart(key) {\n",
              "      const quickchartButtonEl =\n",
              "        document.querySelector('#' + key + ' button');\n",
              "      quickchartButtonEl.disabled = true;  // To prevent multiple clicks.\n",
              "      quickchartButtonEl.classList.add('colab-df-spinner');\n",
              "      try {\n",
              "        const charts = await google.colab.kernel.invokeFunction(\n",
              "            'suggestCharts', [key], {});\n",
              "      } catch (error) {\n",
              "        console.error('Error during call to suggestCharts:', error);\n",
              "      }\n",
              "      quickchartButtonEl.classList.remove('colab-df-spinner');\n",
              "      quickchartButtonEl.classList.add('colab-df-quickchart-complete');\n",
              "    }\n",
              "    (() => {\n",
              "      let quickchartButtonEl =\n",
              "        document.querySelector('#df-ea56e9bf-8e5e-42d6-b7de-76a69f55e067 button');\n",
              "      quickchartButtonEl.style.display =\n",
              "        google.colab.kernel.accessAllowed ? 'block' : 'none';\n",
              "    })();\n",
              "  </script>\n",
              "</div>\n",
              "\n",
              "    </div>\n",
              "  </div>\n"
            ],
            "application/vnd.google.colaboratory.intrinsic+json": {
              "type": "dataframe",
              "variable_name": "df_train"
            }
          },
          "metadata": {},
          "execution_count": 4
        }
      ],
      "source": [
        "df_train = pd.read_csv(\"/content/drive/MyDrive/datasets/train.csv\")\n",
        "df_train.head()"
      ]
    },
    {
      "cell_type": "code",
      "source": [
        "df_train[df_train['four_g'].isnull()]"
      ],
      "metadata": {
        "colab": {
          "base_uri": "https://localhost:8080/",
          "height": 0
        },
        "id": "aXHznsHd7Ts7",
        "outputId": "350f46c7-d10c-4c44-ab71-1824b130c40c"
      },
      "execution_count": 5,
      "outputs": [
        {
          "output_type": "execute_result",
          "data": {
            "text/plain": [
              "     battery_power  blue  clock_speed  dual_sim  fc  four_g  int_memory  \\\n",
              "157           1224     0          0.5         0 NaN     NaN         NaN   \n",
              "158           1356     0          2.8         0 NaN     NaN         NaN   \n",
              "261            728     0          2.7         1 NaN     NaN         NaN   \n",
              "276           1662     0          0.5         0 NaN     NaN         NaN   \n",
              "371           1011     0          1.1         0 NaN     NaN         NaN   \n",
              "\n",
              "     m_dep  mobile_wt  n_cores  ...  px_height  px_width     ram  sc_h  sc_w  \\\n",
              "157    NaN        NaN      NaN  ...      747.0     826.0   506.0  10.0   0.0   \n",
              "158    NaN        NaN      NaN  ...     1612.0    1983.0  3702.0  17.0   0.0   \n",
              "261    NaN        NaN      NaN  ...        NaN       NaN     NaN   5.0   1.0   \n",
              "276    0.8      126.0      4.0  ...       32.0    1509.0  3760.0   9.0   5.0   \n",
              "371    NaN        NaN      NaN  ...      481.0     749.0  2261.0   7.0   6.0   \n",
              "\n",
              "     talk_time  three_g  touch_screen  wifi  price_range  \n",
              "157         11        1             1     1            0  \n",
              "158         19        0             0     0            3  \n",
              "261         12        1             1     1            1  \n",
              "276         13        1             1     1            3  \n",
              "371         16        1             1     1            1  \n",
              "\n",
              "[5 rows x 21 columns]"
            ],
            "text/html": [
              "\n",
              "  <div id=\"df-64ef52bd-3cd6-4ae8-a89e-f460b9c44874\" class=\"colab-df-container\">\n",
              "    <div>\n",
              "<style scoped>\n",
              "    .dataframe tbody tr th:only-of-type {\n",
              "        vertical-align: middle;\n",
              "    }\n",
              "\n",
              "    .dataframe tbody tr th {\n",
              "        vertical-align: top;\n",
              "    }\n",
              "\n",
              "    .dataframe thead th {\n",
              "        text-align: right;\n",
              "    }\n",
              "</style>\n",
              "<table border=\"1\" class=\"dataframe\">\n",
              "  <thead>\n",
              "    <tr style=\"text-align: right;\">\n",
              "      <th></th>\n",
              "      <th>battery_power</th>\n",
              "      <th>blue</th>\n",
              "      <th>clock_speed</th>\n",
              "      <th>dual_sim</th>\n",
              "      <th>fc</th>\n",
              "      <th>four_g</th>\n",
              "      <th>int_memory</th>\n",
              "      <th>m_dep</th>\n",
              "      <th>mobile_wt</th>\n",
              "      <th>n_cores</th>\n",
              "      <th>...</th>\n",
              "      <th>px_height</th>\n",
              "      <th>px_width</th>\n",
              "      <th>ram</th>\n",
              "      <th>sc_h</th>\n",
              "      <th>sc_w</th>\n",
              "      <th>talk_time</th>\n",
              "      <th>three_g</th>\n",
              "      <th>touch_screen</th>\n",
              "      <th>wifi</th>\n",
              "      <th>price_range</th>\n",
              "    </tr>\n",
              "  </thead>\n",
              "  <tbody>\n",
              "    <tr>\n",
              "      <th>157</th>\n",
              "      <td>1224</td>\n",
              "      <td>0</td>\n",
              "      <td>0.5</td>\n",
              "      <td>0</td>\n",
              "      <td>NaN</td>\n",
              "      <td>NaN</td>\n",
              "      <td>NaN</td>\n",
              "      <td>NaN</td>\n",
              "      <td>NaN</td>\n",
              "      <td>NaN</td>\n",
              "      <td>...</td>\n",
              "      <td>747.0</td>\n",
              "      <td>826.0</td>\n",
              "      <td>506.0</td>\n",
              "      <td>10.0</td>\n",
              "      <td>0.0</td>\n",
              "      <td>11</td>\n",
              "      <td>1</td>\n",
              "      <td>1</td>\n",
              "      <td>1</td>\n",
              "      <td>0</td>\n",
              "    </tr>\n",
              "    <tr>\n",
              "      <th>158</th>\n",
              "      <td>1356</td>\n",
              "      <td>0</td>\n",
              "      <td>2.8</td>\n",
              "      <td>0</td>\n",
              "      <td>NaN</td>\n",
              "      <td>NaN</td>\n",
              "      <td>NaN</td>\n",
              "      <td>NaN</td>\n",
              "      <td>NaN</td>\n",
              "      <td>NaN</td>\n",
              "      <td>...</td>\n",
              "      <td>1612.0</td>\n",
              "      <td>1983.0</td>\n",
              "      <td>3702.0</td>\n",
              "      <td>17.0</td>\n",
              "      <td>0.0</td>\n",
              "      <td>19</td>\n",
              "      <td>0</td>\n",
              "      <td>0</td>\n",
              "      <td>0</td>\n",
              "      <td>3</td>\n",
              "    </tr>\n",
              "    <tr>\n",
              "      <th>261</th>\n",
              "      <td>728</td>\n",
              "      <td>0</td>\n",
              "      <td>2.7</td>\n",
              "      <td>1</td>\n",
              "      <td>NaN</td>\n",
              "      <td>NaN</td>\n",
              "      <td>NaN</td>\n",
              "      <td>NaN</td>\n",
              "      <td>NaN</td>\n",
              "      <td>NaN</td>\n",
              "      <td>...</td>\n",
              "      <td>NaN</td>\n",
              "      <td>NaN</td>\n",
              "      <td>NaN</td>\n",
              "      <td>5.0</td>\n",
              "      <td>1.0</td>\n",
              "      <td>12</td>\n",
              "      <td>1</td>\n",
              "      <td>1</td>\n",
              "      <td>1</td>\n",
              "      <td>1</td>\n",
              "    </tr>\n",
              "    <tr>\n",
              "      <th>276</th>\n",
              "      <td>1662</td>\n",
              "      <td>0</td>\n",
              "      <td>0.5</td>\n",
              "      <td>0</td>\n",
              "      <td>NaN</td>\n",
              "      <td>NaN</td>\n",
              "      <td>NaN</td>\n",
              "      <td>0.8</td>\n",
              "      <td>126.0</td>\n",
              "      <td>4.0</td>\n",
              "      <td>...</td>\n",
              "      <td>32.0</td>\n",
              "      <td>1509.0</td>\n",
              "      <td>3760.0</td>\n",
              "      <td>9.0</td>\n",
              "      <td>5.0</td>\n",
              "      <td>13</td>\n",
              "      <td>1</td>\n",
              "      <td>1</td>\n",
              "      <td>1</td>\n",
              "      <td>3</td>\n",
              "    </tr>\n",
              "    <tr>\n",
              "      <th>371</th>\n",
              "      <td>1011</td>\n",
              "      <td>0</td>\n",
              "      <td>1.1</td>\n",
              "      <td>0</td>\n",
              "      <td>NaN</td>\n",
              "      <td>NaN</td>\n",
              "      <td>NaN</td>\n",
              "      <td>NaN</td>\n",
              "      <td>NaN</td>\n",
              "      <td>NaN</td>\n",
              "      <td>...</td>\n",
              "      <td>481.0</td>\n",
              "      <td>749.0</td>\n",
              "      <td>2261.0</td>\n",
              "      <td>7.0</td>\n",
              "      <td>6.0</td>\n",
              "      <td>16</td>\n",
              "      <td>1</td>\n",
              "      <td>1</td>\n",
              "      <td>1</td>\n",
              "      <td>1</td>\n",
              "    </tr>\n",
              "  </tbody>\n",
              "</table>\n",
              "<p>5 rows × 21 columns</p>\n",
              "</div>\n",
              "    <div class=\"colab-df-buttons\">\n",
              "\n",
              "  <div class=\"colab-df-container\">\n",
              "    <button class=\"colab-df-convert\" onclick=\"convertToInteractive('df-64ef52bd-3cd6-4ae8-a89e-f460b9c44874')\"\n",
              "            title=\"Convert this dataframe to an interactive table.\"\n",
              "            style=\"display:none;\">\n",
              "\n",
              "  <svg xmlns=\"http://www.w3.org/2000/svg\" height=\"24px\" viewBox=\"0 -960 960 960\">\n",
              "    <path d=\"M120-120v-720h720v720H120Zm60-500h600v-160H180v160Zm220 220h160v-160H400v160Zm0 220h160v-160H400v160ZM180-400h160v-160H180v160Zm440 0h160v-160H620v160ZM180-180h160v-160H180v160Zm440 0h160v-160H620v160Z\"/>\n",
              "  </svg>\n",
              "    </button>\n",
              "\n",
              "  <style>\n",
              "    .colab-df-container {\n",
              "      display:flex;\n",
              "      gap: 12px;\n",
              "    }\n",
              "\n",
              "    .colab-df-convert {\n",
              "      background-color: #E8F0FE;\n",
              "      border: none;\n",
              "      border-radius: 50%;\n",
              "      cursor: pointer;\n",
              "      display: none;\n",
              "      fill: #1967D2;\n",
              "      height: 32px;\n",
              "      padding: 0 0 0 0;\n",
              "      width: 32px;\n",
              "    }\n",
              "\n",
              "    .colab-df-convert:hover {\n",
              "      background-color: #E2EBFA;\n",
              "      box-shadow: 0px 1px 2px rgba(60, 64, 67, 0.3), 0px 1px 3px 1px rgba(60, 64, 67, 0.15);\n",
              "      fill: #174EA6;\n",
              "    }\n",
              "\n",
              "    .colab-df-buttons div {\n",
              "      margin-bottom: 4px;\n",
              "    }\n",
              "\n",
              "    [theme=dark] .colab-df-convert {\n",
              "      background-color: #3B4455;\n",
              "      fill: #D2E3FC;\n",
              "    }\n",
              "\n",
              "    [theme=dark] .colab-df-convert:hover {\n",
              "      background-color: #434B5C;\n",
              "      box-shadow: 0px 1px 3px 1px rgba(0, 0, 0, 0.15);\n",
              "      filter: drop-shadow(0px 1px 2px rgba(0, 0, 0, 0.3));\n",
              "      fill: #FFFFFF;\n",
              "    }\n",
              "  </style>\n",
              "\n",
              "    <script>\n",
              "      const buttonEl =\n",
              "        document.querySelector('#df-64ef52bd-3cd6-4ae8-a89e-f460b9c44874 button.colab-df-convert');\n",
              "      buttonEl.style.display =\n",
              "        google.colab.kernel.accessAllowed ? 'block' : 'none';\n",
              "\n",
              "      async function convertToInteractive(key) {\n",
              "        const element = document.querySelector('#df-64ef52bd-3cd6-4ae8-a89e-f460b9c44874');\n",
              "        const dataTable =\n",
              "          await google.colab.kernel.invokeFunction('convertToInteractive',\n",
              "                                                    [key], {});\n",
              "        if (!dataTable) return;\n",
              "\n",
              "        const docLinkHtml = 'Like what you see? Visit the ' +\n",
              "          '<a target=\"_blank\" href=https://colab.research.google.com/notebooks/data_table.ipynb>data table notebook</a>'\n",
              "          + ' to learn more about interactive tables.';\n",
              "        element.innerHTML = '';\n",
              "        dataTable['output_type'] = 'display_data';\n",
              "        await google.colab.output.renderOutput(dataTable, element);\n",
              "        const docLink = document.createElement('div');\n",
              "        docLink.innerHTML = docLinkHtml;\n",
              "        element.appendChild(docLink);\n",
              "      }\n",
              "    </script>\n",
              "  </div>\n",
              "\n",
              "\n",
              "<div id=\"df-f8880e84-8b70-4f51-aec9-f4087ae20282\">\n",
              "  <button class=\"colab-df-quickchart\" onclick=\"quickchart('df-f8880e84-8b70-4f51-aec9-f4087ae20282')\"\n",
              "            title=\"Suggest charts\"\n",
              "            style=\"display:none;\">\n",
              "\n",
              "<svg xmlns=\"http://www.w3.org/2000/svg\" height=\"24px\"viewBox=\"0 0 24 24\"\n",
              "     width=\"24px\">\n",
              "    <g>\n",
              "        <path d=\"M19 3H5c-1.1 0-2 .9-2 2v14c0 1.1.9 2 2 2h14c1.1 0 2-.9 2-2V5c0-1.1-.9-2-2-2zM9 17H7v-7h2v7zm4 0h-2V7h2v10zm4 0h-2v-4h2v4z\"/>\n",
              "    </g>\n",
              "</svg>\n",
              "  </button>\n",
              "\n",
              "<style>\n",
              "  .colab-df-quickchart {\n",
              "      --bg-color: #E8F0FE;\n",
              "      --fill-color: #1967D2;\n",
              "      --hover-bg-color: #E2EBFA;\n",
              "      --hover-fill-color: #174EA6;\n",
              "      --disabled-fill-color: #AAA;\n",
              "      --disabled-bg-color: #DDD;\n",
              "  }\n",
              "\n",
              "  [theme=dark] .colab-df-quickchart {\n",
              "      --bg-color: #3B4455;\n",
              "      --fill-color: #D2E3FC;\n",
              "      --hover-bg-color: #434B5C;\n",
              "      --hover-fill-color: #FFFFFF;\n",
              "      --disabled-bg-color: #3B4455;\n",
              "      --disabled-fill-color: #666;\n",
              "  }\n",
              "\n",
              "  .colab-df-quickchart {\n",
              "    background-color: var(--bg-color);\n",
              "    border: none;\n",
              "    border-radius: 50%;\n",
              "    cursor: pointer;\n",
              "    display: none;\n",
              "    fill: var(--fill-color);\n",
              "    height: 32px;\n",
              "    padding: 0;\n",
              "    width: 32px;\n",
              "  }\n",
              "\n",
              "  .colab-df-quickchart:hover {\n",
              "    background-color: var(--hover-bg-color);\n",
              "    box-shadow: 0 1px 2px rgba(60, 64, 67, 0.3), 0 1px 3px 1px rgba(60, 64, 67, 0.15);\n",
              "    fill: var(--button-hover-fill-color);\n",
              "  }\n",
              "\n",
              "  .colab-df-quickchart-complete:disabled,\n",
              "  .colab-df-quickchart-complete:disabled:hover {\n",
              "    background-color: var(--disabled-bg-color);\n",
              "    fill: var(--disabled-fill-color);\n",
              "    box-shadow: none;\n",
              "  }\n",
              "\n",
              "  .colab-df-spinner {\n",
              "    border: 2px solid var(--fill-color);\n",
              "    border-color: transparent;\n",
              "    border-bottom-color: var(--fill-color);\n",
              "    animation:\n",
              "      spin 1s steps(1) infinite;\n",
              "  }\n",
              "\n",
              "  @keyframes spin {\n",
              "    0% {\n",
              "      border-color: transparent;\n",
              "      border-bottom-color: var(--fill-color);\n",
              "      border-left-color: var(--fill-color);\n",
              "    }\n",
              "    20% {\n",
              "      border-color: transparent;\n",
              "      border-left-color: var(--fill-color);\n",
              "      border-top-color: var(--fill-color);\n",
              "    }\n",
              "    30% {\n",
              "      border-color: transparent;\n",
              "      border-left-color: var(--fill-color);\n",
              "      border-top-color: var(--fill-color);\n",
              "      border-right-color: var(--fill-color);\n",
              "    }\n",
              "    40% {\n",
              "      border-color: transparent;\n",
              "      border-right-color: var(--fill-color);\n",
              "      border-top-color: var(--fill-color);\n",
              "    }\n",
              "    60% {\n",
              "      border-color: transparent;\n",
              "      border-right-color: var(--fill-color);\n",
              "    }\n",
              "    80% {\n",
              "      border-color: transparent;\n",
              "      border-right-color: var(--fill-color);\n",
              "      border-bottom-color: var(--fill-color);\n",
              "    }\n",
              "    90% {\n",
              "      border-color: transparent;\n",
              "      border-bottom-color: var(--fill-color);\n",
              "    }\n",
              "  }\n",
              "</style>\n",
              "\n",
              "  <script>\n",
              "    async function quickchart(key) {\n",
              "      const quickchartButtonEl =\n",
              "        document.querySelector('#' + key + ' button');\n",
              "      quickchartButtonEl.disabled = true;  // To prevent multiple clicks.\n",
              "      quickchartButtonEl.classList.add('colab-df-spinner');\n",
              "      try {\n",
              "        const charts = await google.colab.kernel.invokeFunction(\n",
              "            'suggestCharts', [key], {});\n",
              "      } catch (error) {\n",
              "        console.error('Error during call to suggestCharts:', error);\n",
              "      }\n",
              "      quickchartButtonEl.classList.remove('colab-df-spinner');\n",
              "      quickchartButtonEl.classList.add('colab-df-quickchart-complete');\n",
              "    }\n",
              "    (() => {\n",
              "      let quickchartButtonEl =\n",
              "        document.querySelector('#df-f8880e84-8b70-4f51-aec9-f4087ae20282 button');\n",
              "      quickchartButtonEl.style.display =\n",
              "        google.colab.kernel.accessAllowed ? 'block' : 'none';\n",
              "    })();\n",
              "  </script>\n",
              "</div>\n",
              "\n",
              "    </div>\n",
              "  </div>\n"
            ],
            "application/vnd.google.colaboratory.intrinsic+json": {
              "type": "dataframe"
            }
          },
          "metadata": {},
          "execution_count": 5
        }
      ]
    },
    {
      "cell_type": "code",
      "source": [
        "df_train.shape"
      ],
      "metadata": {
        "colab": {
          "base_uri": "https://localhost:8080/"
        },
        "id": "VWYLgZTF--TD",
        "outputId": "e805f207-a4e8-4fd8-f7ba-38e32c2959ab"
      },
      "execution_count": 6,
      "outputs": [
        {
          "output_type": "execute_result",
          "data": {
            "text/plain": [
              "(2000, 21)"
            ]
          },
          "metadata": {},
          "execution_count": 6
        }
      ]
    },
    {
      "cell_type": "code",
      "source": [
        "df_test = pd.read_csv(\"/content/drive/MyDrive/datasets/test.csv\")\n",
        "df_test.head()"
      ],
      "metadata": {
        "colab": {
          "base_uri": "https://localhost:8080/",
          "height": 0
        },
        "id": "too4XPUt9zO3",
        "outputId": "923cfba4-6346-4c51-baaf-00d8b26f99d0"
      },
      "execution_count": 7,
      "outputs": [
        {
          "output_type": "execute_result",
          "data": {
            "text/plain": [
              "   id  battery_power  blue  clock_speed  dual_sim  fc  four_g  int_memory  \\\n",
              "0   1           1043     1          1.8         1  14       0           5   \n",
              "1   2            841     1          0.5         1   4       1          61   \n",
              "2   3           1807     1          2.8         0   1       0          27   \n",
              "3   4           1546     0          0.5         1  18       1          25   \n",
              "4   5           1434     0          1.4         0  11       1          49   \n",
              "\n",
              "   m_dep  mobile_wt  ...  pc  px_height  px_width   ram  sc_h  sc_w  \\\n",
              "0    0.1        193  ...  16        226      1412  3476    12     7   \n",
              "1    0.8        191  ...  12        746       857  3895     6     0   \n",
              "2    0.9        186  ...   4       1270      1366  2396    17    10   \n",
              "3    0.5         96  ...  20        295      1752  3893    10     0   \n",
              "4    0.5        108  ...  18        749       810  1773    15     8   \n",
              "\n",
              "   talk_time  three_g  touch_screen  wifi  \n",
              "0          2        0             1     0  \n",
              "1          7        1             0     0  \n",
              "2         10        0             1     1  \n",
              "3          7        1             1     0  \n",
              "4          7        1             0     1  \n",
              "\n",
              "[5 rows x 21 columns]"
            ],
            "text/html": [
              "\n",
              "  <div id=\"df-9db18134-8570-4c8e-ba10-b03830c64e74\" class=\"colab-df-container\">\n",
              "    <div>\n",
              "<style scoped>\n",
              "    .dataframe tbody tr th:only-of-type {\n",
              "        vertical-align: middle;\n",
              "    }\n",
              "\n",
              "    .dataframe tbody tr th {\n",
              "        vertical-align: top;\n",
              "    }\n",
              "\n",
              "    .dataframe thead th {\n",
              "        text-align: right;\n",
              "    }\n",
              "</style>\n",
              "<table border=\"1\" class=\"dataframe\">\n",
              "  <thead>\n",
              "    <tr style=\"text-align: right;\">\n",
              "      <th></th>\n",
              "      <th>id</th>\n",
              "      <th>battery_power</th>\n",
              "      <th>blue</th>\n",
              "      <th>clock_speed</th>\n",
              "      <th>dual_sim</th>\n",
              "      <th>fc</th>\n",
              "      <th>four_g</th>\n",
              "      <th>int_memory</th>\n",
              "      <th>m_dep</th>\n",
              "      <th>mobile_wt</th>\n",
              "      <th>...</th>\n",
              "      <th>pc</th>\n",
              "      <th>px_height</th>\n",
              "      <th>px_width</th>\n",
              "      <th>ram</th>\n",
              "      <th>sc_h</th>\n",
              "      <th>sc_w</th>\n",
              "      <th>talk_time</th>\n",
              "      <th>three_g</th>\n",
              "      <th>touch_screen</th>\n",
              "      <th>wifi</th>\n",
              "    </tr>\n",
              "  </thead>\n",
              "  <tbody>\n",
              "    <tr>\n",
              "      <th>0</th>\n",
              "      <td>1</td>\n",
              "      <td>1043</td>\n",
              "      <td>1</td>\n",
              "      <td>1.8</td>\n",
              "      <td>1</td>\n",
              "      <td>14</td>\n",
              "      <td>0</td>\n",
              "      <td>5</td>\n",
              "      <td>0.1</td>\n",
              "      <td>193</td>\n",
              "      <td>...</td>\n",
              "      <td>16</td>\n",
              "      <td>226</td>\n",
              "      <td>1412</td>\n",
              "      <td>3476</td>\n",
              "      <td>12</td>\n",
              "      <td>7</td>\n",
              "      <td>2</td>\n",
              "      <td>0</td>\n",
              "      <td>1</td>\n",
              "      <td>0</td>\n",
              "    </tr>\n",
              "    <tr>\n",
              "      <th>1</th>\n",
              "      <td>2</td>\n",
              "      <td>841</td>\n",
              "      <td>1</td>\n",
              "      <td>0.5</td>\n",
              "      <td>1</td>\n",
              "      <td>4</td>\n",
              "      <td>1</td>\n",
              "      <td>61</td>\n",
              "      <td>0.8</td>\n",
              "      <td>191</td>\n",
              "      <td>...</td>\n",
              "      <td>12</td>\n",
              "      <td>746</td>\n",
              "      <td>857</td>\n",
              "      <td>3895</td>\n",
              "      <td>6</td>\n",
              "      <td>0</td>\n",
              "      <td>7</td>\n",
              "      <td>1</td>\n",
              "      <td>0</td>\n",
              "      <td>0</td>\n",
              "    </tr>\n",
              "    <tr>\n",
              "      <th>2</th>\n",
              "      <td>3</td>\n",
              "      <td>1807</td>\n",
              "      <td>1</td>\n",
              "      <td>2.8</td>\n",
              "      <td>0</td>\n",
              "      <td>1</td>\n",
              "      <td>0</td>\n",
              "      <td>27</td>\n",
              "      <td>0.9</td>\n",
              "      <td>186</td>\n",
              "      <td>...</td>\n",
              "      <td>4</td>\n",
              "      <td>1270</td>\n",
              "      <td>1366</td>\n",
              "      <td>2396</td>\n",
              "      <td>17</td>\n",
              "      <td>10</td>\n",
              "      <td>10</td>\n",
              "      <td>0</td>\n",
              "      <td>1</td>\n",
              "      <td>1</td>\n",
              "    </tr>\n",
              "    <tr>\n",
              "      <th>3</th>\n",
              "      <td>4</td>\n",
              "      <td>1546</td>\n",
              "      <td>0</td>\n",
              "      <td>0.5</td>\n",
              "      <td>1</td>\n",
              "      <td>18</td>\n",
              "      <td>1</td>\n",
              "      <td>25</td>\n",
              "      <td>0.5</td>\n",
              "      <td>96</td>\n",
              "      <td>...</td>\n",
              "      <td>20</td>\n",
              "      <td>295</td>\n",
              "      <td>1752</td>\n",
              "      <td>3893</td>\n",
              "      <td>10</td>\n",
              "      <td>0</td>\n",
              "      <td>7</td>\n",
              "      <td>1</td>\n",
              "      <td>1</td>\n",
              "      <td>0</td>\n",
              "    </tr>\n",
              "    <tr>\n",
              "      <th>4</th>\n",
              "      <td>5</td>\n",
              "      <td>1434</td>\n",
              "      <td>0</td>\n",
              "      <td>1.4</td>\n",
              "      <td>0</td>\n",
              "      <td>11</td>\n",
              "      <td>1</td>\n",
              "      <td>49</td>\n",
              "      <td>0.5</td>\n",
              "      <td>108</td>\n",
              "      <td>...</td>\n",
              "      <td>18</td>\n",
              "      <td>749</td>\n",
              "      <td>810</td>\n",
              "      <td>1773</td>\n",
              "      <td>15</td>\n",
              "      <td>8</td>\n",
              "      <td>7</td>\n",
              "      <td>1</td>\n",
              "      <td>0</td>\n",
              "      <td>1</td>\n",
              "    </tr>\n",
              "  </tbody>\n",
              "</table>\n",
              "<p>5 rows × 21 columns</p>\n",
              "</div>\n",
              "    <div class=\"colab-df-buttons\">\n",
              "\n",
              "  <div class=\"colab-df-container\">\n",
              "    <button class=\"colab-df-convert\" onclick=\"convertToInteractive('df-9db18134-8570-4c8e-ba10-b03830c64e74')\"\n",
              "            title=\"Convert this dataframe to an interactive table.\"\n",
              "            style=\"display:none;\">\n",
              "\n",
              "  <svg xmlns=\"http://www.w3.org/2000/svg\" height=\"24px\" viewBox=\"0 -960 960 960\">\n",
              "    <path d=\"M120-120v-720h720v720H120Zm60-500h600v-160H180v160Zm220 220h160v-160H400v160Zm0 220h160v-160H400v160ZM180-400h160v-160H180v160Zm440 0h160v-160H620v160ZM180-180h160v-160H180v160Zm440 0h160v-160H620v160Z\"/>\n",
              "  </svg>\n",
              "    </button>\n",
              "\n",
              "  <style>\n",
              "    .colab-df-container {\n",
              "      display:flex;\n",
              "      gap: 12px;\n",
              "    }\n",
              "\n",
              "    .colab-df-convert {\n",
              "      background-color: #E8F0FE;\n",
              "      border: none;\n",
              "      border-radius: 50%;\n",
              "      cursor: pointer;\n",
              "      display: none;\n",
              "      fill: #1967D2;\n",
              "      height: 32px;\n",
              "      padding: 0 0 0 0;\n",
              "      width: 32px;\n",
              "    }\n",
              "\n",
              "    .colab-df-convert:hover {\n",
              "      background-color: #E2EBFA;\n",
              "      box-shadow: 0px 1px 2px rgba(60, 64, 67, 0.3), 0px 1px 3px 1px rgba(60, 64, 67, 0.15);\n",
              "      fill: #174EA6;\n",
              "    }\n",
              "\n",
              "    .colab-df-buttons div {\n",
              "      margin-bottom: 4px;\n",
              "    }\n",
              "\n",
              "    [theme=dark] .colab-df-convert {\n",
              "      background-color: #3B4455;\n",
              "      fill: #D2E3FC;\n",
              "    }\n",
              "\n",
              "    [theme=dark] .colab-df-convert:hover {\n",
              "      background-color: #434B5C;\n",
              "      box-shadow: 0px 1px 3px 1px rgba(0, 0, 0, 0.15);\n",
              "      filter: drop-shadow(0px 1px 2px rgba(0, 0, 0, 0.3));\n",
              "      fill: #FFFFFF;\n",
              "    }\n",
              "  </style>\n",
              "\n",
              "    <script>\n",
              "      const buttonEl =\n",
              "        document.querySelector('#df-9db18134-8570-4c8e-ba10-b03830c64e74 button.colab-df-convert');\n",
              "      buttonEl.style.display =\n",
              "        google.colab.kernel.accessAllowed ? 'block' : 'none';\n",
              "\n",
              "      async function convertToInteractive(key) {\n",
              "        const element = document.querySelector('#df-9db18134-8570-4c8e-ba10-b03830c64e74');\n",
              "        const dataTable =\n",
              "          await google.colab.kernel.invokeFunction('convertToInteractive',\n",
              "                                                    [key], {});\n",
              "        if (!dataTable) return;\n",
              "\n",
              "        const docLinkHtml = 'Like what you see? Visit the ' +\n",
              "          '<a target=\"_blank\" href=https://colab.research.google.com/notebooks/data_table.ipynb>data table notebook</a>'\n",
              "          + ' to learn more about interactive tables.';\n",
              "        element.innerHTML = '';\n",
              "        dataTable['output_type'] = 'display_data';\n",
              "        await google.colab.output.renderOutput(dataTable, element);\n",
              "        const docLink = document.createElement('div');\n",
              "        docLink.innerHTML = docLinkHtml;\n",
              "        element.appendChild(docLink);\n",
              "      }\n",
              "    </script>\n",
              "  </div>\n",
              "\n",
              "\n",
              "<div id=\"df-2e307038-f882-4abc-a5d3-9091ea15d432\">\n",
              "  <button class=\"colab-df-quickchart\" onclick=\"quickchart('df-2e307038-f882-4abc-a5d3-9091ea15d432')\"\n",
              "            title=\"Suggest charts\"\n",
              "            style=\"display:none;\">\n",
              "\n",
              "<svg xmlns=\"http://www.w3.org/2000/svg\" height=\"24px\"viewBox=\"0 0 24 24\"\n",
              "     width=\"24px\">\n",
              "    <g>\n",
              "        <path d=\"M19 3H5c-1.1 0-2 .9-2 2v14c0 1.1.9 2 2 2h14c1.1 0 2-.9 2-2V5c0-1.1-.9-2-2-2zM9 17H7v-7h2v7zm4 0h-2V7h2v10zm4 0h-2v-4h2v4z\"/>\n",
              "    </g>\n",
              "</svg>\n",
              "  </button>\n",
              "\n",
              "<style>\n",
              "  .colab-df-quickchart {\n",
              "      --bg-color: #E8F0FE;\n",
              "      --fill-color: #1967D2;\n",
              "      --hover-bg-color: #E2EBFA;\n",
              "      --hover-fill-color: #174EA6;\n",
              "      --disabled-fill-color: #AAA;\n",
              "      --disabled-bg-color: #DDD;\n",
              "  }\n",
              "\n",
              "  [theme=dark] .colab-df-quickchart {\n",
              "      --bg-color: #3B4455;\n",
              "      --fill-color: #D2E3FC;\n",
              "      --hover-bg-color: #434B5C;\n",
              "      --hover-fill-color: #FFFFFF;\n",
              "      --disabled-bg-color: #3B4455;\n",
              "      --disabled-fill-color: #666;\n",
              "  }\n",
              "\n",
              "  .colab-df-quickchart {\n",
              "    background-color: var(--bg-color);\n",
              "    border: none;\n",
              "    border-radius: 50%;\n",
              "    cursor: pointer;\n",
              "    display: none;\n",
              "    fill: var(--fill-color);\n",
              "    height: 32px;\n",
              "    padding: 0;\n",
              "    width: 32px;\n",
              "  }\n",
              "\n",
              "  .colab-df-quickchart:hover {\n",
              "    background-color: var(--hover-bg-color);\n",
              "    box-shadow: 0 1px 2px rgba(60, 64, 67, 0.3), 0 1px 3px 1px rgba(60, 64, 67, 0.15);\n",
              "    fill: var(--button-hover-fill-color);\n",
              "  }\n",
              "\n",
              "  .colab-df-quickchart-complete:disabled,\n",
              "  .colab-df-quickchart-complete:disabled:hover {\n",
              "    background-color: var(--disabled-bg-color);\n",
              "    fill: var(--disabled-fill-color);\n",
              "    box-shadow: none;\n",
              "  }\n",
              "\n",
              "  .colab-df-spinner {\n",
              "    border: 2px solid var(--fill-color);\n",
              "    border-color: transparent;\n",
              "    border-bottom-color: var(--fill-color);\n",
              "    animation:\n",
              "      spin 1s steps(1) infinite;\n",
              "  }\n",
              "\n",
              "  @keyframes spin {\n",
              "    0% {\n",
              "      border-color: transparent;\n",
              "      border-bottom-color: var(--fill-color);\n",
              "      border-left-color: var(--fill-color);\n",
              "    }\n",
              "    20% {\n",
              "      border-color: transparent;\n",
              "      border-left-color: var(--fill-color);\n",
              "      border-top-color: var(--fill-color);\n",
              "    }\n",
              "    30% {\n",
              "      border-color: transparent;\n",
              "      border-left-color: var(--fill-color);\n",
              "      border-top-color: var(--fill-color);\n",
              "      border-right-color: var(--fill-color);\n",
              "    }\n",
              "    40% {\n",
              "      border-color: transparent;\n",
              "      border-right-color: var(--fill-color);\n",
              "      border-top-color: var(--fill-color);\n",
              "    }\n",
              "    60% {\n",
              "      border-color: transparent;\n",
              "      border-right-color: var(--fill-color);\n",
              "    }\n",
              "    80% {\n",
              "      border-color: transparent;\n",
              "      border-right-color: var(--fill-color);\n",
              "      border-bottom-color: var(--fill-color);\n",
              "    }\n",
              "    90% {\n",
              "      border-color: transparent;\n",
              "      border-bottom-color: var(--fill-color);\n",
              "    }\n",
              "  }\n",
              "</style>\n",
              "\n",
              "  <script>\n",
              "    async function quickchart(key) {\n",
              "      const quickchartButtonEl =\n",
              "        document.querySelector('#' + key + ' button');\n",
              "      quickchartButtonEl.disabled = true;  // To prevent multiple clicks.\n",
              "      quickchartButtonEl.classList.add('colab-df-spinner');\n",
              "      try {\n",
              "        const charts = await google.colab.kernel.invokeFunction(\n",
              "            'suggestCharts', [key], {});\n",
              "      } catch (error) {\n",
              "        console.error('Error during call to suggestCharts:', error);\n",
              "      }\n",
              "      quickchartButtonEl.classList.remove('colab-df-spinner');\n",
              "      quickchartButtonEl.classList.add('colab-df-quickchart-complete');\n",
              "    }\n",
              "    (() => {\n",
              "      let quickchartButtonEl =\n",
              "        document.querySelector('#df-2e307038-f882-4abc-a5d3-9091ea15d432 button');\n",
              "      quickchartButtonEl.style.display =\n",
              "        google.colab.kernel.accessAllowed ? 'block' : 'none';\n",
              "    })();\n",
              "  </script>\n",
              "</div>\n",
              "\n",
              "    </div>\n",
              "  </div>\n"
            ],
            "application/vnd.google.colaboratory.intrinsic+json": {
              "type": "dataframe",
              "variable_name": "df_test"
            }
          },
          "metadata": {},
          "execution_count": 7
        }
      ]
    },
    {
      "cell_type": "code",
      "source": [
        "df_test.shape"
      ],
      "metadata": {
        "colab": {
          "base_uri": "https://localhost:8080/"
        },
        "id": "DsmkFUnk9zMA",
        "outputId": "08d6a47d-50b9-4db0-b5f6-00c3206f638b"
      },
      "execution_count": 8,
      "outputs": [
        {
          "output_type": "execute_result",
          "data": {
            "text/plain": [
              "(1000, 21)"
            ]
          },
          "metadata": {},
          "execution_count": 8
        }
      ]
    },
    {
      "cell_type": "code",
      "source": [
        "df_train.info()"
      ],
      "metadata": {
        "colab": {
          "base_uri": "https://localhost:8080/"
        },
        "id": "GvizmyxR2OHA",
        "outputId": "38f56017-533d-45e5-c760-5d7df1cd1a6e"
      },
      "execution_count": 9,
      "outputs": [
        {
          "output_type": "stream",
          "name": "stdout",
          "text": [
            "<class 'pandas.core.frame.DataFrame'>\n",
            "RangeIndex: 2000 entries, 0 to 1999\n",
            "Data columns (total 21 columns):\n",
            " #   Column         Non-Null Count  Dtype  \n",
            "---  ------         --------------  -----  \n",
            " 0   battery_power  2000 non-null   int64  \n",
            " 1   blue           2000 non-null   int64  \n",
            " 2   clock_speed    2000 non-null   float64\n",
            " 3   dual_sim       2000 non-null   int64  \n",
            " 4   fc             1995 non-null   float64\n",
            " 5   four_g         1995 non-null   float64\n",
            " 6   int_memory     1995 non-null   float64\n",
            " 7   m_dep          1995 non-null   float64\n",
            " 8   mobile_wt      1996 non-null   float64\n",
            " 9   n_cores        1996 non-null   float64\n",
            " 10  pc             1995 non-null   float64\n",
            " 11  px_height      1996 non-null   float64\n",
            " 12  px_width       1998 non-null   float64\n",
            " 13  ram            1998 non-null   float64\n",
            " 14  sc_h           1999 non-null   float64\n",
            " 15  sc_w           1999 non-null   float64\n",
            " 16  talk_time      2000 non-null   int64  \n",
            " 17  three_g        2000 non-null   int64  \n",
            " 18  touch_screen   2000 non-null   int64  \n",
            " 19  wifi           2000 non-null   int64  \n",
            " 20  price_range    2000 non-null   int64  \n",
            "dtypes: float64(13), int64(8)\n",
            "memory usage: 328.2 KB\n"
          ]
        }
      ]
    },
    {
      "cell_type": "code",
      "source": [
        "df_train.describe()"
      ],
      "metadata": {
        "colab": {
          "base_uri": "https://localhost:8080/",
          "height": 0
        },
        "id": "TEyP91-O2Q2X",
        "outputId": "9972fb2f-54a0-4a8d-c5c6-121f5a936641"
      },
      "execution_count": 10,
      "outputs": [
        {
          "output_type": "execute_result",
          "data": {
            "text/plain": [
              "       battery_power       blue  clock_speed     dual_sim           fc  \\\n",
              "count    2000.000000  2000.0000  2000.000000  2000.000000  1995.000000   \n",
              "mean     1238.518500     0.4950     1.522250     0.509500     4.310276   \n",
              "std       439.418206     0.5001     0.816004     0.500035     4.335766   \n",
              "min       501.000000     0.0000     0.500000     0.000000     0.000000   \n",
              "25%       851.750000     0.0000     0.700000     0.000000     1.000000   \n",
              "50%      1226.000000     0.0000     1.500000     1.000000     3.000000   \n",
              "75%      1615.250000     1.0000     2.200000     1.000000     7.000000   \n",
              "max      1998.000000     1.0000     3.000000     1.000000    19.000000   \n",
              "\n",
              "            four_g   int_memory        m_dep    mobile_wt      n_cores  ...  \\\n",
              "count  1995.000000  1995.000000  1995.000000  1996.000000  1996.000000  ...   \n",
              "mean      0.521303    32.048120     0.502256   140.266533     4.518036  ...   \n",
              "std       0.499671    18.146476     0.288530    35.384676     2.288946  ...   \n",
              "min       0.000000     2.000000     0.100000    80.000000     1.000000  ...   \n",
              "25%       0.000000    16.000000     0.200000   109.000000     3.000000  ...   \n",
              "50%       1.000000    32.000000     0.500000   141.000000     4.000000  ...   \n",
              "75%       1.000000    48.000000     0.800000   170.000000     7.000000  ...   \n",
              "max       1.000000    64.000000     1.000000   200.000000     8.000000  ...   \n",
              "\n",
              "         px_height     px_width          ram         sc_h         sc_w  \\\n",
              "count  1996.000000  1998.000000  1998.000000  1999.000000  1999.000000   \n",
              "mean    644.651804  1251.287788  2124.262262    12.303652     5.766383   \n",
              "std     443.355443   432.352930  1085.273372     4.212373     4.357400   \n",
              "min       0.000000   500.000000   256.000000     5.000000     0.000000   \n",
              "25%     282.000000   874.250000  1206.500000     9.000000     2.000000   \n",
              "50%     564.000000  1247.000000  2147.500000    12.000000     5.000000   \n",
              "75%     947.250000  1633.000000  3065.500000    16.000000     9.000000   \n",
              "max    1960.000000  1998.000000  3998.000000    19.000000    18.000000   \n",
              "\n",
              "         talk_time      three_g  touch_screen         wifi  price_range  \n",
              "count  2000.000000  2000.000000   2000.000000  2000.000000  2000.000000  \n",
              "mean     11.011000     0.761500      0.503000     0.507000     1.500000  \n",
              "std       5.463955     0.426273      0.500116     0.500076     1.118314  \n",
              "min       2.000000     0.000000      0.000000     0.000000     0.000000  \n",
              "25%       6.000000     1.000000      0.000000     0.000000     0.750000  \n",
              "50%      11.000000     1.000000      1.000000     1.000000     1.500000  \n",
              "75%      16.000000     1.000000      1.000000     1.000000     2.250000  \n",
              "max      20.000000     1.000000      1.000000     1.000000     3.000000  \n",
              "\n",
              "[8 rows x 21 columns]"
            ],
            "text/html": [
              "\n",
              "  <div id=\"df-4da54bbe-926f-4a40-9e2e-fd34d020441c\" class=\"colab-df-container\">\n",
              "    <div>\n",
              "<style scoped>\n",
              "    .dataframe tbody tr th:only-of-type {\n",
              "        vertical-align: middle;\n",
              "    }\n",
              "\n",
              "    .dataframe tbody tr th {\n",
              "        vertical-align: top;\n",
              "    }\n",
              "\n",
              "    .dataframe thead th {\n",
              "        text-align: right;\n",
              "    }\n",
              "</style>\n",
              "<table border=\"1\" class=\"dataframe\">\n",
              "  <thead>\n",
              "    <tr style=\"text-align: right;\">\n",
              "      <th></th>\n",
              "      <th>battery_power</th>\n",
              "      <th>blue</th>\n",
              "      <th>clock_speed</th>\n",
              "      <th>dual_sim</th>\n",
              "      <th>fc</th>\n",
              "      <th>four_g</th>\n",
              "      <th>int_memory</th>\n",
              "      <th>m_dep</th>\n",
              "      <th>mobile_wt</th>\n",
              "      <th>n_cores</th>\n",
              "      <th>...</th>\n",
              "      <th>px_height</th>\n",
              "      <th>px_width</th>\n",
              "      <th>ram</th>\n",
              "      <th>sc_h</th>\n",
              "      <th>sc_w</th>\n",
              "      <th>talk_time</th>\n",
              "      <th>three_g</th>\n",
              "      <th>touch_screen</th>\n",
              "      <th>wifi</th>\n",
              "      <th>price_range</th>\n",
              "    </tr>\n",
              "  </thead>\n",
              "  <tbody>\n",
              "    <tr>\n",
              "      <th>count</th>\n",
              "      <td>2000.000000</td>\n",
              "      <td>2000.0000</td>\n",
              "      <td>2000.000000</td>\n",
              "      <td>2000.000000</td>\n",
              "      <td>1995.000000</td>\n",
              "      <td>1995.000000</td>\n",
              "      <td>1995.000000</td>\n",
              "      <td>1995.000000</td>\n",
              "      <td>1996.000000</td>\n",
              "      <td>1996.000000</td>\n",
              "      <td>...</td>\n",
              "      <td>1996.000000</td>\n",
              "      <td>1998.000000</td>\n",
              "      <td>1998.000000</td>\n",
              "      <td>1999.000000</td>\n",
              "      <td>1999.000000</td>\n",
              "      <td>2000.000000</td>\n",
              "      <td>2000.000000</td>\n",
              "      <td>2000.000000</td>\n",
              "      <td>2000.000000</td>\n",
              "      <td>2000.000000</td>\n",
              "    </tr>\n",
              "    <tr>\n",
              "      <th>mean</th>\n",
              "      <td>1238.518500</td>\n",
              "      <td>0.4950</td>\n",
              "      <td>1.522250</td>\n",
              "      <td>0.509500</td>\n",
              "      <td>4.310276</td>\n",
              "      <td>0.521303</td>\n",
              "      <td>32.048120</td>\n",
              "      <td>0.502256</td>\n",
              "      <td>140.266533</td>\n",
              "      <td>4.518036</td>\n",
              "      <td>...</td>\n",
              "      <td>644.651804</td>\n",
              "      <td>1251.287788</td>\n",
              "      <td>2124.262262</td>\n",
              "      <td>12.303652</td>\n",
              "      <td>5.766383</td>\n",
              "      <td>11.011000</td>\n",
              "      <td>0.761500</td>\n",
              "      <td>0.503000</td>\n",
              "      <td>0.507000</td>\n",
              "      <td>1.500000</td>\n",
              "    </tr>\n",
              "    <tr>\n",
              "      <th>std</th>\n",
              "      <td>439.418206</td>\n",
              "      <td>0.5001</td>\n",
              "      <td>0.816004</td>\n",
              "      <td>0.500035</td>\n",
              "      <td>4.335766</td>\n",
              "      <td>0.499671</td>\n",
              "      <td>18.146476</td>\n",
              "      <td>0.288530</td>\n",
              "      <td>35.384676</td>\n",
              "      <td>2.288946</td>\n",
              "      <td>...</td>\n",
              "      <td>443.355443</td>\n",
              "      <td>432.352930</td>\n",
              "      <td>1085.273372</td>\n",
              "      <td>4.212373</td>\n",
              "      <td>4.357400</td>\n",
              "      <td>5.463955</td>\n",
              "      <td>0.426273</td>\n",
              "      <td>0.500116</td>\n",
              "      <td>0.500076</td>\n",
              "      <td>1.118314</td>\n",
              "    </tr>\n",
              "    <tr>\n",
              "      <th>min</th>\n",
              "      <td>501.000000</td>\n",
              "      <td>0.0000</td>\n",
              "      <td>0.500000</td>\n",
              "      <td>0.000000</td>\n",
              "      <td>0.000000</td>\n",
              "      <td>0.000000</td>\n",
              "      <td>2.000000</td>\n",
              "      <td>0.100000</td>\n",
              "      <td>80.000000</td>\n",
              "      <td>1.000000</td>\n",
              "      <td>...</td>\n",
              "      <td>0.000000</td>\n",
              "      <td>500.000000</td>\n",
              "      <td>256.000000</td>\n",
              "      <td>5.000000</td>\n",
              "      <td>0.000000</td>\n",
              "      <td>2.000000</td>\n",
              "      <td>0.000000</td>\n",
              "      <td>0.000000</td>\n",
              "      <td>0.000000</td>\n",
              "      <td>0.000000</td>\n",
              "    </tr>\n",
              "    <tr>\n",
              "      <th>25%</th>\n",
              "      <td>851.750000</td>\n",
              "      <td>0.0000</td>\n",
              "      <td>0.700000</td>\n",
              "      <td>0.000000</td>\n",
              "      <td>1.000000</td>\n",
              "      <td>0.000000</td>\n",
              "      <td>16.000000</td>\n",
              "      <td>0.200000</td>\n",
              "      <td>109.000000</td>\n",
              "      <td>3.000000</td>\n",
              "      <td>...</td>\n",
              "      <td>282.000000</td>\n",
              "      <td>874.250000</td>\n",
              "      <td>1206.500000</td>\n",
              "      <td>9.000000</td>\n",
              "      <td>2.000000</td>\n",
              "      <td>6.000000</td>\n",
              "      <td>1.000000</td>\n",
              "      <td>0.000000</td>\n",
              "      <td>0.000000</td>\n",
              "      <td>0.750000</td>\n",
              "    </tr>\n",
              "    <tr>\n",
              "      <th>50%</th>\n",
              "      <td>1226.000000</td>\n",
              "      <td>0.0000</td>\n",
              "      <td>1.500000</td>\n",
              "      <td>1.000000</td>\n",
              "      <td>3.000000</td>\n",
              "      <td>1.000000</td>\n",
              "      <td>32.000000</td>\n",
              "      <td>0.500000</td>\n",
              "      <td>141.000000</td>\n",
              "      <td>4.000000</td>\n",
              "      <td>...</td>\n",
              "      <td>564.000000</td>\n",
              "      <td>1247.000000</td>\n",
              "      <td>2147.500000</td>\n",
              "      <td>12.000000</td>\n",
              "      <td>5.000000</td>\n",
              "      <td>11.000000</td>\n",
              "      <td>1.000000</td>\n",
              "      <td>1.000000</td>\n",
              "      <td>1.000000</td>\n",
              "      <td>1.500000</td>\n",
              "    </tr>\n",
              "    <tr>\n",
              "      <th>75%</th>\n",
              "      <td>1615.250000</td>\n",
              "      <td>1.0000</td>\n",
              "      <td>2.200000</td>\n",
              "      <td>1.000000</td>\n",
              "      <td>7.000000</td>\n",
              "      <td>1.000000</td>\n",
              "      <td>48.000000</td>\n",
              "      <td>0.800000</td>\n",
              "      <td>170.000000</td>\n",
              "      <td>7.000000</td>\n",
              "      <td>...</td>\n",
              "      <td>947.250000</td>\n",
              "      <td>1633.000000</td>\n",
              "      <td>3065.500000</td>\n",
              "      <td>16.000000</td>\n",
              "      <td>9.000000</td>\n",
              "      <td>16.000000</td>\n",
              "      <td>1.000000</td>\n",
              "      <td>1.000000</td>\n",
              "      <td>1.000000</td>\n",
              "      <td>2.250000</td>\n",
              "    </tr>\n",
              "    <tr>\n",
              "      <th>max</th>\n",
              "      <td>1998.000000</td>\n",
              "      <td>1.0000</td>\n",
              "      <td>3.000000</td>\n",
              "      <td>1.000000</td>\n",
              "      <td>19.000000</td>\n",
              "      <td>1.000000</td>\n",
              "      <td>64.000000</td>\n",
              "      <td>1.000000</td>\n",
              "      <td>200.000000</td>\n",
              "      <td>8.000000</td>\n",
              "      <td>...</td>\n",
              "      <td>1960.000000</td>\n",
              "      <td>1998.000000</td>\n",
              "      <td>3998.000000</td>\n",
              "      <td>19.000000</td>\n",
              "      <td>18.000000</td>\n",
              "      <td>20.000000</td>\n",
              "      <td>1.000000</td>\n",
              "      <td>1.000000</td>\n",
              "      <td>1.000000</td>\n",
              "      <td>3.000000</td>\n",
              "    </tr>\n",
              "  </tbody>\n",
              "</table>\n",
              "<p>8 rows × 21 columns</p>\n",
              "</div>\n",
              "    <div class=\"colab-df-buttons\">\n",
              "\n",
              "  <div class=\"colab-df-container\">\n",
              "    <button class=\"colab-df-convert\" onclick=\"convertToInteractive('df-4da54bbe-926f-4a40-9e2e-fd34d020441c')\"\n",
              "            title=\"Convert this dataframe to an interactive table.\"\n",
              "            style=\"display:none;\">\n",
              "\n",
              "  <svg xmlns=\"http://www.w3.org/2000/svg\" height=\"24px\" viewBox=\"0 -960 960 960\">\n",
              "    <path d=\"M120-120v-720h720v720H120Zm60-500h600v-160H180v160Zm220 220h160v-160H400v160Zm0 220h160v-160H400v160ZM180-400h160v-160H180v160Zm440 0h160v-160H620v160ZM180-180h160v-160H180v160Zm440 0h160v-160H620v160Z\"/>\n",
              "  </svg>\n",
              "    </button>\n",
              "\n",
              "  <style>\n",
              "    .colab-df-container {\n",
              "      display:flex;\n",
              "      gap: 12px;\n",
              "    }\n",
              "\n",
              "    .colab-df-convert {\n",
              "      background-color: #E8F0FE;\n",
              "      border: none;\n",
              "      border-radius: 50%;\n",
              "      cursor: pointer;\n",
              "      display: none;\n",
              "      fill: #1967D2;\n",
              "      height: 32px;\n",
              "      padding: 0 0 0 0;\n",
              "      width: 32px;\n",
              "    }\n",
              "\n",
              "    .colab-df-convert:hover {\n",
              "      background-color: #E2EBFA;\n",
              "      box-shadow: 0px 1px 2px rgba(60, 64, 67, 0.3), 0px 1px 3px 1px rgba(60, 64, 67, 0.15);\n",
              "      fill: #174EA6;\n",
              "    }\n",
              "\n",
              "    .colab-df-buttons div {\n",
              "      margin-bottom: 4px;\n",
              "    }\n",
              "\n",
              "    [theme=dark] .colab-df-convert {\n",
              "      background-color: #3B4455;\n",
              "      fill: #D2E3FC;\n",
              "    }\n",
              "\n",
              "    [theme=dark] .colab-df-convert:hover {\n",
              "      background-color: #434B5C;\n",
              "      box-shadow: 0px 1px 3px 1px rgba(0, 0, 0, 0.15);\n",
              "      filter: drop-shadow(0px 1px 2px rgba(0, 0, 0, 0.3));\n",
              "      fill: #FFFFFF;\n",
              "    }\n",
              "  </style>\n",
              "\n",
              "    <script>\n",
              "      const buttonEl =\n",
              "        document.querySelector('#df-4da54bbe-926f-4a40-9e2e-fd34d020441c button.colab-df-convert');\n",
              "      buttonEl.style.display =\n",
              "        google.colab.kernel.accessAllowed ? 'block' : 'none';\n",
              "\n",
              "      async function convertToInteractive(key) {\n",
              "        const element = document.querySelector('#df-4da54bbe-926f-4a40-9e2e-fd34d020441c');\n",
              "        const dataTable =\n",
              "          await google.colab.kernel.invokeFunction('convertToInteractive',\n",
              "                                                    [key], {});\n",
              "        if (!dataTable) return;\n",
              "\n",
              "        const docLinkHtml = 'Like what you see? Visit the ' +\n",
              "          '<a target=\"_blank\" href=https://colab.research.google.com/notebooks/data_table.ipynb>data table notebook</a>'\n",
              "          + ' to learn more about interactive tables.';\n",
              "        element.innerHTML = '';\n",
              "        dataTable['output_type'] = 'display_data';\n",
              "        await google.colab.output.renderOutput(dataTable, element);\n",
              "        const docLink = document.createElement('div');\n",
              "        docLink.innerHTML = docLinkHtml;\n",
              "        element.appendChild(docLink);\n",
              "      }\n",
              "    </script>\n",
              "  </div>\n",
              "\n",
              "\n",
              "<div id=\"df-eece6f50-dc9c-47e5-8ece-77eff6eace6b\">\n",
              "  <button class=\"colab-df-quickchart\" onclick=\"quickchart('df-eece6f50-dc9c-47e5-8ece-77eff6eace6b')\"\n",
              "            title=\"Suggest charts\"\n",
              "            style=\"display:none;\">\n",
              "\n",
              "<svg xmlns=\"http://www.w3.org/2000/svg\" height=\"24px\"viewBox=\"0 0 24 24\"\n",
              "     width=\"24px\">\n",
              "    <g>\n",
              "        <path d=\"M19 3H5c-1.1 0-2 .9-2 2v14c0 1.1.9 2 2 2h14c1.1 0 2-.9 2-2V5c0-1.1-.9-2-2-2zM9 17H7v-7h2v7zm4 0h-2V7h2v10zm4 0h-2v-4h2v4z\"/>\n",
              "    </g>\n",
              "</svg>\n",
              "  </button>\n",
              "\n",
              "<style>\n",
              "  .colab-df-quickchart {\n",
              "      --bg-color: #E8F0FE;\n",
              "      --fill-color: #1967D2;\n",
              "      --hover-bg-color: #E2EBFA;\n",
              "      --hover-fill-color: #174EA6;\n",
              "      --disabled-fill-color: #AAA;\n",
              "      --disabled-bg-color: #DDD;\n",
              "  }\n",
              "\n",
              "  [theme=dark] .colab-df-quickchart {\n",
              "      --bg-color: #3B4455;\n",
              "      --fill-color: #D2E3FC;\n",
              "      --hover-bg-color: #434B5C;\n",
              "      --hover-fill-color: #FFFFFF;\n",
              "      --disabled-bg-color: #3B4455;\n",
              "      --disabled-fill-color: #666;\n",
              "  }\n",
              "\n",
              "  .colab-df-quickchart {\n",
              "    background-color: var(--bg-color);\n",
              "    border: none;\n",
              "    border-radius: 50%;\n",
              "    cursor: pointer;\n",
              "    display: none;\n",
              "    fill: var(--fill-color);\n",
              "    height: 32px;\n",
              "    padding: 0;\n",
              "    width: 32px;\n",
              "  }\n",
              "\n",
              "  .colab-df-quickchart:hover {\n",
              "    background-color: var(--hover-bg-color);\n",
              "    box-shadow: 0 1px 2px rgba(60, 64, 67, 0.3), 0 1px 3px 1px rgba(60, 64, 67, 0.15);\n",
              "    fill: var(--button-hover-fill-color);\n",
              "  }\n",
              "\n",
              "  .colab-df-quickchart-complete:disabled,\n",
              "  .colab-df-quickchart-complete:disabled:hover {\n",
              "    background-color: var(--disabled-bg-color);\n",
              "    fill: var(--disabled-fill-color);\n",
              "    box-shadow: none;\n",
              "  }\n",
              "\n",
              "  .colab-df-spinner {\n",
              "    border: 2px solid var(--fill-color);\n",
              "    border-color: transparent;\n",
              "    border-bottom-color: var(--fill-color);\n",
              "    animation:\n",
              "      spin 1s steps(1) infinite;\n",
              "  }\n",
              "\n",
              "  @keyframes spin {\n",
              "    0% {\n",
              "      border-color: transparent;\n",
              "      border-bottom-color: var(--fill-color);\n",
              "      border-left-color: var(--fill-color);\n",
              "    }\n",
              "    20% {\n",
              "      border-color: transparent;\n",
              "      border-left-color: var(--fill-color);\n",
              "      border-top-color: var(--fill-color);\n",
              "    }\n",
              "    30% {\n",
              "      border-color: transparent;\n",
              "      border-left-color: var(--fill-color);\n",
              "      border-top-color: var(--fill-color);\n",
              "      border-right-color: var(--fill-color);\n",
              "    }\n",
              "    40% {\n",
              "      border-color: transparent;\n",
              "      border-right-color: var(--fill-color);\n",
              "      border-top-color: var(--fill-color);\n",
              "    }\n",
              "    60% {\n",
              "      border-color: transparent;\n",
              "      border-right-color: var(--fill-color);\n",
              "    }\n",
              "    80% {\n",
              "      border-color: transparent;\n",
              "      border-right-color: var(--fill-color);\n",
              "      border-bottom-color: var(--fill-color);\n",
              "    }\n",
              "    90% {\n",
              "      border-color: transparent;\n",
              "      border-bottom-color: var(--fill-color);\n",
              "    }\n",
              "  }\n",
              "</style>\n",
              "\n",
              "  <script>\n",
              "    async function quickchart(key) {\n",
              "      const quickchartButtonEl =\n",
              "        document.querySelector('#' + key + ' button');\n",
              "      quickchartButtonEl.disabled = true;  // To prevent multiple clicks.\n",
              "      quickchartButtonEl.classList.add('colab-df-spinner');\n",
              "      try {\n",
              "        const charts = await google.colab.kernel.invokeFunction(\n",
              "            'suggestCharts', [key], {});\n",
              "      } catch (error) {\n",
              "        console.error('Error during call to suggestCharts:', error);\n",
              "      }\n",
              "      quickchartButtonEl.classList.remove('colab-df-spinner');\n",
              "      quickchartButtonEl.classList.add('colab-df-quickchart-complete');\n",
              "    }\n",
              "    (() => {\n",
              "      let quickchartButtonEl =\n",
              "        document.querySelector('#df-eece6f50-dc9c-47e5-8ece-77eff6eace6b button');\n",
              "      quickchartButtonEl.style.display =\n",
              "        google.colab.kernel.accessAllowed ? 'block' : 'none';\n",
              "    })();\n",
              "  </script>\n",
              "</div>\n",
              "\n",
              "    </div>\n",
              "  </div>\n"
            ],
            "application/vnd.google.colaboratory.intrinsic+json": {
              "type": "dataframe"
            }
          },
          "metadata": {},
          "execution_count": 10
        }
      ]
    },
    {
      "cell_type": "code",
      "source": [
        "df_train.isnull().sum()"
      ],
      "metadata": {
        "colab": {
          "base_uri": "https://localhost:8080/"
        },
        "id": "UwuxMlHqAZ9a",
        "outputId": "3b5dcd98-cb75-4b3f-dc04-4971c377944c"
      },
      "execution_count": 11,
      "outputs": [
        {
          "output_type": "execute_result",
          "data": {
            "text/plain": [
              "battery_power    0\n",
              "blue             0\n",
              "clock_speed      0\n",
              "dual_sim         0\n",
              "fc               5\n",
              "four_g           5\n",
              "int_memory       5\n",
              "m_dep            5\n",
              "mobile_wt        4\n",
              "n_cores          4\n",
              "pc               5\n",
              "px_height        4\n",
              "px_width         2\n",
              "ram              2\n",
              "sc_h             1\n",
              "sc_w             1\n",
              "talk_time        0\n",
              "three_g          0\n",
              "touch_screen     0\n",
              "wifi             0\n",
              "price_range      0\n",
              "dtype: int64"
            ]
          },
          "metadata": {},
          "execution_count": 11
        }
      ]
    },
    {
      "cell_type": "code",
      "source": [
        "df_train = df_train.dropna()"
      ],
      "metadata": {
        "id": "WI1Ej1vjAf5C"
      },
      "execution_count": 12,
      "outputs": []
    },
    {
      "cell_type": "code",
      "source": [
        "df_train.isnull().sum()"
      ],
      "metadata": {
        "colab": {
          "base_uri": "https://localhost:8080/"
        },
        "id": "XrhkckAEAmnE",
        "outputId": "ff899d08-d012-4de1-c4ee-9954a2221ed0"
      },
      "execution_count": 13,
      "outputs": [
        {
          "output_type": "execute_result",
          "data": {
            "text/plain": [
              "battery_power    0\n",
              "blue             0\n",
              "clock_speed      0\n",
              "dual_sim         0\n",
              "fc               0\n",
              "four_g           0\n",
              "int_memory       0\n",
              "m_dep            0\n",
              "mobile_wt        0\n",
              "n_cores          0\n",
              "pc               0\n",
              "px_height        0\n",
              "px_width         0\n",
              "ram              0\n",
              "sc_h             0\n",
              "sc_w             0\n",
              "talk_time        0\n",
              "three_g          0\n",
              "touch_screen     0\n",
              "wifi             0\n",
              "price_range      0\n",
              "dtype: int64"
            ]
          },
          "metadata": {},
          "execution_count": 13
        }
      ]
    },
    {
      "cell_type": "code",
      "source": [
        "df_train.duplicated().sum()"
      ],
      "metadata": {
        "colab": {
          "base_uri": "https://localhost:8080/"
        },
        "id": "J6vxdPMAAk8M",
        "outputId": "357dde5e-5eee-45c4-bf81-e62492eedf7e"
      },
      "execution_count": 14,
      "outputs": [
        {
          "output_type": "execute_result",
          "data": {
            "text/plain": [
              "0"
            ]
          },
          "metadata": {},
          "execution_count": 14
        }
      ]
    },
    {
      "cell_type": "code",
      "source": [
        "sns.heatmap(df_train.corr())"
      ],
      "metadata": {
        "colab": {
          "base_uri": "https://localhost:8080/",
          "height": 0
        },
        "id": "y_mxyTIv22hH",
        "outputId": "c73fa617-62f9-4c71-9e9e-cfe1614fdeee"
      },
      "execution_count": 15,
      "outputs": [
        {
          "output_type": "execute_result",
          "data": {
            "text/plain": [
              "<Axes: >"
            ]
          },
          "metadata": {},
          "execution_count": 15
        },
        {
          "output_type": "display_data",
          "data": {
            "text/plain": [
              "<Figure size 640x480 with 2 Axes>"
            ],
            "image/png": "[encoded data removed]"
          },
          "metadata": {}
        }
      ]
    },
    {
      "cell_type": "markdown",
      "source": [
        "***feature engineering:***\n",
        "- 4g , 3g ---> can we create new feature? ex: 0,1,2\n",
        "- fc and pc\n",
        "- px_width, px_hight\n",
        "- sc_w , sc_hight\n",
        "\n",
        "***Insight***\n",
        "- high correlation between price and [ram , px_width, px_hight, battery power]"
      ],
      "metadata": {
        "id": "ShswF0DKEku1"
      }
    },
    {
      "cell_type": "code",
      "source": [
        "#sns.pairplot(df_train, corner=True)"
      ],
      "metadata": {
        "id": "uSB3WrfrDuWE"
      },
      "execution_count": 16,
      "outputs": []
    },
    {
      "cell_type": "code",
      "source": [
        "column_names = df_train.columns"
      ],
      "metadata": {
        "id": "YUHLKZfpCf35"
      },
      "execution_count": 17,
      "outputs": []
    },
    {
      "cell_type": "code",
      "source": [
        "import matplotlib.pyplot as plt\n",
        "import seaborn as sns\n",
        "\n",
        "plt.figure(figsize = (15,30))\n",
        "for i, col in enumerate(column_names):\n",
        "  print(i , col)\n",
        "  plt.subplot(7,  3, i+1)\n",
        "  sns.boxplot(x= df_train[col])\n",
        "\n"
      ],
      "metadata": {
        "colab": {
          "base_uri": "https://localhost:8080/",
          "height": 0
        },
        "id": "ap0gP3QtDtcJ",
        "outputId": "f840dcc1-72bd-447d-d3a9-523c70a476b5"
      },
      "execution_count": 18,
      "outputs": [
        {
          "output_type": "stream",
          "name": "stdout",
          "text": [
            "0 battery_power\n",
            "1 blue\n",
            "2 clock_speed\n",
            "3 dual_sim\n",
            "4 fc\n",
            "5 four_g\n",
            "6 int_memory\n",
            "7 m_dep\n",
            "8 mobile_wt\n",
            "9 n_cores\n",
            "10 pc\n",
            "11 px_height\n",
            "12 px_width\n",
            "13 ram\n",
            "14 sc_h\n",
            "15 sc_w\n",
            "16 talk_time\n",
            "17 three_g\n",
            "18 touch_screen\n",
            "19 wifi\n",
            "20 price_range\n"
          ]
        },
        {
          "output_type": "display_data",
          "data": {
            "text/plain": [
              "<Figure size 1500x3000 with 21 Axes>"
            ],
            "image/png": "[encoded data removed]"
          },
          "metadata": {}
        }
      ]
    },
    {
      "cell_type": "code",
      "source": [
        "plt.figure(figsize = (15,30))\n",
        "for i, col in enumerate(column_names):\n",
        "  plt.subplot(7,  3, i+1)\n",
        "  sns.histplot(x= df_train[col])"
      ],
      "metadata": {
        "colab": {
          "base_uri": "https://localhost:8080/",
          "height": 0
        },
        "id": "PGHyJZ02CUwS",
        "outputId": "04ad3b23-e2e2-4735-9e04-714c603618ed"
      },
      "execution_count": 19,
      "outputs": [
        {
          "data": {
            "image/png": "[encoded data removed]",
            "text/plain": [
              "<Figure size 1500x3000 with 21 Axes>"
            ]
          },
          "metadata": {},
          "output_type": "display_data"
        }
      ]
    },
    {
      "cell_type": "markdown",
      "source": [
        "***Insights***\n",
        "- Target is a balanced\n",
        "- skweed distribuion (sc_w , px_hight, fc)\n",
        "- px_hight, fc has outliers\n",
        "\n",
        "***Inquire***\n",
        "- can screan width = 0? or this is equal nan\n",
        "- can pixel resolution hight start from 0 - 1 - 2 --- 2000?\n",
        "- can camera megapixels = 0?\n",
        "- هل حصل تبديل بين  sc_w , sc_h"
      ],
      "metadata": {
        "id": "ixtMjvEeBUGl"
      }
    },
    {
      "cell_type": "markdown",
      "source": [
        "**Thoughts about algorithm selection :**\n",
        "\n",
        "**Data has**\n",
        "--\n",
        "- almost no outlier (px_hight, fc)\n",
        "- skwead distribution so be careful when you use algo that aassume normality: like logistic or svm I have to take log\n",
        "\n",
        "But also has **nonlinear relationships**\n",
        "--\n",
        "between target and feature except (ram) so\n",
        "\n",
        "- we have to use polynomial or feature engineering as normalization\n",
        "- Or We may choose descion tree, random forest , nn, gradient boosting\n",
        "\n",
        "\n",
        "**Their is multi-colinearity**\n",
        "--\n",
        "Feature engineering like\n",
        "- screen_area from sc_h * sc_w\n",
        "- pixel_count from px_height * px_width\n",
        "\n",
        "or Use lasso / Ridge\n",
        "\n",
        "\n",
        "\n",
        "**Data is balanced**\n",
        "--\n",
        "no need for resampling or use gradientboost\n",
        "\n",
        "\n",
        "\n",
        "**Data maybe small**\n",
        "--\n",
        "2000 example only, but 21 feature high dimention so it may cause overfitting\n",
        "- feature selection\n",
        "- feature importance\n",
        "- feature engineering\n",
        "- pca"
      ],
      "metadata": {
        "id": "2VXD3mR2cpak"
      }
    },
    {
      "cell_type": "markdown",
      "source": [
        "## Data Spliting"
      ],
      "metadata": {
        "id": "4kJL-kt8-0rt"
      }
    },
    {
      "cell_type": "code",
      "source": [
        "X = df_train.drop( [\"price_range\"] , axis = 1)\n",
        "y =df_train[\"price_range\"]\n",
        "X.shape , y.shape"
      ],
      "metadata": {
        "colab": {
          "base_uri": "https://localhost:8080/"
        },
        "id": "iWymnN7e8KSn",
        "outputId": "f77091ea-2aaf-481c-c453-fd07742e8d98"
      },
      "execution_count": 20,
      "outputs": [
        {
          "data": {
            "text/plain": [
              "((1991, 20), (1991,))"
            ]
          },
          "execution_count": 20,
          "metadata": {},
          "output_type": "execute_result"
        }
      ]
    },
    {
      "cell_type": "code",
      "source": [
        " from sklearn.model_selection import train_test_split\n",
        " X_train, X_test, y_train, y_test = train_test_split(X, y, test_size=0.2, random_state=42)"
      ],
      "metadata": {
        "id": "rmjasdP8AXbU"
      },
      "execution_count": 21,
      "outputs": []
    },
    {
      "cell_type": "code",
      "source": [
        "X_train.shape"
      ],
      "metadata": {
        "colab": {
          "base_uri": "https://localhost:8080/"
        },
        "id": "b_-o0zr9BCst",
        "outputId": "95aa9eb3-83f4-4318-858c-1893b33f841f"
      },
      "execution_count": 22,
      "outputs": [
        {
          "data": {
            "text/plain": [
              "(1592, 20)"
            ]
          },
          "execution_count": 22,
          "metadata": {},
          "output_type": "execute_result"
        }
      ]
    },
    {
      "cell_type": "markdown",
      "source": [
        "***Trails:***\n",
        "- Trail 1 -- Base Model -- no preprocess"
      ],
      "metadata": {
        "id": "JOIiSffvtID7"
      }
    },
    {
      "cell_type": "markdown",
      "source": [
        "# SVM"
      ],
      "metadata": {
        "id": "4FEqC3VzcE5_"
      }
    },
    {
      "cell_type": "code",
      "source": [
        "# copy of datasets\n",
        "X_train_normalized = X_train.copy()\n",
        "X_test_normalized = X_test.copy()\n",
        "\n",
        "# numerical features\n",
        "num_cols = ['battery_power', 'clock_speed', 'fc',\n",
        "       'int_memory', 'm_dep', 'mobile_wt', 'n_cores', 'pc', 'px_height',\n",
        "       'px_width', 'ram', 'sc_h', 'sc_w', 'talk_time', ]\n",
        "\n",
        "# apply standardization on numerical features\n",
        "for i in num_cols:\n",
        "\n",
        "    # fit on training data column\n",
        "    scale = StandardScaler().fit(X_train_normalized[[i]])\n",
        "\n",
        "    # transform the training data column\n",
        "    X_train_normalized[i] = scale.transform(X_train_normalized[[i]])\n",
        "\n",
        "    # transform the testing data column\n",
        "    X_test_normalized[i] = scale.transform(X_test_normalized[[i]])"
      ],
      "metadata": {
        "id": "2dEvdbPah6sI"
      },
      "execution_count": 23,
      "outputs": []
    },
    {
      "cell_type": "code",
      "source": [
        "# SVM\n",
        "svc = SVC(kernel = 'rbf', probability=True)\n",
        "parameter = {\n",
        "    \"gamma\":[0.0001, 0.001, 0.01, 0.1],\n",
        "    'C': [0.01, 0.5, 0.01, 1, 10,  20, 30, 50]\n",
        "}\n",
        "grid_search = GridSearchCV(svc, parameter)\n",
        "grid_search.fit(X_train_normalized, y_train)"
      ],
      "metadata": {
        "id": "Ue7OjXG3cGfP",
        "colab": {
          "base_uri": "https://localhost:8080/",
          "height": 117
        },
        "outputId": "e160d874-2c42-41cd-927d-13e26ccd14c7"
      },
      "execution_count": 24,
      "outputs": [
        {
          "output_type": "execute_result",
          "data": {
            "text/plain": [
              "GridSearchCV(estimator=SVC(probability=True),\n",
              "             param_grid={'C': [0.01, 0.5, 0.01, 1, 10, 20, 30, 50],\n",
              "                         'gamma': [0.0001, 0.001, 0.01, 0.1]})"
            ],
            "text/html": [
              "<style>#sk-container-id-1 {color: black;background-color: white;}#sk-container-id-1 pre{padding: 0;}#sk-container-id-1 div.sk-toggleable {background-color: white;}#sk-container-id-1 label.sk-toggleable__label {cursor: pointer;display: block;width: 100%;margin-bottom: 0;padding: 0.3em;box-sizing: border-box;text-align: center;}#sk-container-id-1 label.sk-toggleable__label-arrow:before {content: \"▸\";float: left;margin-right: 0.25em;color: #696969;}#sk-container-id-1 label.sk-toggleable__label-arrow:hover:before {color: black;}#sk-container-id-1 div.sk-estimator:hover label.sk-toggleable__label-arrow:before {color: black;}#sk-container-id-1 div.sk-toggleable__content {max-height: 0;max-width: 0;overflow: hidden;text-align: left;background-color: #f0f8ff;}#sk-container-id-1 div.sk-toggleable__content pre {margin: 0.2em;color: black;border-radius: 0.25em;background-color: #f0f8ff;}#sk-container-id-1 input.sk-toggleable__control:checked~div.sk-toggleable__content {max-height: 200px;max-width: 100%;overflow: auto;}#sk-container-id-1 input.sk-toggleable__control:checked~label.sk-toggleable__label-arrow:before {content: \"▾\";}#sk-container-id-1 div.sk-estimator input.sk-toggleable__control:checked~label.sk-toggleable__label {background-color: #d4ebff;}#sk-container-id-1 div.sk-label input.sk-toggleable__control:checked~label.sk-toggleable__label {background-color: #d4ebff;}#sk-container-id-1 input.sk-hidden--visually {border: 0;clip: rect(1px 1px 1px 1px);clip: rect(1px, 1px, 1px, 1px);height: 1px;margin: -1px;overflow: hidden;padding: 0;position: absolute;width: 1px;}#sk-container-id-1 div.sk-estimator {font-family: monospace;background-color: #f0f8ff;border: 1px dotted black;border-radius: 0.25em;box-sizing: border-box;margin-bottom: 0.5em;}#sk-container-id-1 div.sk-estimator:hover {background-color: #d4ebff;}#sk-container-id-1 div.sk-parallel-item::after {content: \"\";width: 100%;border-bottom: 1px solid gray;flex-grow: 1;}#sk-container-id-1 div.sk-label:hover label.sk-toggleable__label {background-color: #d4ebff;}#sk-container-id-1 div.sk-serial::before {content: \"\";position: absolute;border-left: 1px solid gray;box-sizing: border-box;top: 0;bottom: 0;left: 50%;z-index: 0;}#sk-container-id-1 div.sk-serial {display: flex;flex-direction: column;align-items: center;background-color: white;padding-right: 0.2em;padding-left: 0.2em;position: relative;}#sk-container-id-1 div.sk-item {position: relative;z-index: 1;}#sk-container-id-1 div.sk-parallel {display: flex;align-items: stretch;justify-content: center;background-color: white;position: relative;}#sk-container-id-1 div.sk-item::before, #sk-container-id-1 div.sk-parallel-item::before {content: \"\";position: absolute;border-left: 1px solid gray;box-sizing: border-box;top: 0;bottom: 0;left: 50%;z-index: -1;}#sk-container-id-1 div.sk-parallel-item {display: flex;flex-direction: column;z-index: 1;position: relative;background-color: white;}#sk-container-id-1 div.sk-parallel-item:first-child::after {align-self: flex-end;width: 50%;}#sk-container-id-1 div.sk-parallel-item:last-child::after {align-self: flex-start;width: 50%;}#sk-container-id-1 div.sk-parallel-item:only-child::after {width: 0;}#sk-container-id-1 div.sk-dashed-wrapped {border: 1px dashed gray;margin: 0 0.4em 0.5em 0.4em;box-sizing: border-box;padding-bottom: 0.4em;background-color: white;}#sk-container-id-1 div.sk-label label {font-family: monospace;font-weight: bold;display: inline-block;line-height: 1.2em;}#sk-container-id-1 div.sk-label-container {text-align: center;}#sk-container-id-1 div.sk-container {/* jupyter's `normalize.less` sets `[hidden] { display: none; }` but bootstrap.min.css set `[hidden] { display: none !important; }` so we also need the `!important` here to be able to override the default hidden behavior on the sphinx rendered scikit-learn.org. See: https://github.com/scikit-learn/scikit-learn/issues/21755 */display: inline-block !important;position: relative;}#sk-container-id-1 div.sk-text-repr-fallback {display: none;}</style><div id=\"sk-container-id-1\" class=\"sk-top-container\"><div class=\"sk-text-repr-fallback\"><pre>GridSearchCV(estimator=SVC(probability=True),\n",
              "             param_grid={&#x27;C&#x27;: [0.01, 0.5, 0.01, 1, 10, 20, 30, 50],\n",
              "                         &#x27;gamma&#x27;: [0.0001, 0.001, 0.01, 0.1]})</pre><b>In a Jupyter environment, please rerun this cell to show the HTML representation or trust the notebook. <br />On GitHub, the HTML representation is unable to render, please try loading this page with nbviewer.org.</b></div><div class=\"sk-container\" hidden><div class=\"sk-item sk-dashed-wrapped\"><div class=\"sk-label-container\"><div class=\"sk-label sk-toggleable\"><input class=\"sk-toggleable__control sk-hidden--visually\" id=\"sk-estimator-id-1\" type=\"checkbox\" ><label for=\"sk-estimator-id-1\" class=\"sk-toggleable__label sk-toggleable__label-arrow\">GridSearchCV</label><div class=\"sk-toggleable__content\"><pre>GridSearchCV(estimator=SVC(probability=True),\n",
              "             param_grid={&#x27;C&#x27;: [0.01, 0.5, 0.01, 1, 10, 20, 30, 50],\n",
              "                         &#x27;gamma&#x27;: [0.0001, 0.001, 0.01, 0.1]})</pre></div></div></div><div class=\"sk-parallel\"><div class=\"sk-parallel-item\"><div class=\"sk-item\"><div class=\"sk-label-container\"><div class=\"sk-label sk-toggleable\"><input class=\"sk-toggleable__control sk-hidden--visually\" id=\"sk-estimator-id-2\" type=\"checkbox\" ><label for=\"sk-estimator-id-2\" class=\"sk-toggleable__label sk-toggleable__label-arrow\">estimator: SVC</label><div class=\"sk-toggleable__content\"><pre>SVC(probability=True)</pre></div></div></div><div class=\"sk-serial\"><div class=\"sk-item\"><div class=\"sk-estimator sk-toggleable\"><input class=\"sk-toggleable__control sk-hidden--visually\" id=\"sk-estimator-id-3\" type=\"checkbox\" ><label for=\"sk-estimator-id-3\" class=\"sk-toggleable__label sk-toggleable__label-arrow\">SVC</label><div class=\"sk-toggleable__content\"><pre>SVC(probability=True)</pre></div></div></div></div></div></div></div></div></div></div>"
            ]
          },
          "metadata": {},
          "execution_count": 24
        }
      ]
    },
    {
      "cell_type": "code",
      "source": [
        "# best_parameter\n",
        "grid_search.best_params_"
      ],
      "metadata": {
        "id": "Ey-MpC9tcOi3"
      },
      "execution_count": null,
      "outputs": []
    },
    {
      "cell_type": "markdown",
      "source": [
        "no difference between 50 - 30"
      ],
      "metadata": {
        "id": "MNxN7HzephDl"
      }
    },
    {
      "cell_type": "code",
      "source": [
        "svc = SVC(C=30, gamma = 0.001, kernel = 'rbf', probability=True)\n",
        "svc.fit(X_train_normalized, y_train)"
      ],
      "metadata": {
        "id": "6VDgipYbcS_n"
      },
      "execution_count": null,
      "outputs": []
    },
    {
      "cell_type": "code",
      "source": [
        "print(accuracy_score(y_train, svc.predict(X_train_normalized)))\n",
        "print(accuracy_score(y_test, svc.predict(X_test_normalized)))"
      ],
      "metadata": {
        "id": "ZLaE1Jzvg5ER"
      },
      "execution_count": null,
      "outputs": []
    },
    {
      "cell_type": "code",
      "source": [
        "y_pred = svc.predict(X_test_normalized)\n",
        "cnf_matrix = confusion_matrix(y_test, y_pred)\n",
        "# import required modules\n",
        "class_names=[0,1,2,3] # name  of classes\n",
        "fig, ax = plt.subplots()\n",
        "tick_marks = np.arange(len(class_names))\n",
        "plt.xticks(tick_marks, class_names)\n",
        "plt.yticks(tick_marks, class_names)\n",
        "# create heatmap\n",
        "sns.heatmap(pd.DataFrame(cnf_matrix), annot=True, cmap=\"YlGnBu\" ,fmt='g')\n",
        "ax.xaxis.set_label_position(\"top\")\n",
        "plt.tight_layout()\n",
        "plt.title('Confusion matrix', y=1.1)\n",
        "plt.ylabel('Actual label')\n",
        "plt.xlabel('Predicted label')"
      ],
      "metadata": {
        "id": "VFB_YOH_ewVx"
      },
      "execution_count": null,
      "outputs": []
    },
    {
      "cell_type": "code",
      "source": [
        "!pip install joblib"
      ],
      "metadata": {
        "id": "onhZnhLK2-j9"
      },
      "execution_count": null,
      "outputs": []
    },
    {
      "cell_type": "code",
      "source": [
        "import joblib\n",
        "filename = 'device_svm_model.pkl'\n",
        "joblib.dump(model, filename)"
      ],
      "metadata": {
        "colab": {
          "base_uri": "https://localhost:8080/",
          "height": 176
        },
        "id": "yQU7vmCQ2F4e",
        "outputId": "fc4903fc-5dbd-40f1-a5c6-833ebbf00c4f"
      },
      "execution_count": 30,
      "outputs": [
        {
          "output_type": "error",
          "ename": "NameError",
          "evalue": "name 'model' is not defined",
          "traceback": [
            "\u001b[0;31m---------------------------------------------------------------------------\u001b[0m",
            "\u001b[0;31mNameError\u001b[0m                                 Traceback (most recent call last)",
            "\u001b[0;32m<ipython-input-30-062d63a74517>\u001b[0m in \u001b[0;36m<cell line: 3>\u001b[0;34m()\u001b[0m\n\u001b[1;32m      1\u001b[0m \u001b[0;32mimport\u001b[0m \u001b[0mjoblib\u001b[0m\u001b[0;34m\u001b[0m\u001b[0;34m\u001b[0m\u001b[0m\n\u001b[1;32m      2\u001b[0m \u001b[0mfilename\u001b[0m \u001b[0;34m=\u001b[0m \u001b[0;34m'device_svm_model.pkl'\u001b[0m\u001b[0;34m\u001b[0m\u001b[0;34m\u001b[0m\u001b[0m\n\u001b[0;32m----> 3\u001b[0;31m \u001b[0mjoblib\u001b[0m\u001b[0;34m.\u001b[0m\u001b[0mdump\u001b[0m\u001b[0;34m(\u001b[0m\u001b[0mmodel\u001b[0m\u001b[0;34m,\u001b[0m \u001b[0mfilename\u001b[0m\u001b[0;34m)\u001b[0m\u001b[0;34m\u001b[0m\u001b[0;34m\u001b[0m\u001b[0m\n\u001b[0m",
            "\u001b[0;31mNameError\u001b[0m: name 'model' is not defined"
          ]
        }
      ]
    },
    {
      "cell_type": "markdown",
      "source": [
        "# Neural Network"
      ],
      "metadata": {
        "id": "0Bv44p-4LgAI"
      }
    },
    {
      "cell_type": "code",
      "source": [
        "df_train.columns"
      ],
      "metadata": {
        "id": "QBPqovj-O82d"
      },
      "execution_count": null,
      "outputs": []
    },
    {
      "cell_type": "code",
      "source": [
        "from sklearn.preprocessing import StandardScaler\n",
        "\n",
        "# copy of datasets\n",
        "X_train_stand = X_train.copy()\n",
        "X_test_stand = X_test.copy()\n",
        "\n",
        "# numerical features\n",
        "num_cols = ['battery_power', 'clock_speed', 'fc',\n",
        "       'int_memory', 'm_dep', 'mobile_wt', 'n_cores', 'pc', 'px_height',\n",
        "       'px_width', 'ram', 'sc_h', 'sc_w', 'talk_time', ]\n",
        "\n",
        "# apply standardization on numerical features\n",
        "for i in num_cols:\n",
        "\n",
        "    # fit on training data column\n",
        "    scale = StandardScaler().fit(X_train_stand[[i]])\n",
        "\n",
        "    # transform the training data column\n",
        "    X_train_stand[i] = scale.transform(X_train_stand[[i]])\n",
        "\n",
        "    # transform the testing data column\n",
        "    X_test_stand[i] = scale.transform(X_test_stand[[i]])"
      ],
      "metadata": {
        "id": "dFoFUOXSON-_"
      },
      "execution_count": null,
      "outputs": []
    },
    {
      "cell_type": "code",
      "source": [
        "X_train_stand.describe()"
      ],
      "metadata": {
        "id": "vm6WoWlgPsm8"
      },
      "execution_count": null,
      "outputs": []
    },
    {
      "cell_type": "code",
      "source": [
        "from tensorflow.keras.models import Sequential\n",
        "from tensorflow.keras.layers import Dense\n",
        "from tensorflow.keras.regularizers import l2\n",
        "\n",
        "# define the keras model\n",
        "model = Sequential()\n",
        "model.add(Dense(12, input_shape=(20,), activation='relu'))\n",
        "model.add(Dense(8,  kernel_regularizer=l2(0.08), activation='relu'))\n",
        "model.add(Dense(4, activation='softmax'))\n",
        "\n",
        "# compile the keras model\n",
        "model.compile(loss='sparse_categorical_crossentropy', optimizer='adam', metrics=['accuracy'])"
      ],
      "metadata": {
        "id": "rr-pNdsDLmLx"
      },
      "execution_count": null,
      "outputs": []
    },
    {
      "cell_type": "code",
      "source": [
        "model.summary()"
      ],
      "metadata": {
        "id": "MctOhksZbaTP"
      },
      "execution_count": null,
      "outputs": []
    },
    {
      "cell_type": "code",
      "source": [
        "# fit the keras model on the dataset\n",
        "history = model.fit(X_train_stand, y_train, epochs=100, batch_size=32)"
      ],
      "metadata": {
        "id": "y7ZpceVOMUv4"
      },
      "execution_count": null,
      "outputs": []
    },
    {
      "cell_type": "code",
      "source": [
        "# evaluate the keras model\n",
        "_, accuracy = model.evaluate(X_test_stand, y_test)\n",
        "print('Accuracy: %.2f' % (accuracy*100))\n"
      ],
      "metadata": {
        "id": "gd8N17TCMW3X"
      },
      "execution_count": null,
      "outputs": []
    },
    {
      "cell_type": "code",
      "source": [
        "# make probability predictions with the model\n",
        "predictions = model.predict(X_test_stand)\n",
        "pred = [prob.argmax() for prob in predictions]"
      ],
      "metadata": {
        "id": "tVXexGjyM4qn"
      },
      "execution_count": null,
      "outputs": []
    },
    {
      "cell_type": "code",
      "source": [
        "for i in range(10):\n",
        " print(pred[i], y_test.iloc[i], pred[i] == y_test.iloc[i])"
      ],
      "metadata": {
        "id": "WMDXhMpiNdZD"
      },
      "execution_count": null,
      "outputs": []
    },
    {
      "cell_type": "code",
      "source": [
        "# summarize history for loss\n",
        "plt.plot(history.history['loss'])\n",
        "#plt.plot(history.history['val_loss'])\n",
        "plt.title('model loss')\n",
        "plt.ylabel('loss')\n",
        "plt.xlabel('epoch')\n",
        "plt.legend(['train', 'test'], loc='upper left')\n",
        "plt.show()"
      ],
      "metadata": {
        "id": "qtwpS4cCbiiO"
      },
      "execution_count": null,
      "outputs": []
    },
    {
      "cell_type": "code",
      "source": [
        "# summarize history for accuracy\n",
        "plt.plot(history.history['accuracy'])\n",
        "#plt.plot(history.history['val_accuracy'])\n",
        "plt.title('model accuracy')\n",
        "plt.ylabel('accuracy')\n",
        "plt.xlabel('epoch')\n",
        "plt.legend(['train', 'test'], loc='upper left')\n",
        "plt.show()"
      ],
      "metadata": {
        "id": "GBwMWy0PblhG"
      },
      "execution_count": null,
      "outputs": []
    },
    {
      "cell_type": "code",
      "source": [
        "model.save('device_keras_model.h5')"
      ],
      "metadata": {
        "id": "dntuXW5rw88y"
      },
      "execution_count": null,
      "outputs": []
    },
    {
      "cell_type": "markdown",
      "source": [
        "The Best Model Was a very simply 2 layers NN that can create relations between features --> 94\n",
        "--"
      ],
      "metadata": {
        "id": "W1O_rIYvqSYy"
      }
    },
    {
      "cell_type": "markdown",
      "source": [
        "# Other Models"
      ],
      "metadata": {
        "id": "9Jeu9_jbstNL"
      }
    },
    {
      "cell_type": "markdown",
      "source": [
        "### Desision Tree"
      ],
      "metadata": {
        "id": "JSFTYuU2ChWk"
      }
    },
    {
      "cell_type": "markdown",
      "source": [
        "-ve of dt:\n",
        "\n",
        "Assume Feature Independence --> so It needs feature engineering\n",
        "\n",
        "Assume equal importance for all features unless feature scaling or weighting is applied\n",
        "\n",
        "capture noise in the data\n",
        "\n",
        "Small datasets may lead to overfitting\n",
        "\n"
      ],
      "metadata": {
        "id": "M25srNh_HPFR"
      }
    },
    {
      "cell_type": "code",
      "source": [
        "from sklearn import tree\n",
        "import graphviz"
      ],
      "metadata": {
        "id": "b4YsLrxXFnbS"
      },
      "execution_count": 31,
      "outputs": []
    },
    {
      "cell_type": "code",
      "source": [
        "\n",
        "destree = tree.DecisionTreeClassifier(max_depth=4, criterion='gini',\n",
        "                               random_state=0) #entropy\n",
        "destree.fit(X_train, y_train)\n",
        "#feature_names = ['sepal length', 'sepal width', 'petal length', 'petal width']\n",
        "\n"
      ],
      "metadata": {
        "colab": {
          "base_uri": "https://localhost:8080/",
          "height": 74
        },
        "id": "v_-xDtDfCksU",
        "outputId": "e6c4b002-69f8-4d01-b9f6-2a5e405a54c7"
      },
      "execution_count": 32,
      "outputs": [
        {
          "output_type": "execute_result",
          "data": {
            "text/plain": [
              "DecisionTreeClassifier(max_depth=4, random_state=0)"
            ],
            "text/html": [
              "<style>#sk-container-id-3 {color: black;background-color: white;}#sk-container-id-3 pre{padding: 0;}#sk-container-id-3 div.sk-toggleable {background-color: white;}#sk-container-id-3 label.sk-toggleable__label {cursor: pointer;display: block;width: 100%;margin-bottom: 0;padding: 0.3em;box-sizing: border-box;text-align: center;}#sk-container-id-3 label.sk-toggleable__label-arrow:before {content: \"▸\";float: left;margin-right: 0.25em;color: #696969;}#sk-container-id-3 label.sk-toggleable__label-arrow:hover:before {color: black;}#sk-container-id-3 div.sk-estimator:hover label.sk-toggleable__label-arrow:before {color: black;}#sk-container-id-3 div.sk-toggleable__content {max-height: 0;max-width: 0;overflow: hidden;text-align: left;background-color: #f0f8ff;}#sk-container-id-3 div.sk-toggleable__content pre {margin: 0.2em;color: black;border-radius: 0.25em;background-color: #f0f8ff;}#sk-container-id-3 input.sk-toggleable__control:checked~div.sk-toggleable__content {max-height: 200px;max-width: 100%;overflow: auto;}#sk-container-id-3 input.sk-toggleable__control:checked~label.sk-toggleable__label-arrow:before {content: \"▾\";}#sk-container-id-3 div.sk-estimator input.sk-toggleable__control:checked~label.sk-toggleable__label {background-color: #d4ebff;}#sk-container-id-3 div.sk-label input.sk-toggleable__control:checked~label.sk-toggleable__label {background-color: #d4ebff;}#sk-container-id-3 input.sk-hidden--visually {border: 0;clip: rect(1px 1px 1px 1px);clip: rect(1px, 1px, 1px, 1px);height: 1px;margin: -1px;overflow: hidden;padding: 0;position: absolute;width: 1px;}#sk-container-id-3 div.sk-estimator {font-family: monospace;background-color: #f0f8ff;border: 1px dotted black;border-radius: 0.25em;box-sizing: border-box;margin-bottom: 0.5em;}#sk-container-id-3 div.sk-estimator:hover {background-color: #d4ebff;}#sk-container-id-3 div.sk-parallel-item::after {content: \"\";width: 100%;border-bottom: 1px solid gray;flex-grow: 1;}#sk-container-id-3 div.sk-label:hover label.sk-toggleable__label {background-color: #d4ebff;}#sk-container-id-3 div.sk-serial::before {content: \"\";position: absolute;border-left: 1px solid gray;box-sizing: border-box;top: 0;bottom: 0;left: 50%;z-index: 0;}#sk-container-id-3 div.sk-serial {display: flex;flex-direction: column;align-items: center;background-color: white;padding-right: 0.2em;padding-left: 0.2em;position: relative;}#sk-container-id-3 div.sk-item {position: relative;z-index: 1;}#sk-container-id-3 div.sk-parallel {display: flex;align-items: stretch;justify-content: center;background-color: white;position: relative;}#sk-container-id-3 div.sk-item::before, #sk-container-id-3 div.sk-parallel-item::before {content: \"\";position: absolute;border-left: 1px solid gray;box-sizing: border-box;top: 0;bottom: 0;left: 50%;z-index: -1;}#sk-container-id-3 div.sk-parallel-item {display: flex;flex-direction: column;z-index: 1;position: relative;background-color: white;}#sk-container-id-3 div.sk-parallel-item:first-child::after {align-self: flex-end;width: 50%;}#sk-container-id-3 div.sk-parallel-item:last-child::after {align-self: flex-start;width: 50%;}#sk-container-id-3 div.sk-parallel-item:only-child::after {width: 0;}#sk-container-id-3 div.sk-dashed-wrapped {border: 1px dashed gray;margin: 0 0.4em 0.5em 0.4em;box-sizing: border-box;padding-bottom: 0.4em;background-color: white;}#sk-container-id-3 div.sk-label label {font-family: monospace;font-weight: bold;display: inline-block;line-height: 1.2em;}#sk-container-id-3 div.sk-label-container {text-align: center;}#sk-container-id-3 div.sk-container {/* jupyter's `normalize.less` sets `[hidden] { display: none; }` but bootstrap.min.css set `[hidden] { display: none !important; }` so we also need the `!important` here to be able to override the default hidden behavior on the sphinx rendered scikit-learn.org. See: https://github.com/scikit-learn/scikit-learn/issues/21755 */display: inline-block !important;position: relative;}#sk-container-id-3 div.sk-text-repr-fallback {display: none;}</style><div id=\"sk-container-id-3\" class=\"sk-top-container\"><div class=\"sk-text-repr-fallback\"><pre>DecisionTreeClassifier(max_depth=4, random_state=0)</pre><b>In a Jupyter environment, please rerun this cell to show the HTML representation or trust the notebook. <br />On GitHub, the HTML representation is unable to render, please try loading this page with nbviewer.org.</b></div><div class=\"sk-container\" hidden><div class=\"sk-item\"><div class=\"sk-estimator sk-toggleable\"><input class=\"sk-toggleable__control sk-hidden--visually\" id=\"sk-estimator-id-5\" type=\"checkbox\" checked><label for=\"sk-estimator-id-5\" class=\"sk-toggleable__label sk-toggleable__label-arrow\">DecisionTreeClassifier</label><div class=\"sk-toggleable__content\"><pre>DecisionTreeClassifier(max_depth=4, random_state=0)</pre></div></div></div></div></div>"
            ]
          },
          "metadata": {},
          "execution_count": 32
        }
      ]
    },
    {
      "cell_type": "code",
      "source": [
        "y_pred = destree.predict(X_test)\n",
        "accuracy = accuracy_score(y_test, y_pred)\n",
        "print(\"Accuracy:\", accuracy)"
      ],
      "metadata": {
        "colab": {
          "base_uri": "https://localhost:8080/"
        },
        "id": "GaX1JXsfGL6h",
        "outputId": "441cb0b1-5415-411b-d726-3aa8b4ad1fcd"
      },
      "execution_count": 33,
      "outputs": [
        {
          "output_type": "stream",
          "name": "stdout",
          "text": [
            "Accuracy: 0.8145363408521303\n"
          ]
        }
      ]
    },
    {
      "cell_type": "code",
      "source": [
        "dot_data = tree.export_graphviz(destree, out_file=None,\n",
        "                      #feature_names=feature_names,\n",
        "                      #class_names=names,\n",
        "                                max_depth=5,\n",
        "                      filled=True, rounded=True,\n",
        "                      special_characters=True)\n",
        "\n",
        "graph = graphviz.Source(dot_data)\n",
        "display(graph)"
      ],
      "metadata": {
        "colab": {
          "base_uri": "https://localhost:8080/",
          "height": 656
        },
        "id": "5R7znjDcF-bQ",
        "outputId": "19b4684c-45cd-4311-f37e-068761af38b1"
      },
      "execution_count": 34,
      "outputs": [
        {
          "output_type": "display_data",
          "data": {
            "image/svg+xml": "<?xml version=\"1.0\" encoding=\"UTF-8\" standalone=\"no\"?>\n<!DOCTYPE svg PUBLIC \"-//W3C//DTD SVG 1.1//EN\"\n \"http://www.w3.org/Graphics/SVG/1.1/DTD/svg11.dtd\">\n<!-- Generated by graphviz version 2.43.0 (0)\n -->\n<!-- Title: Tree Pages: 1 -->\n<svg width=\"2512pt\" height=\"461pt\"\n viewBox=\"0.00 0.00 2511.50 461.00\" xmlns=\"http://www.w3.org/2000/svg\" xmlns:xlink=\"http://www.w3.org/1999/xlink\">\n<g id=\"graph0\" class=\"graph\" transform=\"scale(1 1) rotate(0) translate(4 457)\">\n<title>Tree</title>\n<polygon fill=\"white\" stroke=\"transparent\" points=\"-4,4 -4,-457 2507.5,-457 2507.5,4 -4,4\"/>\n<!-- 0 -->\n<g id=\"node1\" class=\"node\">\n<title>0</title>\n<path fill=\"#fefffe\" stroke=\"black\" d=\"M1327,-453C1327,-453 1166,-453 1166,-453 1160,-453 1154,-447 1154,-441 1154,-441 1154,-401 1154,-401 1154,-395 1160,-389 1166,-389 1166,-389 1327,-389 1327,-389 1333,-389 1339,-395 1339,-401 1339,-401 1339,-441 1339,-441 1339,-447 1333,-453 1327,-453\"/>\n<text text-anchor=\"start\" x=\"1207.5\" y=\"-438.8\" font-family=\"Helvetica,sans-Serif\" font-size=\"14.00\">x</text>\n<text text-anchor=\"start\" x=\"1214.5\" y=\"-438.8\" font-family=\"Helvetica,sans-Serif\" baseline-shift=\"sub\" font-size=\"14.00\">13</text>\n<text text-anchor=\"start\" x=\"1228.5\" y=\"-438.8\" font-family=\"Helvetica,sans-Serif\" font-size=\"14.00\"> ≤ 2247.0</text>\n<text text-anchor=\"start\" x=\"1214.5\" y=\"-424.8\" font-family=\"Helvetica,sans-Serif\" font-size=\"14.00\">gini = 0.75</text>\n<text text-anchor=\"start\" x=\"1198\" y=\"-410.8\" font-family=\"Helvetica,sans-Serif\" font-size=\"14.00\">samples = 1592</text>\n<text text-anchor=\"start\" x=\"1162\" y=\"-396.8\" font-family=\"Helvetica,sans-Serif\" font-size=\"14.00\">value = [393, 407, 392, 400]</text>\n</g>\n<!-- 1 -->\n<g id=\"node2\" class=\"node\">\n<title>1</title>\n<path fill=\"#fdf6f1\" stroke=\"black\" d=\"M991.5,-353C991.5,-353 853.5,-353 853.5,-353 847.5,-353 841.5,-347 841.5,-341 841.5,-341 841.5,-301 841.5,-301 841.5,-295 847.5,-289 853.5,-289 853.5,-289 991.5,-289 991.5,-289 997.5,-289 1003.5,-295 1003.5,-301 1003.5,-301 1003.5,-341 1003.5,-341 1003.5,-347 997.5,-353 991.5,-353\"/>\n<text text-anchor=\"start\" x=\"883.5\" y=\"-338.8\" font-family=\"Helvetica,sans-Serif\" font-size=\"14.00\">x</text>\n<text text-anchor=\"start\" x=\"890.5\" y=\"-338.8\" font-family=\"Helvetica,sans-Serif\" baseline-shift=\"sub\" font-size=\"14.00\">13</text>\n<text text-anchor=\"start\" x=\"904.5\" y=\"-338.8\" font-family=\"Helvetica,sans-Serif\" font-size=\"14.00\"> ≤ 1106.0</text>\n<text text-anchor=\"start\" x=\"887\" y=\"-324.8\" font-family=\"Helvetica,sans-Serif\" font-size=\"14.00\">gini = 0.585</text>\n<text text-anchor=\"start\" x=\"877.5\" y=\"-310.8\" font-family=\"Helvetica,sans-Serif\" font-size=\"14.00\">samples = 837</text>\n<text text-anchor=\"start\" x=\"849.5\" y=\"-296.8\" font-family=\"Helvetica,sans-Serif\" font-size=\"14.00\">value = [393, 359, 85, 0]</text>\n</g>\n<!-- 0&#45;&gt;1 -->\n<g id=\"edge1\" class=\"edge\">\n<title>0&#45;&gt;1</title>\n<path fill=\"none\" stroke=\"black\" d=\"M1153.65,-391.92C1109.58,-378.59 1057.11,-362.71 1013.3,-349.47\"/>\n<polygon fill=\"black\" stroke=\"black\" points=\"1014.11,-346.05 1003.52,-346.51 1012.08,-352.75 1014.11,-346.05\"/>\n<text text-anchor=\"middle\" x=\"1015.32\" y=\"-364.84\" font-family=\"Helvetica,sans-Serif\" font-size=\"14.00\">True</text>\n</g>\n<!-- 16 -->\n<g id=\"node17\" class=\"node\">\n<title>16</title>\n<path fill=\"#f7d6fa\" stroke=\"black\" d=\"M1643.5,-353C1643.5,-353 1505.5,-353 1505.5,-353 1499.5,-353 1493.5,-347 1493.5,-341 1493.5,-341 1493.5,-301 1493.5,-301 1493.5,-295 1499.5,-289 1505.5,-289 1505.5,-289 1643.5,-289 1643.5,-289 1649.5,-289 1655.5,-295 1655.5,-301 1655.5,-301 1655.5,-341 1655.5,-341 1655.5,-347 1649.5,-353 1643.5,-353\"/>\n<text text-anchor=\"start\" x=\"1535.5\" y=\"-338.8\" font-family=\"Helvetica,sans-Serif\" font-size=\"14.00\">x</text>\n<text text-anchor=\"start\" x=\"1542.5\" y=\"-338.8\" font-family=\"Helvetica,sans-Serif\" baseline-shift=\"sub\" font-size=\"14.00\">13</text>\n<text text-anchor=\"start\" x=\"1556.5\" y=\"-338.8\" font-family=\"Helvetica,sans-Serif\" font-size=\"14.00\"> ≤ 3013.5</text>\n<text text-anchor=\"start\" x=\"1542.5\" y=\"-324.8\" font-family=\"Helvetica,sans-Serif\" font-size=\"14.00\">gini = 0.55</text>\n<text text-anchor=\"start\" x=\"1529.5\" y=\"-310.8\" font-family=\"Helvetica,sans-Serif\" font-size=\"14.00\">samples = 755</text>\n<text text-anchor=\"start\" x=\"1501.5\" y=\"-296.8\" font-family=\"Helvetica,sans-Serif\" font-size=\"14.00\">value = [0, 48, 307, 400]</text>\n</g>\n<!-- 0&#45;&gt;16 -->\n<g id=\"edge16\" class=\"edge\">\n<title>0&#45;&gt;16</title>\n<path fill=\"none\" stroke=\"black\" d=\"M1339.18,-392.31C1384.45,-378.78 1438.72,-362.57 1483.73,-349.12\"/>\n<polygon fill=\"black\" stroke=\"black\" points=\"1484.9,-352.42 1493.48,-346.21 1482.9,-345.72 1484.9,-352.42\"/>\n<text text-anchor=\"middle\" x=\"1481.61\" y=\"-364.5\" font-family=\"Helvetica,sans-Serif\" font-size=\"14.00\">False</text>\n</g>\n<!-- 2 -->\n<g id=\"node3\" class=\"node\">\n<title>2</title>\n<path fill=\"#e89051\" stroke=\"black\" d=\"M525,-253C525,-253 402,-253 402,-253 396,-253 390,-247 390,-241 390,-241 390,-201 390,-201 390,-195 396,-189 402,-189 402,-189 525,-189 525,-189 531,-189 537,-195 537,-201 537,-201 537,-241 537,-241 537,-247 531,-253 525,-253\"/>\n<text text-anchor=\"start\" x=\"424.5\" y=\"-238.8\" font-family=\"Helvetica,sans-Serif\" font-size=\"14.00\">x</text>\n<text text-anchor=\"start\" x=\"431.5\" y=\"-238.8\" font-family=\"Helvetica,sans-Serif\" baseline-shift=\"sub\" font-size=\"14.00\">11</text>\n<text text-anchor=\"start\" x=\"445.5\" y=\"-238.8\" font-family=\"Helvetica,sans-Serif\" font-size=\"14.00\"> ≤ 1445.0</text>\n<text text-anchor=\"start\" x=\"428\" y=\"-224.8\" font-family=\"Helvetica,sans-Serif\" font-size=\"14.00\">gini = 0.195</text>\n<text text-anchor=\"start\" x=\"418.5\" y=\"-210.8\" font-family=\"Helvetica,sans-Serif\" font-size=\"14.00\">samples = 357</text>\n<text text-anchor=\"start\" x=\"398\" y=\"-196.8\" font-family=\"Helvetica,sans-Serif\" font-size=\"14.00\">value = [318, 39, 0, 0]</text>\n</g>\n<!-- 1&#45;&gt;2 -->\n<g id=\"edge2\" class=\"edge\">\n<title>1&#45;&gt;2</title>\n<path fill=\"none\" stroke=\"black\" d=\"M841.5,-302.71C758.77,-285.04 630.94,-257.75 547.23,-239.88\"/>\n<polygon fill=\"black\" stroke=\"black\" points=\"547.76,-236.41 537.25,-237.75 546.3,-243.26 547.76,-236.41\"/>\n</g>\n<!-- 9 -->\n<g id=\"node10\" class=\"node\">\n<title>9</title>\n<path fill=\"#92f089\" stroke=\"black\" d=\"M988,-253C988,-253 857,-253 857,-253 851,-253 845,-247 845,-241 845,-241 845,-201 845,-201 845,-195 851,-189 857,-189 857,-189 988,-189 988,-189 994,-189 1000,-195 1000,-201 1000,-201 1000,-241 1000,-241 1000,-247 994,-253 988,-253\"/>\n<text text-anchor=\"start\" x=\"887\" y=\"-238.8\" font-family=\"Helvetica,sans-Serif\" font-size=\"14.00\">x</text>\n<text text-anchor=\"start\" x=\"894\" y=\"-238.8\" font-family=\"Helvetica,sans-Serif\" baseline-shift=\"sub\" font-size=\"14.00\">0</text>\n<text text-anchor=\"start\" x=\"901\" y=\"-238.8\" font-family=\"Helvetica,sans-Serif\" font-size=\"14.00\"> ≤ 1062.5</text>\n<text text-anchor=\"start\" x=\"894.5\" y=\"-224.8\" font-family=\"Helvetica,sans-Serif\" font-size=\"14.00\">gini = 0.5</text>\n<text text-anchor=\"start\" x=\"877.5\" y=\"-210.8\" font-family=\"Helvetica,sans-Serif\" font-size=\"14.00\">samples = 480</text>\n<text text-anchor=\"start\" x=\"853\" y=\"-196.8\" font-family=\"Helvetica,sans-Serif\" font-size=\"14.00\">value = [75, 320, 85, 0]</text>\n</g>\n<!-- 1&#45;&gt;9 -->\n<g id=\"edge9\" class=\"edge\">\n<title>1&#45;&gt;9</title>\n<path fill=\"none\" stroke=\"black\" d=\"M922.5,-288.99C922.5,-280.86 922.5,-271.96 922.5,-263.38\"/>\n<polygon fill=\"black\" stroke=\"black\" points=\"926,-263.14 922.5,-253.14 919,-263.14 926,-263.14\"/>\n</g>\n<!-- 3 -->\n<g id=\"node4\" class=\"node\">\n<title>3</title>\n<path fill=\"#e78b49\" stroke=\"black\" d=\"M297,-153C297,-153 174,-153 174,-153 168,-153 162,-147 162,-141 162,-141 162,-101 162,-101 162,-95 168,-89 174,-89 174,-89 297,-89 297,-89 303,-89 309,-95 309,-101 309,-101 309,-141 309,-141 309,-147 303,-153 297,-153\"/>\n<text text-anchor=\"start\" x=\"200\" y=\"-138.8\" font-family=\"Helvetica,sans-Serif\" font-size=\"14.00\">x</text>\n<text text-anchor=\"start\" x=\"207\" y=\"-138.8\" font-family=\"Helvetica,sans-Serif\" baseline-shift=\"sub\" font-size=\"14.00\">0</text>\n<text text-anchor=\"start\" x=\"214\" y=\"-138.8\" font-family=\"Helvetica,sans-Serif\" font-size=\"14.00\"> ≤ 1804.5</text>\n<text text-anchor=\"start\" x=\"200\" y=\"-124.8\" font-family=\"Helvetica,sans-Serif\" font-size=\"14.00\">gini = 0.141</text>\n<text text-anchor=\"start\" x=\"190.5\" y=\"-110.8\" font-family=\"Helvetica,sans-Serif\" font-size=\"14.00\">samples = 340</text>\n<text text-anchor=\"start\" x=\"170\" y=\"-96.8\" font-family=\"Helvetica,sans-Serif\" font-size=\"14.00\">value = [314, 26, 0, 0]</text>\n</g>\n<!-- 2&#45;&gt;3 -->\n<g id=\"edge3\" class=\"edge\">\n<title>2&#45;&gt;3</title>\n<path fill=\"none\" stroke=\"black\" d=\"M391.36,-188.99C367.86,-178.89 341.61,-167.61 317.45,-157.23\"/>\n<polygon fill=\"black\" stroke=\"black\" points=\"318.52,-153.88 307.95,-153.14 315.76,-160.31 318.52,-153.88\"/>\n</g>\n<!-- 6 -->\n<g id=\"node7\" class=\"node\">\n<title>6</title>\n<path fill=\"#80ed76\" stroke=\"black\" d=\"M517.5,-153C517.5,-153 409.5,-153 409.5,-153 403.5,-153 397.5,-147 397.5,-141 397.5,-141 397.5,-101 397.5,-101 397.5,-95 403.5,-89 409.5,-89 409.5,-89 517.5,-89 517.5,-89 523.5,-89 529.5,-95 529.5,-101 529.5,-101 529.5,-141 529.5,-141 529.5,-147 523.5,-153 517.5,-153\"/>\n<text text-anchor=\"start\" x=\"428\" y=\"-138.8\" font-family=\"Helvetica,sans-Serif\" font-size=\"14.00\">x</text>\n<text text-anchor=\"start\" x=\"435\" y=\"-138.8\" font-family=\"Helvetica,sans-Serif\" baseline-shift=\"sub\" font-size=\"14.00\">0</text>\n<text text-anchor=\"start\" x=\"442\" y=\"-138.8\" font-family=\"Helvetica,sans-Serif\" font-size=\"14.00\"> ≤ 1192.0</text>\n<text text-anchor=\"start\" x=\"431.5\" y=\"-124.8\" font-family=\"Helvetica,sans-Serif\" font-size=\"14.00\">gini = 0.36</text>\n<text text-anchor=\"start\" x=\"422.5\" y=\"-110.8\" font-family=\"Helvetica,sans-Serif\" font-size=\"14.00\">samples = 17</text>\n<text text-anchor=\"start\" x=\"405.5\" y=\"-96.8\" font-family=\"Helvetica,sans-Serif\" font-size=\"14.00\">value = [4, 13, 0, 0]</text>\n</g>\n<!-- 2&#45;&gt;6 -->\n<g id=\"edge6\" class=\"edge\">\n<title>2&#45;&gt;6</title>\n<path fill=\"none\" stroke=\"black\" d=\"M463.5,-188.99C463.5,-180.86 463.5,-171.96 463.5,-163.38\"/>\n<polygon fill=\"black\" stroke=\"black\" points=\"467,-163.14 463.5,-153.14 460,-163.14 467,-163.14\"/>\n</g>\n<!-- 4 -->\n<g id=\"node5\" class=\"node\">\n<title>4</title>\n<path fill=\"#e68742\" stroke=\"black\" d=\"M135,-53C135,-53 12,-53 12,-53 6,-53 0,-47 0,-41 0,-41 0,-12 0,-12 0,-6 6,0 12,0 12,0 135,0 135,0 141,0 147,-6 147,-12 147,-12 147,-41 147,-41 147,-47 141,-53 135,-53\"/>\n<text text-anchor=\"start\" x=\"38\" y=\"-37.8\" font-family=\"Helvetica,sans-Serif\" font-size=\"14.00\">gini = 0.082</text>\n<text text-anchor=\"start\" x=\"28.5\" y=\"-22.8\" font-family=\"Helvetica,sans-Serif\" font-size=\"14.00\">samples = 302</text>\n<text text-anchor=\"start\" x=\"8\" y=\"-7.8\" font-family=\"Helvetica,sans-Serif\" font-size=\"14.00\">value = [289, 13, 0, 0]</text>\n</g>\n<!-- 3&#45;&gt;4 -->\n<g id=\"edge4\" class=\"edge\">\n<title>3&#45;&gt;4</title>\n<path fill=\"none\" stroke=\"black\" d=\"M181.11,-88.94C163.73,-79.02 144.51,-68.05 127.19,-58.15\"/>\n<polygon fill=\"black\" stroke=\"black\" points=\"128.74,-55.01 118.32,-53.09 125.27,-61.09 128.74,-55.01\"/>\n</g>\n<!-- 5 -->\n<g id=\"node6\" class=\"node\">\n<title>5</title>\n<path fill=\"#f3c3a0\" stroke=\"black\" d=\"M293.5,-53C293.5,-53 177.5,-53 177.5,-53 171.5,-53 165.5,-47 165.5,-41 165.5,-41 165.5,-12 165.5,-12 165.5,-6 171.5,0 177.5,0 177.5,0 293.5,0 293.5,0 299.5,0 305.5,-6 305.5,-12 305.5,-12 305.5,-41 305.5,-41 305.5,-47 299.5,-53 293.5,-53\"/>\n<text text-anchor=\"start\" x=\"203.5\" y=\"-37.8\" font-family=\"Helvetica,sans-Serif\" font-size=\"14.00\">gini = 0.45</text>\n<text text-anchor=\"start\" x=\"194.5\" y=\"-22.8\" font-family=\"Helvetica,sans-Serif\" font-size=\"14.00\">samples = 38</text>\n<text text-anchor=\"start\" x=\"173.5\" y=\"-7.8\" font-family=\"Helvetica,sans-Serif\" font-size=\"14.00\">value = [25, 13, 0, 0]</text>\n</g>\n<!-- 3&#45;&gt;5 -->\n<g id=\"edge5\" class=\"edge\">\n<title>3&#45;&gt;5</title>\n<path fill=\"none\" stroke=\"black\" d=\"M235.5,-88.94C235.5,-80.66 235.5,-71.64 235.5,-63.13\"/>\n<polygon fill=\"black\" stroke=\"black\" points=\"239,-63.09 235.5,-53.09 232,-63.09 239,-63.09\"/>\n</g>\n<!-- 7 -->\n<g id=\"node8\" class=\"node\">\n<title>7</title>\n<path fill=\"#f2c09c\" stroke=\"black\" d=\"M437,-53C437,-53 336,-53 336,-53 330,-53 324,-47 324,-41 324,-41 324,-12 324,-12 324,-6 330,0 336,0 336,0 437,0 437,0 443,0 449,-6 449,-12 449,-12 449,-41 449,-41 449,-47 443,-53 437,-53\"/>\n<text text-anchor=\"start\" x=\"351\" y=\"-37.8\" font-family=\"Helvetica,sans-Serif\" font-size=\"14.00\">gini = 0.444</text>\n<text text-anchor=\"start\" x=\"349\" y=\"-22.8\" font-family=\"Helvetica,sans-Serif\" font-size=\"14.00\">samples = 6</text>\n<text text-anchor=\"start\" x=\"332\" y=\"-7.8\" font-family=\"Helvetica,sans-Serif\" font-size=\"14.00\">value = [4, 2, 0, 0]</text>\n</g>\n<!-- 6&#45;&gt;7 -->\n<g id=\"edge7\" class=\"edge\">\n<title>6&#45;&gt;7</title>\n<path fill=\"none\" stroke=\"black\" d=\"M437.65,-88.94C430.14,-79.93 421.92,-70.05 414.31,-60.9\"/>\n<polygon fill=\"black\" stroke=\"black\" points=\"416.89,-58.54 407.8,-53.09 411.51,-63.02 416.89,-58.54\"/>\n</g>\n<!-- 8 -->\n<g id=\"node9\" class=\"node\">\n<title>8</title>\n<path fill=\"#47e539\" stroke=\"black\" d=\"M587.5,-53C587.5,-53 479.5,-53 479.5,-53 473.5,-53 467.5,-47 467.5,-41 467.5,-41 467.5,-12 467.5,-12 467.5,-6 473.5,0 479.5,0 479.5,0 587.5,0 587.5,0 593.5,0 599.5,-6 599.5,-12 599.5,-12 599.5,-41 599.5,-41 599.5,-47 593.5,-53 587.5,-53\"/>\n<text text-anchor=\"start\" x=\"505.5\" y=\"-37.8\" font-family=\"Helvetica,sans-Serif\" font-size=\"14.00\">gini = 0.0</text>\n<text text-anchor=\"start\" x=\"492.5\" y=\"-22.8\" font-family=\"Helvetica,sans-Serif\" font-size=\"14.00\">samples = 11</text>\n<text text-anchor=\"start\" x=\"475.5\" y=\"-7.8\" font-family=\"Helvetica,sans-Serif\" font-size=\"14.00\">value = [0, 11, 0, 0]</text>\n</g>\n<!-- 6&#45;&gt;8 -->\n<g id=\"edge8\" class=\"edge\">\n<title>6&#45;&gt;8</title>\n<path fill=\"none\" stroke=\"black\" d=\"M487,-88.94C493.75,-80.02 501.15,-70.25 508.01,-61.18\"/>\n<polygon fill=\"black\" stroke=\"black\" points=\"510.89,-63.18 514.13,-53.09 505.31,-58.95 510.89,-63.18\"/>\n</g>\n<!-- 10 -->\n<g id=\"node11\" class=\"node\">\n<title>10</title>\n<path fill=\"#baf5b5\" stroke=\"black\" d=\"M900,-153C900,-153 777,-153 777,-153 771,-153 765,-147 765,-141 765,-141 765,-101 765,-101 765,-95 771,-89 777,-89 777,-89 900,-89 900,-89 906,-89 912,-95 912,-101 912,-101 912,-141 912,-141 912,-147 906,-153 900,-153\"/>\n<text text-anchor=\"start\" x=\"799.5\" y=\"-138.8\" font-family=\"Helvetica,sans-Serif\" font-size=\"14.00\">x</text>\n<text text-anchor=\"start\" x=\"806.5\" y=\"-138.8\" font-family=\"Helvetica,sans-Serif\" baseline-shift=\"sub\" font-size=\"14.00\">13</text>\n<text text-anchor=\"start\" x=\"820.5\" y=\"-138.8\" font-family=\"Helvetica,sans-Serif\" font-size=\"14.00\"> ≤ 1541.0</text>\n<text text-anchor=\"start\" x=\"803\" y=\"-124.8\" font-family=\"Helvetica,sans-Serif\" font-size=\"14.00\">gini = 0.504</text>\n<text text-anchor=\"start\" x=\"793.5\" y=\"-110.8\" font-family=\"Helvetica,sans-Serif\" font-size=\"14.00\">samples = 176</text>\n<text text-anchor=\"start\" x=\"773\" y=\"-96.8\" font-family=\"Helvetica,sans-Serif\" font-size=\"14.00\">value = [64, 106, 6, 0]</text>\n</g>\n<!-- 9&#45;&gt;10 -->\n<g id=\"edge10\" class=\"edge\">\n<title>9&#45;&gt;10</title>\n<path fill=\"none\" stroke=\"black\" d=\"M895.92,-188.99C888.26,-180.06 879.81,-170.19 871.79,-160.84\"/>\n<polygon fill=\"black\" stroke=\"black\" points=\"874.36,-158.46 865.19,-153.14 869.04,-163.01 874.36,-158.46\"/>\n</g>\n<!-- 13 -->\n<g id=\"node14\" class=\"node\">\n<title>13</title>\n<path fill=\"#91ef88\" stroke=\"black\" d=\"M1073,-153C1073,-153 942,-153 942,-153 936,-153 930,-147 930,-141 930,-141 930,-101 930,-101 930,-95 936,-89 942,-89 942,-89 1073,-89 1073,-89 1079,-89 1085,-95 1085,-101 1085,-101 1085,-141 1085,-141 1085,-147 1079,-153 1073,-153\"/>\n<text text-anchor=\"start\" x=\"968.5\" y=\"-138.8\" font-family=\"Helvetica,sans-Serif\" font-size=\"14.00\">x</text>\n<text text-anchor=\"start\" x=\"975.5\" y=\"-138.8\" font-family=\"Helvetica,sans-Serif\" baseline-shift=\"sub\" font-size=\"14.00\">13</text>\n<text text-anchor=\"start\" x=\"989.5\" y=\"-138.8\" font-family=\"Helvetica,sans-Serif\" font-size=\"14.00\"> ≤ 1896.5</text>\n<text text-anchor=\"start\" x=\"972\" y=\"-124.8\" font-family=\"Helvetica,sans-Serif\" font-size=\"14.00\">gini = 0.436</text>\n<text text-anchor=\"start\" x=\"962.5\" y=\"-110.8\" font-family=\"Helvetica,sans-Serif\" font-size=\"14.00\">samples = 304</text>\n<text text-anchor=\"start\" x=\"938\" y=\"-96.8\" font-family=\"Helvetica,sans-Serif\" font-size=\"14.00\">value = [11, 214, 79, 0]</text>\n</g>\n<!-- 9&#45;&gt;13 -->\n<g id=\"edge13\" class=\"edge\">\n<title>9&#45;&gt;13</title>\n<path fill=\"none\" stroke=\"black\" d=\"M949.39,-188.99C957.15,-180.06 965.7,-170.19 973.81,-160.84\"/>\n<polygon fill=\"black\" stroke=\"black\" points=\"976.58,-162.99 980.49,-153.14 971.29,-158.4 976.58,-162.99\"/>\n</g>\n<!-- 11 -->\n<g id=\"node12\" class=\"node\">\n<title>11</title>\n<path fill=\"#eb9e67\" stroke=\"black\" d=\"M745.5,-53C745.5,-53 629.5,-53 629.5,-53 623.5,-53 617.5,-47 617.5,-41 617.5,-41 617.5,-12 617.5,-12 617.5,-6 623.5,0 629.5,0 629.5,0 745.5,0 745.5,0 751.5,0 757.5,-6 757.5,-12 757.5,-12 757.5,-41 757.5,-41 757.5,-47 751.5,-53 745.5,-53\"/>\n<text text-anchor=\"start\" x=\"652\" y=\"-37.8\" font-family=\"Helvetica,sans-Serif\" font-size=\"14.00\">gini = 0.306</text>\n<text text-anchor=\"start\" x=\"646.5\" y=\"-22.8\" font-family=\"Helvetica,sans-Serif\" font-size=\"14.00\">samples = 69</text>\n<text text-anchor=\"start\" x=\"625.5\" y=\"-7.8\" font-family=\"Helvetica,sans-Serif\" font-size=\"14.00\">value = [56, 13, 0, 0]</text>\n</g>\n<!-- 10&#45;&gt;11 -->\n<g id=\"edge11\" class=\"edge\">\n<title>10&#45;&gt;11</title>\n<path fill=\"none\" stroke=\"black\" d=\"M787.8,-88.94C771.75,-79.11 754.02,-68.25 737.99,-58.43\"/>\n<polygon fill=\"black\" stroke=\"black\" points=\"739.63,-55.33 729.28,-53.09 735.97,-61.3 739.63,-55.33\"/>\n</g>\n<!-- 12 -->\n<g id=\"node13\" class=\"node\">\n<title>12</title>\n<path fill=\"#61e955\" stroke=\"black\" d=\"M895.5,-53C895.5,-53 787.5,-53 787.5,-53 781.5,-53 775.5,-47 775.5,-41 775.5,-41 775.5,-12 775.5,-12 775.5,-6 781.5,0 787.5,0 787.5,0 895.5,0 895.5,0 901.5,0 907.5,-6 907.5,-12 907.5,-12 907.5,-41 907.5,-41 907.5,-47 901.5,-53 895.5,-53\"/>\n<text text-anchor=\"start\" x=\"806\" y=\"-37.8\" font-family=\"Helvetica,sans-Serif\" font-size=\"14.00\">gini = 0.236</text>\n<text text-anchor=\"start\" x=\"796.5\" y=\"-22.8\" font-family=\"Helvetica,sans-Serif\" font-size=\"14.00\">samples = 107</text>\n<text text-anchor=\"start\" x=\"783.5\" y=\"-7.8\" font-family=\"Helvetica,sans-Serif\" font-size=\"14.00\">value = [8, 93, 6, 0]</text>\n</g>\n<!-- 10&#45;&gt;12 -->\n<g id=\"edge12\" class=\"edge\">\n<title>10&#45;&gt;12</title>\n<path fill=\"none\" stroke=\"black\" d=\"M839.51,-88.94C839.78,-80.66 840.07,-71.64 840.34,-63.13\"/>\n<polygon fill=\"black\" stroke=\"black\" points=\"843.84,-63.2 840.67,-53.09 836.85,-62.97 843.84,-63.2\"/>\n</g>\n<!-- 14 -->\n<g id=\"node15\" class=\"node\">\n<title>14</title>\n<path fill=\"#6feb64\" stroke=\"black\" d=\"M1069,-53C1069,-53 938,-53 938,-53 932,-53 926,-47 926,-41 926,-41 926,-12 926,-12 926,-6 932,0 938,0 938,0 1069,0 1069,0 1075,0 1081,-6 1081,-12 1081,-12 1081,-41 1081,-41 1081,-47 1075,-53 1069,-53\"/>\n<text text-anchor=\"start\" x=\"968\" y=\"-37.8\" font-family=\"Helvetica,sans-Serif\" font-size=\"14.00\">gini = 0.318</text>\n<text text-anchor=\"start\" x=\"958.5\" y=\"-22.8\" font-family=\"Helvetica,sans-Serif\" font-size=\"14.00\">samples = 224</text>\n<text text-anchor=\"start\" x=\"934\" y=\"-7.8\" font-family=\"Helvetica,sans-Serif\" font-size=\"14.00\">value = [11, 182, 31, 0]</text>\n</g>\n<!-- 13&#45;&gt;14 -->\n<g id=\"edge14\" class=\"edge\">\n<title>13&#45;&gt;14</title>\n<path fill=\"none\" stroke=\"black\" d=\"M1006.16,-88.94C1005.8,-80.66 1005.41,-71.64 1005.04,-63.13\"/>\n<polygon fill=\"black\" stroke=\"black\" points=\"1008.54,-62.93 1004.61,-53.09 1001.54,-63.23 1008.54,-62.93\"/>\n</g>\n<!-- 15 -->\n<g id=\"node16\" class=\"node\">\n<title>15</title>\n<path fill=\"#bddef6\" stroke=\"black\" d=\"M1227.5,-53C1227.5,-53 1111.5,-53 1111.5,-53 1105.5,-53 1099.5,-47 1099.5,-41 1099.5,-41 1099.5,-12 1099.5,-12 1099.5,-6 1105.5,0 1111.5,0 1111.5,0 1227.5,0 1227.5,0 1233.5,0 1239.5,-6 1239.5,-12 1239.5,-12 1239.5,-41 1239.5,-41 1239.5,-47 1233.5,-53 1227.5,-53\"/>\n<text text-anchor=\"start\" x=\"1137.5\" y=\"-37.8\" font-family=\"Helvetica,sans-Serif\" font-size=\"14.00\">gini = 0.48</text>\n<text text-anchor=\"start\" x=\"1128.5\" y=\"-22.8\" font-family=\"Helvetica,sans-Serif\" font-size=\"14.00\">samples = 80</text>\n<text text-anchor=\"start\" x=\"1107.5\" y=\"-7.8\" font-family=\"Helvetica,sans-Serif\" font-size=\"14.00\">value = [0, 32, 48, 0]</text>\n</g>\n<!-- 13&#45;&gt;15 -->\n<g id=\"edge15\" class=\"edge\">\n<title>13&#45;&gt;15</title>\n<path fill=\"none\" stroke=\"black\" d=\"M1061.89,-88.94C1079.27,-79.02 1098.49,-68.05 1115.81,-58.15\"/>\n<polygon fill=\"black\" stroke=\"black\" points=\"1117.73,-61.09 1124.68,-53.09 1114.26,-55.01 1117.73,-61.09\"/>\n</g>\n<!-- 17 -->\n<g id=\"node18\" class=\"node\">\n<title>17</title>\n<path fill=\"#7fc0ee\" stroke=\"black\" d=\"M1640,-253C1640,-253 1509,-253 1509,-253 1503,-253 1497,-247 1497,-241 1497,-241 1497,-201 1497,-201 1497,-195 1503,-189 1509,-189 1509,-189 1640,-189 1640,-189 1646,-189 1652,-195 1652,-201 1652,-201 1652,-241 1652,-241 1652,-247 1646,-253 1640,-253\"/>\n<text text-anchor=\"start\" x=\"1535.5\" y=\"-238.8\" font-family=\"Helvetica,sans-Serif\" font-size=\"14.00\">x</text>\n<text text-anchor=\"start\" x=\"1542.5\" y=\"-238.8\" font-family=\"Helvetica,sans-Serif\" baseline-shift=\"sub\" font-size=\"14.00\">11</text>\n<text text-anchor=\"start\" x=\"1556.5\" y=\"-238.8\" font-family=\"Helvetica,sans-Serif\" font-size=\"14.00\"> ≤ 1090.0</text>\n<text text-anchor=\"start\" x=\"1539\" y=\"-224.8\" font-family=\"Helvetica,sans-Serif\" font-size=\"14.00\">gini = 0.463</text>\n<text text-anchor=\"start\" x=\"1529.5\" y=\"-210.8\" font-family=\"Helvetica,sans-Serif\" font-size=\"14.00\">samples = 339</text>\n<text text-anchor=\"start\" x=\"1505\" y=\"-196.8\" font-family=\"Helvetica,sans-Serif\" font-size=\"14.00\">value = [0, 48, 238, 53]</text>\n</g>\n<!-- 16&#45;&gt;17 -->\n<g id=\"edge17\" class=\"edge\">\n<title>16&#45;&gt;17</title>\n<path fill=\"none\" stroke=\"black\" d=\"M1574.5,-288.99C1574.5,-280.86 1574.5,-271.96 1574.5,-263.38\"/>\n<polygon fill=\"black\" stroke=\"black\" points=\"1578,-263.14 1574.5,-253.14 1571,-263.14 1578,-263.14\"/>\n</g>\n<!-- 24 -->\n<g id=\"node25\" class=\"node\">\n<title>24</title>\n<path fill=\"#df60ea\" stroke=\"black\" d=\"M2098,-253C2098,-253 1975,-253 1975,-253 1969,-253 1963,-247 1963,-241 1963,-241 1963,-201 1963,-201 1963,-195 1969,-189 1975,-189 1975,-189 2098,-189 2098,-189 2104,-189 2110,-195 2110,-201 2110,-201 2110,-241 2110,-241 2110,-247 2104,-253 2098,-253\"/>\n<text text-anchor=\"start\" x=\"2005\" y=\"-238.8\" font-family=\"Helvetica,sans-Serif\" font-size=\"14.00\">x</text>\n<text text-anchor=\"start\" x=\"2012\" y=\"-238.8\" font-family=\"Helvetica,sans-Serif\" baseline-shift=\"sub\" font-size=\"14.00\">0</text>\n<text text-anchor=\"start\" x=\"2019\" y=\"-238.8\" font-family=\"Helvetica,sans-Serif\" font-size=\"14.00\"> ≤ 999.5</text>\n<text text-anchor=\"start\" x=\"2001\" y=\"-224.8\" font-family=\"Helvetica,sans-Serif\" font-size=\"14.00\">gini = 0.277</text>\n<text text-anchor=\"start\" x=\"1991.5\" y=\"-210.8\" font-family=\"Helvetica,sans-Serif\" font-size=\"14.00\">samples = 416</text>\n<text text-anchor=\"start\" x=\"1971\" y=\"-196.8\" font-family=\"Helvetica,sans-Serif\" font-size=\"14.00\">value = [0, 0, 69, 347]</text>\n</g>\n<!-- 16&#45;&gt;24 -->\n<g id=\"edge24\" class=\"edge\">\n<title>16&#45;&gt;24</title>\n<path fill=\"none\" stroke=\"black\" d=\"M1655.5,-302.82C1739.02,-285.1 1868.62,-257.61 1953.03,-239.71\"/>\n<polygon fill=\"black\" stroke=\"black\" points=\"1953.78,-243.12 1962.84,-237.62 1952.33,-236.28 1953.78,-243.12\"/>\n</g>\n<!-- 18 -->\n<g id=\"node19\" class=\"node\">\n<title>18</title>\n<path fill=\"#77bced\" stroke=\"black\" d=\"M1557,-153C1557,-153 1426,-153 1426,-153 1420,-153 1414,-147 1414,-141 1414,-141 1414,-101 1414,-101 1414,-95 1420,-89 1426,-89 1426,-89 1557,-89 1557,-89 1563,-89 1569,-95 1569,-101 1569,-101 1569,-141 1569,-141 1569,-147 1563,-153 1557,-153\"/>\n<text text-anchor=\"start\" x=\"1460\" y=\"-138.8\" font-family=\"Helvetica,sans-Serif\" font-size=\"14.00\">x</text>\n<text text-anchor=\"start\" x=\"1467\" y=\"-138.8\" font-family=\"Helvetica,sans-Serif\" baseline-shift=\"sub\" font-size=\"14.00\">0</text>\n<text text-anchor=\"start\" x=\"1474\" y=\"-138.8\" font-family=\"Helvetica,sans-Serif\" font-size=\"14.00\"> ≤ 916.5</text>\n<text text-anchor=\"start\" x=\"1456\" y=\"-124.8\" font-family=\"Helvetica,sans-Serif\" font-size=\"14.00\">gini = 0.415</text>\n<text text-anchor=\"start\" x=\"1446.5\" y=\"-110.8\" font-family=\"Helvetica,sans-Serif\" font-size=\"14.00\">samples = 277</text>\n<text text-anchor=\"start\" x=\"1422\" y=\"-96.8\" font-family=\"Helvetica,sans-Serif\" font-size=\"14.00\">value = [0, 48, 205, 24]</text>\n</g>\n<!-- 17&#45;&gt;18 -->\n<g id=\"edge18\" class=\"edge\">\n<title>17&#45;&gt;18</title>\n<path fill=\"none\" stroke=\"black\" d=\"M1548.24,-188.99C1540.67,-180.06 1532.31,-170.19 1524.4,-160.84\"/>\n<polygon fill=\"black\" stroke=\"black\" points=\"1527.01,-158.51 1517.88,-153.14 1521.67,-163.04 1527.01,-158.51\"/>\n</g>\n<!-- 21 -->\n<g id=\"node22\" class=\"node\">\n<title>21</title>\n<path fill=\"#e7f3fc\" stroke=\"black\" d=\"M1715.5,-153C1715.5,-153 1599.5,-153 1599.5,-153 1593.5,-153 1587.5,-147 1587.5,-141 1587.5,-141 1587.5,-101 1587.5,-101 1587.5,-95 1593.5,-89 1599.5,-89 1599.5,-89 1715.5,-89 1715.5,-89 1721.5,-89 1727.5,-95 1727.5,-101 1727.5,-101 1727.5,-141 1727.5,-141 1727.5,-147 1721.5,-153 1715.5,-153\"/>\n<text text-anchor=\"start\" x=\"1622\" y=\"-138.8\" font-family=\"Helvetica,sans-Serif\" font-size=\"14.00\">x</text>\n<text text-anchor=\"start\" x=\"1629\" y=\"-138.8\" font-family=\"Helvetica,sans-Serif\" baseline-shift=\"sub\" font-size=\"14.00\">0</text>\n<text text-anchor=\"start\" x=\"1636\" y=\"-138.8\" font-family=\"Helvetica,sans-Serif\" font-size=\"14.00\"> ≤ 1218.5</text>\n<text text-anchor=\"start\" x=\"1622\" y=\"-124.8\" font-family=\"Helvetica,sans-Serif\" font-size=\"14.00\">gini = 0.498</text>\n<text text-anchor=\"start\" x=\"1616.5\" y=\"-110.8\" font-family=\"Helvetica,sans-Serif\" font-size=\"14.00\">samples = 62</text>\n<text text-anchor=\"start\" x=\"1595.5\" y=\"-96.8\" font-family=\"Helvetica,sans-Serif\" font-size=\"14.00\">value = [0, 0, 33, 29]</text>\n</g>\n<!-- 17&#45;&gt;21 -->\n<g id=\"edge21\" class=\"edge\">\n<title>17&#45;&gt;21</title>\n<path fill=\"none\" stroke=\"black\" d=\"M1600.76,-188.99C1608.33,-180.06 1616.69,-170.19 1624.6,-160.84\"/>\n<polygon fill=\"black\" stroke=\"black\" points=\"1627.33,-163.04 1631.12,-153.14 1621.99,-158.51 1627.33,-163.04\"/>\n</g>\n<!-- 19 -->\n<g id=\"node20\" class=\"node\">\n<title>19</title>\n<path fill=\"#baddf6\" stroke=\"black\" d=\"M1385.5,-53C1385.5,-53 1269.5,-53 1269.5,-53 1263.5,-53 1257.5,-47 1257.5,-41 1257.5,-41 1257.5,-12 1257.5,-12 1257.5,-6 1263.5,0 1269.5,0 1269.5,0 1385.5,0 1385.5,0 1391.5,0 1397.5,-6 1397.5,-12 1397.5,-12 1397.5,-41 1397.5,-41 1397.5,-47 1391.5,-53 1385.5,-53\"/>\n<text text-anchor=\"start\" x=\"1292\" y=\"-37.8\" font-family=\"Helvetica,sans-Serif\" font-size=\"14.00\">gini = 0.477</text>\n<text text-anchor=\"start\" x=\"1286.5\" y=\"-22.8\" font-family=\"Helvetica,sans-Serif\" font-size=\"14.00\">samples = 94</text>\n<text text-anchor=\"start\" x=\"1265.5\" y=\"-7.8\" font-family=\"Helvetica,sans-Serif\" font-size=\"14.00\">value = [0, 37, 57, 0]</text>\n</g>\n<!-- 18&#45;&gt;19 -->\n<g id=\"edge19\" class=\"edge\">\n<title>18&#45;&gt;19</title>\n<path fill=\"none\" stroke=\"black\" d=\"M1436.43,-88.94C1418.84,-79.02 1399.39,-68.05 1381.85,-58.15\"/>\n<polygon fill=\"black\" stroke=\"black\" points=\"1383.3,-54.96 1372.87,-53.09 1379.86,-61.05 1383.3,-54.96\"/>\n</g>\n<!-- 20 -->\n<g id=\"node21\" class=\"node\">\n<title>20</title>\n<path fill=\"#65b3eb\" stroke=\"black\" d=\"M1559,-53C1559,-53 1428,-53 1428,-53 1422,-53 1416,-47 1416,-41 1416,-41 1416,-12 1416,-12 1416,-6 1422,0 1428,0 1428,0 1559,0 1559,0 1565,0 1571,-6 1571,-12 1571,-12 1571,-41 1571,-41 1571,-47 1565,-53 1559,-53\"/>\n<text text-anchor=\"start\" x=\"1458\" y=\"-37.8\" font-family=\"Helvetica,sans-Serif\" font-size=\"14.00\">gini = 0.325</text>\n<text text-anchor=\"start\" x=\"1448.5\" y=\"-22.8\" font-family=\"Helvetica,sans-Serif\" font-size=\"14.00\">samples = 183</text>\n<text text-anchor=\"start\" x=\"1424\" y=\"-7.8\" font-family=\"Helvetica,sans-Serif\" font-size=\"14.00\">value = [0, 11, 148, 24]</text>\n</g>\n<!-- 18&#45;&gt;20 -->\n<g id=\"edge20\" class=\"edge\">\n<title>18&#45;&gt;20</title>\n<path fill=\"none\" stroke=\"black\" d=\"M1492.17,-88.94C1492.35,-80.66 1492.55,-71.64 1492.73,-63.13\"/>\n<polygon fill=\"black\" stroke=\"black\" points=\"1496.23,-63.16 1492.95,-53.09 1489.23,-63.01 1496.23,-63.16\"/>\n</g>\n<!-- 22 -->\n<g id=\"node23\" class=\"node\">\n<title>22</title>\n<path fill=\"#5eafea\" stroke=\"black\" d=\"M1709.5,-53C1709.5,-53 1601.5,-53 1601.5,-53 1595.5,-53 1589.5,-47 1589.5,-41 1589.5,-41 1589.5,-12 1589.5,-12 1589.5,-6 1595.5,0 1601.5,0 1601.5,0 1709.5,0 1709.5,0 1715.5,0 1721.5,-6 1721.5,-12 1721.5,-12 1721.5,-41 1721.5,-41 1721.5,-47 1715.5,-53 1709.5,-53\"/>\n<text text-anchor=\"start\" x=\"1620\" y=\"-37.8\" font-family=\"Helvetica,sans-Serif\" font-size=\"14.00\">gini = 0.264</text>\n<text text-anchor=\"start\" x=\"1614.5\" y=\"-22.8\" font-family=\"Helvetica,sans-Serif\" font-size=\"14.00\">samples = 32</text>\n<text text-anchor=\"start\" x=\"1597.5\" y=\"-7.8\" font-family=\"Helvetica,sans-Serif\" font-size=\"14.00\">value = [0, 0, 27, 5]</text>\n</g>\n<!-- 21&#45;&gt;22 -->\n<g id=\"edge22\" class=\"edge\">\n<title>21&#45;&gt;22</title>\n<path fill=\"none\" stroke=\"black\" d=\"M1656.83,-88.94C1656.65,-80.66 1656.45,-71.64 1656.27,-63.13\"/>\n<polygon fill=\"black\" stroke=\"black\" points=\"1659.77,-63.01 1656.05,-53.09 1652.77,-63.16 1659.77,-63.01\"/>\n</g>\n<!-- 23 -->\n<g id=\"node24\" class=\"node\">\n<title>23</title>\n<path fill=\"#e16aec\" stroke=\"black\" d=\"M1859.5,-53C1859.5,-53 1751.5,-53 1751.5,-53 1745.5,-53 1739.5,-47 1739.5,-41 1739.5,-41 1739.5,-12 1739.5,-12 1739.5,-6 1745.5,0 1751.5,0 1751.5,0 1859.5,0 1859.5,0 1865.5,0 1871.5,-6 1871.5,-12 1871.5,-12 1871.5,-41 1871.5,-41 1871.5,-47 1865.5,-53 1859.5,-53\"/>\n<text text-anchor=\"start\" x=\"1773.5\" y=\"-37.8\" font-family=\"Helvetica,sans-Serif\" font-size=\"14.00\">gini = 0.32</text>\n<text text-anchor=\"start\" x=\"1764.5\" y=\"-22.8\" font-family=\"Helvetica,sans-Serif\" font-size=\"14.00\">samples = 30</text>\n<text text-anchor=\"start\" x=\"1747.5\" y=\"-7.8\" font-family=\"Helvetica,sans-Serif\" font-size=\"14.00\">value = [0, 0, 6, 24]</text>\n</g>\n<!-- 21&#45;&gt;23 -->\n<g id=\"edge23\" class=\"edge\">\n<title>21&#45;&gt;23</title>\n<path fill=\"none\" stroke=\"black\" d=\"M1707.19,-88.94C1722.92,-79.11 1740.3,-68.25 1756.02,-58.43\"/>\n<polygon fill=\"black\" stroke=\"black\" points=\"1757.93,-61.36 1764.55,-53.09 1754.22,-55.42 1757.93,-61.36\"/>\n</g>\n<!-- 25 -->\n<g id=\"node26\" class=\"node\">\n<title>25</title>\n<path fill=\"#eeacf4\" stroke=\"black\" d=\"M2094.5,-153C2094.5,-153 1978.5,-153 1978.5,-153 1972.5,-153 1966.5,-147 1966.5,-141 1966.5,-141 1966.5,-101 1966.5,-101 1966.5,-95 1972.5,-89 1978.5,-89 1978.5,-89 2094.5,-89 2094.5,-89 2100.5,-89 2106.5,-95 2106.5,-101 2106.5,-101 2106.5,-141 2106.5,-141 2106.5,-147 2100.5,-153 2094.5,-153\"/>\n<text text-anchor=\"start\" x=\"1997.5\" y=\"-138.8\" font-family=\"Helvetica,sans-Serif\" font-size=\"14.00\">x</text>\n<text text-anchor=\"start\" x=\"2004.5\" y=\"-138.8\" font-family=\"Helvetica,sans-Serif\" baseline-shift=\"sub\" font-size=\"14.00\">13</text>\n<text text-anchor=\"start\" x=\"2018.5\" y=\"-138.8\" font-family=\"Helvetica,sans-Serif\" font-size=\"14.00\"> ≤ 3403.5</text>\n<text text-anchor=\"start\" x=\"2001\" y=\"-124.8\" font-family=\"Helvetica,sans-Serif\" font-size=\"14.00\">gini = 0.465</text>\n<text text-anchor=\"start\" x=\"1991.5\" y=\"-110.8\" font-family=\"Helvetica,sans-Serif\" font-size=\"14.00\">samples = 144</text>\n<text text-anchor=\"start\" x=\"1974.5\" y=\"-96.8\" font-family=\"Helvetica,sans-Serif\" font-size=\"14.00\">value = [0, 0, 53, 91]</text>\n</g>\n<!-- 24&#45;&gt;25 -->\n<g id=\"edge25\" class=\"edge\">\n<title>24&#45;&gt;25</title>\n<path fill=\"none\" stroke=\"black\" d=\"M2036.5,-188.99C2036.5,-180.86 2036.5,-171.96 2036.5,-163.38\"/>\n<polygon fill=\"black\" stroke=\"black\" points=\"2040,-163.14 2036.5,-153.14 2033,-163.14 2040,-163.14\"/>\n</g>\n<!-- 28 -->\n<g id=\"node29\" class=\"node\">\n<title>28</title>\n<path fill=\"#da45e7\" stroke=\"black\" d=\"M2337,-153C2337,-153 2214,-153 2214,-153 2208,-153 2202,-147 2202,-141 2202,-141 2202,-101 2202,-101 2202,-95 2208,-89 2214,-89 2214,-89 2337,-89 2337,-89 2343,-89 2349,-95 2349,-101 2349,-101 2349,-141 2349,-141 2349,-147 2343,-153 2337,-153\"/>\n<text text-anchor=\"start\" x=\"2236.5\" y=\"-138.8\" font-family=\"Helvetica,sans-Serif\" font-size=\"14.00\">x</text>\n<text text-anchor=\"start\" x=\"2243.5\" y=\"-138.8\" font-family=\"Helvetica,sans-Serif\" baseline-shift=\"sub\" font-size=\"14.00\">13</text>\n<text text-anchor=\"start\" x=\"2257.5\" y=\"-138.8\" font-family=\"Helvetica,sans-Serif\" font-size=\"14.00\"> ≤ 3293.5</text>\n<text text-anchor=\"start\" x=\"2240\" y=\"-124.8\" font-family=\"Helvetica,sans-Serif\" font-size=\"14.00\">gini = 0.111</text>\n<text text-anchor=\"start\" x=\"2230.5\" y=\"-110.8\" font-family=\"Helvetica,sans-Serif\" font-size=\"14.00\">samples = 272</text>\n<text text-anchor=\"start\" x=\"2210\" y=\"-96.8\" font-family=\"Helvetica,sans-Serif\" font-size=\"14.00\">value = [0, 0, 16, 256]</text>\n</g>\n<!-- 24&#45;&gt;28 -->\n<g id=\"edge28\" class=\"edge\">\n<title>24&#45;&gt;28</title>\n<path fill=\"none\" stroke=\"black\" d=\"M2110.16,-189.8C2136.17,-179.13 2165.59,-167.07 2192.34,-156.1\"/>\n<polygon fill=\"black\" stroke=\"black\" points=\"2193.75,-159.3 2201.67,-152.27 2191.09,-152.83 2193.75,-159.3\"/>\n</g>\n<!-- 26 -->\n<g id=\"node27\" class=\"node\">\n<title>26</title>\n<path fill=\"#87c4ef\" stroke=\"black\" d=\"M2017.5,-53C2017.5,-53 1901.5,-53 1901.5,-53 1895.5,-53 1889.5,-47 1889.5,-41 1889.5,-41 1889.5,-12 1889.5,-12 1889.5,-6 1895.5,0 1901.5,0 1901.5,0 2017.5,0 2017.5,0 2023.5,0 2029.5,-6 2029.5,-12 2029.5,-12 2029.5,-41 2029.5,-41 2029.5,-47 2023.5,-53 2017.5,-53\"/>\n<text text-anchor=\"start\" x=\"1924\" y=\"-37.8\" font-family=\"Helvetica,sans-Serif\" font-size=\"14.00\">gini = 0.405</text>\n<text text-anchor=\"start\" x=\"1918.5\" y=\"-22.8\" font-family=\"Helvetica,sans-Serif\" font-size=\"14.00\">samples = 46</text>\n<text text-anchor=\"start\" x=\"1897.5\" y=\"-7.8\" font-family=\"Helvetica,sans-Serif\" font-size=\"14.00\">value = [0, 0, 33, 13]</text>\n</g>\n<!-- 25&#45;&gt;26 -->\n<g id=\"edge26\" class=\"edge\">\n<title>25&#45;&gt;26</title>\n<path fill=\"none\" stroke=\"black\" d=\"M2010.65,-88.94C2003.14,-79.93 1994.92,-70.05 1987.31,-60.9\"/>\n<polygon fill=\"black\" stroke=\"black\" points=\"1989.89,-58.54 1980.8,-53.09 1984.51,-63.02 1989.89,-58.54\"/>\n</g>\n<!-- 27 -->\n<g id=\"node28\" class=\"node\">\n<title>27</title>\n<path fill=\"#e16cec\" stroke=\"black\" d=\"M2175.5,-53C2175.5,-53 2059.5,-53 2059.5,-53 2053.5,-53 2047.5,-47 2047.5,-41 2047.5,-41 2047.5,-12 2047.5,-12 2047.5,-6 2053.5,0 2059.5,0 2059.5,0 2175.5,0 2175.5,0 2181.5,0 2187.5,-6 2187.5,-12 2187.5,-12 2187.5,-41 2187.5,-41 2187.5,-47 2181.5,-53 2175.5,-53\"/>\n<text text-anchor=\"start\" x=\"2082\" y=\"-37.8\" font-family=\"Helvetica,sans-Serif\" font-size=\"14.00\">gini = 0.325</text>\n<text text-anchor=\"start\" x=\"2076.5\" y=\"-22.8\" font-family=\"Helvetica,sans-Serif\" font-size=\"14.00\">samples = 98</text>\n<text text-anchor=\"start\" x=\"2055.5\" y=\"-7.8\" font-family=\"Helvetica,sans-Serif\" font-size=\"14.00\">value = [0, 0, 20, 78]</text>\n</g>\n<!-- 25&#45;&gt;27 -->\n<g id=\"edge27\" class=\"edge\">\n<title>25&#45;&gt;27</title>\n<path fill=\"none\" stroke=\"black\" d=\"M2063.7,-88.94C2071.67,-79.84 2080.41,-69.85 2088.49,-60.63\"/>\n<polygon fill=\"black\" stroke=\"black\" points=\"2091.14,-62.92 2095.09,-53.09 2085.87,-58.31 2091.14,-62.92\"/>\n</g>\n<!-- 29 -->\n<g id=\"node30\" class=\"node\">\n<title>29</title>\n<path fill=\"#e16aec\" stroke=\"black\" d=\"M2333.5,-53C2333.5,-53 2217.5,-53 2217.5,-53 2211.5,-53 2205.5,-47 2205.5,-41 2205.5,-41 2205.5,-12 2205.5,-12 2205.5,-6 2211.5,0 2217.5,0 2217.5,0 2333.5,0 2333.5,0 2339.5,0 2345.5,-6 2345.5,-12 2345.5,-12 2345.5,-41 2345.5,-41 2345.5,-47 2339.5,-53 2333.5,-53\"/>\n<text text-anchor=\"start\" x=\"2243.5\" y=\"-37.8\" font-family=\"Helvetica,sans-Serif\" font-size=\"14.00\">gini = 0.32</text>\n<text text-anchor=\"start\" x=\"2234.5\" y=\"-22.8\" font-family=\"Helvetica,sans-Serif\" font-size=\"14.00\">samples = 75</text>\n<text text-anchor=\"start\" x=\"2213.5\" y=\"-7.8\" font-family=\"Helvetica,sans-Serif\" font-size=\"14.00\">value = [0, 0, 15, 60]</text>\n</g>\n<!-- 28&#45;&gt;29 -->\n<g id=\"edge29\" class=\"edge\">\n<title>28&#45;&gt;29</title>\n<path fill=\"none\" stroke=\"black\" d=\"M2275.5,-88.94C2275.5,-80.66 2275.5,-71.64 2275.5,-63.13\"/>\n<polygon fill=\"black\" stroke=\"black\" points=\"2279,-63.09 2275.5,-53.09 2272,-63.09 2279,-63.09\"/>\n</g>\n<!-- 30 -->\n<g id=\"node31\" class=\"node\">\n<title>30</title>\n<path fill=\"#d73ae5\" stroke=\"black\" d=\"M2491.5,-53C2491.5,-53 2375.5,-53 2375.5,-53 2369.5,-53 2363.5,-47 2363.5,-41 2363.5,-41 2363.5,-12 2363.5,-12 2363.5,-6 2369.5,0 2375.5,0 2375.5,0 2491.5,0 2491.5,0 2497.5,0 2503.5,-6 2503.5,-12 2503.5,-12 2503.5,-41 2503.5,-41 2503.5,-47 2497.5,-53 2491.5,-53\"/>\n<text text-anchor=\"start\" x=\"2401.5\" y=\"-37.8\" font-family=\"Helvetica,sans-Serif\" font-size=\"14.00\">gini = 0.01</text>\n<text text-anchor=\"start\" x=\"2388.5\" y=\"-22.8\" font-family=\"Helvetica,sans-Serif\" font-size=\"14.00\">samples = 197</text>\n<text text-anchor=\"start\" x=\"2371.5\" y=\"-7.8\" font-family=\"Helvetica,sans-Serif\" font-size=\"14.00\">value = [0, 0, 1, 196]</text>\n</g>\n<!-- 28&#45;&gt;30 -->\n<g id=\"edge30\" class=\"edge\">\n<title>28&#45;&gt;30</title>\n<path fill=\"none\" stroke=\"black\" d=\"M2328.55,-88.94C2345.5,-79.02 2364.24,-68.05 2381.14,-58.15\"/>\n<polygon fill=\"black\" stroke=\"black\" points=\"2382.93,-61.16 2389.79,-53.09 2379.39,-55.12 2382.93,-61.16\"/>\n</g>\n</g>\n</svg>\n",
            "text/plain": [
              "<graphviz.sources.Source at 0x7a7227705ae0>"
            ]
          },
          "metadata": {}
        }
      ]
    },
    {
      "cell_type": "markdown",
      "source": [
        "### Random Forest"
      ],
      "metadata": {
        "id": "5PLb4sQA7w3-"
      }
    },
    {
      "cell_type": "code",
      "source": [
        "# Modelling\n",
        "from sklearn.ensemble import RandomForestClassifier\n",
        "from sklearn.metrics import accuracy_score, confusion_matrix, ConfusionMatrixDisplay\n",
        "from sklearn.model_selection import RandomizedSearchCV, train_test_split\n",
        "from scipy.stats import randint\n",
        "\n",
        "# Tree Visualisation\n",
        "from sklearn.tree import export_graphviz\n",
        "from IPython.display import Image\n",
        "import graphviz"
      ],
      "metadata": {
        "id": "lghqIMpGsx0L"
      },
      "execution_count": 35,
      "outputs": []
    },
    {
      "cell_type": "code",
      "source": [
        "rf = RandomForestClassifier()\n",
        "rf.fit(X_train, y_train)"
      ],
      "metadata": {
        "id": "dh9KvCIU73wP",
        "colab": {
          "base_uri": "https://localhost:8080/",
          "height": 74
        },
        "outputId": "3b071c59-63ab-421a-a819-fbd750c3c8f9"
      },
      "execution_count": 36,
      "outputs": [
        {
          "output_type": "execute_result",
          "data": {
            "text/plain": [
              "RandomForestClassifier()"
            ],
            "text/html": [
              "<style>#sk-container-id-4 {color: black;background-color: white;}#sk-container-id-4 pre{padding: 0;}#sk-container-id-4 div.sk-toggleable {background-color: white;}#sk-container-id-4 label.sk-toggleable__label {cursor: pointer;display: block;width: 100%;margin-bottom: 0;padding: 0.3em;box-sizing: border-box;text-align: center;}#sk-container-id-4 label.sk-toggleable__label-arrow:before {content: \"▸\";float: left;margin-right: 0.25em;color: #696969;}#sk-container-id-4 label.sk-toggleable__label-arrow:hover:before {color: black;}#sk-container-id-4 div.sk-estimator:hover label.sk-toggleable__label-arrow:before {color: black;}#sk-container-id-4 div.sk-toggleable__content {max-height: 0;max-width: 0;overflow: hidden;text-align: left;background-color: #f0f8ff;}#sk-container-id-4 div.sk-toggleable__content pre {margin: 0.2em;color: black;border-radius: 0.25em;background-color: #f0f8ff;}#sk-container-id-4 input.sk-toggleable__control:checked~div.sk-toggleable__content {max-height: 200px;max-width: 100%;overflow: auto;}#sk-container-id-4 input.sk-toggleable__control:checked~label.sk-toggleable__label-arrow:before {content: \"▾\";}#sk-container-id-4 div.sk-estimator input.sk-toggleable__control:checked~label.sk-toggleable__label {background-color: #d4ebff;}#sk-container-id-4 div.sk-label input.sk-toggleable__control:checked~label.sk-toggleable__label {background-color: #d4ebff;}#sk-container-id-4 input.sk-hidden--visually {border: 0;clip: rect(1px 1px 1px 1px);clip: rect(1px, 1px, 1px, 1px);height: 1px;margin: -1px;overflow: hidden;padding: 0;position: absolute;width: 1px;}#sk-container-id-4 div.sk-estimator {font-family: monospace;background-color: #f0f8ff;border: 1px dotted black;border-radius: 0.25em;box-sizing: border-box;margin-bottom: 0.5em;}#sk-container-id-4 div.sk-estimator:hover {background-color: #d4ebff;}#sk-container-id-4 div.sk-parallel-item::after {content: \"\";width: 100%;border-bottom: 1px solid gray;flex-grow: 1;}#sk-container-id-4 div.sk-label:hover label.sk-toggleable__label {background-color: #d4ebff;}#sk-container-id-4 div.sk-serial::before {content: \"\";position: absolute;border-left: 1px solid gray;box-sizing: border-box;top: 0;bottom: 0;left: 50%;z-index: 0;}#sk-container-id-4 div.sk-serial {display: flex;flex-direction: column;align-items: center;background-color: white;padding-right: 0.2em;padding-left: 0.2em;position: relative;}#sk-container-id-4 div.sk-item {position: relative;z-index: 1;}#sk-container-id-4 div.sk-parallel {display: flex;align-items: stretch;justify-content: center;background-color: white;position: relative;}#sk-container-id-4 div.sk-item::before, #sk-container-id-4 div.sk-parallel-item::before {content: \"\";position: absolute;border-left: 1px solid gray;box-sizing: border-box;top: 0;bottom: 0;left: 50%;z-index: -1;}#sk-container-id-4 div.sk-parallel-item {display: flex;flex-direction: column;z-index: 1;position: relative;background-color: white;}#sk-container-id-4 div.sk-parallel-item:first-child::after {align-self: flex-end;width: 50%;}#sk-container-id-4 div.sk-parallel-item:last-child::after {align-self: flex-start;width: 50%;}#sk-container-id-4 div.sk-parallel-item:only-child::after {width: 0;}#sk-container-id-4 div.sk-dashed-wrapped {border: 1px dashed gray;margin: 0 0.4em 0.5em 0.4em;box-sizing: border-box;padding-bottom: 0.4em;background-color: white;}#sk-container-id-4 div.sk-label label {font-family: monospace;font-weight: bold;display: inline-block;line-height: 1.2em;}#sk-container-id-4 div.sk-label-container {text-align: center;}#sk-container-id-4 div.sk-container {/* jupyter's `normalize.less` sets `[hidden] { display: none; }` but bootstrap.min.css set `[hidden] { display: none !important; }` so we also need the `!important` here to be able to override the default hidden behavior on the sphinx rendered scikit-learn.org. See: https://github.com/scikit-learn/scikit-learn/issues/21755 */display: inline-block !important;position: relative;}#sk-container-id-4 div.sk-text-repr-fallback {display: none;}</style><div id=\"sk-container-id-4\" class=\"sk-top-container\"><div class=\"sk-text-repr-fallback\"><pre>RandomForestClassifier()</pre><b>In a Jupyter environment, please rerun this cell to show the HTML representation or trust the notebook. <br />On GitHub, the HTML representation is unable to render, please try loading this page with nbviewer.org.</b></div><div class=\"sk-container\" hidden><div class=\"sk-item\"><div class=\"sk-estimator sk-toggleable\"><input class=\"sk-toggleable__control sk-hidden--visually\" id=\"sk-estimator-id-6\" type=\"checkbox\" checked><label for=\"sk-estimator-id-6\" class=\"sk-toggleable__label sk-toggleable__label-arrow\">RandomForestClassifier</label><div class=\"sk-toggleable__content\"><pre>RandomForestClassifier()</pre></div></div></div></div></div>"
            ]
          },
          "metadata": {},
          "execution_count": 36
        }
      ]
    },
    {
      "cell_type": "code",
      "source": [
        "y_pred = rf.predict(X_test)\n",
        "accuracy = accuracy_score(y_test, y_pred)\n",
        "print(\"Accuracy:\", accuracy)"
      ],
      "metadata": {
        "id": "KPTPfXR78HPY",
        "colab": {
          "base_uri": "https://localhost:8080/"
        },
        "outputId": "aa7d999c-3cc5-461c-8eef-91b57f62b352"
      },
      "execution_count": 37,
      "outputs": [
        {
          "output_type": "stream",
          "name": "stdout",
          "text": [
            "Accuracy: 0.8922305764411027\n"
          ]
        }
      ]
    },
    {
      "cell_type": "code",
      "source": [
        "# Export the first three decision trees from the forest\n",
        "\n",
        "for i in range(3):\n",
        "    tree = rf.estimators_[i]\n",
        "    dot_data = export_graphviz(tree,\n",
        "                               feature_names=X_train.columns,\n",
        "                               filled=True,\n",
        "                               max_depth=2,\n",
        "                               impurity=False,\n",
        "                               proportion=True)\n",
        "    graph = graphviz.Source(dot_data)\n",
        "    display(graph)"
      ],
      "metadata": {
        "id": "V962_lteBHh0",
        "colab": {
          "base_uri": "https://localhost:8080/",
          "height": 1000
        },
        "outputId": "ab41be37-ce03-4295-c8e0-3def1a106786"
      },
      "execution_count": 38,
      "outputs": [
        {
          "output_type": "display_data",
          "data": {
            "image/svg+xml": "<?xml version=\"1.0\" encoding=\"UTF-8\" standalone=\"no\"?>\n<!DOCTYPE svg PUBLIC \"-//W3C//DTD SVG 1.1//EN\"\n \"http://www.w3.org/Graphics/SVG/1.1/DTD/svg11.dtd\">\n<!-- Generated by graphviz version 2.43.0 (0)\n -->\n<!-- Title: Tree Pages: 1 -->\n<svg width=\"932pt\" height=\"311pt\"\n viewBox=\"0.00 0.00 931.50 311.00\" xmlns=\"http://www.w3.org/2000/svg\" xmlns:xlink=\"http://www.w3.org/1999/xlink\">\n<g id=\"graph0\" class=\"graph\" transform=\"scale(1 1) rotate(0) translate(4 307)\">\n<title>Tree</title>\n<polygon fill=\"white\" stroke=\"transparent\" points=\"-4,4 -4,-307 927.5,-307 927.5,4 -4,4\"/>\n<!-- 0 -->\n<g id=\"node1\" class=\"node\">\n<title>0</title>\n<polygon fill=\"#fefcff\" stroke=\"black\" points=\"580,-303 350,-303 350,-250 580,-250 580,-303\"/>\n<text text-anchor=\"middle\" x=\"465\" y=\"-287.8\" font-family=\"Helvetica,sans-Serif\" font-size=\"14.00\">ram &lt;= 2368.0</text>\n<text text-anchor=\"middle\" x=\"465\" y=\"-272.8\" font-family=\"Helvetica,sans-Serif\" font-size=\"14.00\">samples = 100.0%</text>\n<text text-anchor=\"middle\" x=\"465\" y=\"-257.8\" font-family=\"Helvetica,sans-Serif\" font-size=\"14.00\">value = [0.243, 0.251, 0.245, 0.261]</text>\n</g>\n<!-- 1 -->\n<g id=\"node2\" class=\"node\">\n<title>1</title>\n<polygon fill=\"#fffdfb\" stroke=\"black\" points=\"458,-214 236,-214 236,-161 458,-161 458,-214\"/>\n<text text-anchor=\"middle\" x=\"347\" y=\"-198.8\" font-family=\"Helvetica,sans-Serif\" font-size=\"14.00\">mobile_wt &lt;= 191.5</text>\n<text text-anchor=\"middle\" x=\"347\" y=\"-183.8\" font-family=\"Helvetica,sans-Serif\" font-size=\"14.00\">samples = 57.0%</text>\n<text text-anchor=\"middle\" x=\"347\" y=\"-168.8\" font-family=\"Helvetica,sans-Serif\" font-size=\"14.00\">value = [0.431, 0.42, 0.147, 0.002]</text>\n</g>\n<!-- 0&#45;&gt;1 -->\n<g id=\"edge1\" class=\"edge\">\n<title>0&#45;&gt;1</title>\n<path fill=\"none\" stroke=\"black\" d=\"M430.23,-249.87C417.62,-240.57 403.22,-229.95 389.99,-220.2\"/>\n<polygon fill=\"black\" stroke=\"black\" points=\"392.05,-217.37 381.92,-214.25 387.9,-223 392.05,-217.37\"/>\n<text text-anchor=\"middle\" x=\"385.66\" y=\"-235.27\" font-family=\"Helvetica,sans-Serif\" font-size=\"14.00\">True</text>\n</g>\n<!-- 324 -->\n<g id=\"node9\" class=\"node\">\n<title>324</title>\n<polygon fill=\"#f1b8f6\" stroke=\"black\" points=\"691.5,-214 476.5,-214 476.5,-161 691.5,-161 691.5,-214\"/>\n<text text-anchor=\"middle\" x=\"584\" y=\"-198.8\" font-family=\"Helvetica,sans-Serif\" font-size=\"14.00\">px_width &lt;= 1313.5</text>\n<text text-anchor=\"middle\" x=\"584\" y=\"-183.8\" font-family=\"Helvetica,sans-Serif\" font-size=\"14.00\">samples = 43.0%</text>\n<text text-anchor=\"middle\" x=\"584\" y=\"-168.8\" font-family=\"Helvetica,sans-Serif\" font-size=\"14.00\">value = [0.0, 0.032, 0.372, 0.597]</text>\n</g>\n<!-- 0&#45;&gt;324 -->\n<g id=\"edge8\" class=\"edge\">\n<title>0&#45;&gt;324</title>\n<path fill=\"none\" stroke=\"black\" d=\"M500.06,-249.87C512.78,-240.57 527.3,-229.95 540.65,-220.2\"/>\n<polygon fill=\"black\" stroke=\"black\" points=\"542.77,-222.98 548.78,-214.25 538.64,-217.33 542.77,-222.98\"/>\n<text text-anchor=\"middle\" x=\"544.94\" y=\"-235.25\" font-family=\"Helvetica,sans-Serif\" font-size=\"14.00\">False</text>\n</g>\n<!-- 2 -->\n<g id=\"node3\" class=\"node\">\n<title>2</title>\n<polygon fill=\"#fbfefa\" stroke=\"black\" points=\"222,-125 0,-125 0,-72 222,-72 222,-125\"/>\n<text text-anchor=\"middle\" x=\"111\" y=\"-109.8\" font-family=\"Helvetica,sans-Serif\" font-size=\"14.00\">pc &lt;= 1.5</text>\n<text text-anchor=\"middle\" x=\"111\" y=\"-94.8\" font-family=\"Helvetica,sans-Serif\" font-size=\"14.00\">samples = 52.3%</text>\n<text text-anchor=\"middle\" x=\"111\" y=\"-79.8\" font-family=\"Helvetica,sans-Serif\" font-size=\"14.00\">value = [0.416, 0.43, 0.152, 0.002]</text>\n</g>\n<!-- 1&#45;&gt;2 -->\n<g id=\"edge2\" class=\"edge\">\n<title>1&#45;&gt;2</title>\n<path fill=\"none\" stroke=\"black\" d=\"M277.79,-160.98C250.17,-150.8 218.23,-139.03 189.73,-128.52\"/>\n<polygon fill=\"black\" stroke=\"black\" points=\"190.81,-125.19 180.21,-125.01 188.38,-131.76 190.81,-125.19\"/>\n</g>\n<!-- 285 -->\n<g id=\"node6\" class=\"node\">\n<title>285</title>\n<polygon fill=\"#f6d4bc\" stroke=\"black\" points=\"455.5,-125 240.5,-125 240.5,-72 455.5,-72 455.5,-125\"/>\n<text text-anchor=\"middle\" x=\"348\" y=\"-109.8\" font-family=\"Helvetica,sans-Serif\" font-size=\"14.00\">wifi &lt;= 0.5</text>\n<text text-anchor=\"middle\" x=\"348\" y=\"-94.8\" font-family=\"Helvetica,sans-Serif\" font-size=\"14.00\">samples = 4.7%</text>\n<text text-anchor=\"middle\" x=\"348\" y=\"-79.8\" font-family=\"Helvetica,sans-Serif\" font-size=\"14.00\">value = [0.559, 0.333, 0.108, 0.0]</text>\n</g>\n<!-- 1&#45;&gt;285 -->\n<g id=\"edge5\" class=\"edge\">\n<title>1&#45;&gt;285</title>\n<path fill=\"none\" stroke=\"black\" d=\"M347.29,-160.87C347.39,-152.89 347.49,-143.93 347.59,-135.38\"/>\n<polygon fill=\"black\" stroke=\"black\" points=\"351.09,-135.29 347.7,-125.25 344.09,-135.21 351.09,-135.29\"/>\n</g>\n<!-- 3 -->\n<g id=\"node4\" class=\"node\">\n<title>3</title>\n<polygon fill=\"#c0c0c0\" stroke=\"black\" points=\"102,-36 48,-36 48,0 102,0 102,-36\"/>\n<text text-anchor=\"middle\" x=\"75\" y=\"-14.3\" font-family=\"Helvetica,sans-Serif\" font-size=\"14.00\">(...)</text>\n</g>\n<!-- 2&#45;&gt;3 -->\n<g id=\"edge3\" class=\"edge\">\n<title>2&#45;&gt;3</title>\n<path fill=\"none\" stroke=\"black\" d=\"M99.21,-71.8C95.34,-63.35 91.03,-53.95 87.13,-45.45\"/>\n<polygon fill=\"black\" stroke=\"black\" points=\"90.3,-43.96 82.95,-36.33 83.93,-46.88 90.3,-43.96\"/>\n</g>\n<!-- 44 -->\n<g id=\"node5\" class=\"node\">\n<title>44</title>\n<polygon fill=\"#c0c0c0\" stroke=\"black\" points=\"174,-36 120,-36 120,0 174,0 174,-36\"/>\n<text text-anchor=\"middle\" x=\"147\" y=\"-14.3\" font-family=\"Helvetica,sans-Serif\" font-size=\"14.00\">(...)</text>\n</g>\n<!-- 2&#45;&gt;44 -->\n<g id=\"edge4\" class=\"edge\">\n<title>2&#45;&gt;44</title>\n<path fill=\"none\" stroke=\"black\" d=\"M122.79,-71.8C126.66,-63.35 130.97,-53.95 134.87,-45.45\"/>\n<polygon fill=\"black\" stroke=\"black\" points=\"138.07,-46.88 139.05,-36.33 131.7,-43.96 138.07,-46.88\"/>\n</g>\n<!-- 286 -->\n<g id=\"node7\" class=\"node\">\n<title>286</title>\n<polygon fill=\"#c0c0c0\" stroke=\"black\" points=\"339,-36 285,-36 285,0 339,0 339,-36\"/>\n<text text-anchor=\"middle\" x=\"312\" y=\"-14.3\" font-family=\"Helvetica,sans-Serif\" font-size=\"14.00\">(...)</text>\n</g>\n<!-- 285&#45;&gt;286 -->\n<g id=\"edge6\" class=\"edge\">\n<title>285&#45;&gt;286</title>\n<path fill=\"none\" stroke=\"black\" d=\"M336.21,-71.8C332.34,-63.35 328.03,-53.95 324.13,-45.45\"/>\n<polygon fill=\"black\" stroke=\"black\" points=\"327.3,-43.96 319.95,-36.33 320.93,-46.88 327.3,-43.96\"/>\n</g>\n<!-- 303 -->\n<g id=\"node8\" class=\"node\">\n<title>303</title>\n<polygon fill=\"#c0c0c0\" stroke=\"black\" points=\"411,-36 357,-36 357,0 411,0 411,-36\"/>\n<text text-anchor=\"middle\" x=\"384\" y=\"-14.3\" font-family=\"Helvetica,sans-Serif\" font-size=\"14.00\">(...)</text>\n</g>\n<!-- 285&#45;&gt;303 -->\n<g id=\"edge7\" class=\"edge\">\n<title>285&#45;&gt;303</title>\n<path fill=\"none\" stroke=\"black\" d=\"M359.79,-71.8C363.66,-63.35 367.97,-53.95 371.87,-45.45\"/>\n<polygon fill=\"black\" stroke=\"black\" points=\"375.07,-46.88 376.05,-36.33 368.7,-43.96 375.07,-46.88\"/>\n</g>\n<!-- 325 -->\n<g id=\"node10\" class=\"node\">\n<title>325</title>\n<polygon fill=\"#eff7fd\" stroke=\"black\" points=\"690.5,-125 475.5,-125 475.5,-72 690.5,-72 690.5,-125\"/>\n<text text-anchor=\"middle\" x=\"583\" y=\"-109.8\" font-family=\"Helvetica,sans-Serif\" font-size=\"14.00\">px_height &lt;= 229.5</text>\n<text text-anchor=\"middle\" x=\"583\" y=\"-94.8\" font-family=\"Helvetica,sans-Serif\" font-size=\"14.00\">samples = 24.4%</text>\n<text text-anchor=\"middle\" x=\"583\" y=\"-79.8\" font-family=\"Helvetica,sans-Serif\" font-size=\"14.00\">value = [0.0, 0.053, 0.496, 0.451]</text>\n</g>\n<!-- 324&#45;&gt;325 -->\n<g id=\"edge9\" class=\"edge\">\n<title>324&#45;&gt;325</title>\n<path fill=\"none\" stroke=\"black\" d=\"M583.71,-160.87C583.61,-152.89 583.51,-143.93 583.41,-135.38\"/>\n<polygon fill=\"black\" stroke=\"black\" points=\"586.91,-135.21 583.3,-125.25 579.91,-135.29 586.91,-135.21\"/>\n</g>\n<!-- 432 -->\n<g id=\"node13\" class=\"node\">\n<title>432</title>\n<polygon fill=\"#e373ed\" stroke=\"black\" points=\"923.5,-125 708.5,-125 708.5,-72 923.5,-72 923.5,-125\"/>\n<text text-anchor=\"middle\" x=\"816\" y=\"-109.8\" font-family=\"Helvetica,sans-Serif\" font-size=\"14.00\">battery_power &lt;= 953.5</text>\n<text text-anchor=\"middle\" x=\"816\" y=\"-94.8\" font-family=\"Helvetica,sans-Serif\" font-size=\"14.00\">samples = 18.6%</text>\n<text text-anchor=\"middle\" x=\"816\" y=\"-79.8\" font-family=\"Helvetica,sans-Serif\" font-size=\"14.00\">value = [0.0, 0.006, 0.222, 0.771]</text>\n</g>\n<!-- 324&#45;&gt;432 -->\n<g id=\"edge12\" class=\"edge\">\n<title>324&#45;&gt;432</title>\n<path fill=\"none\" stroke=\"black\" d=\"M652.04,-160.98C679.07,-150.85 710.32,-139.13 738.24,-128.66\"/>\n<polygon fill=\"black\" stroke=\"black\" points=\"739.83,-131.8 747.96,-125.01 737.37,-125.25 739.83,-131.8\"/>\n</g>\n<!-- 326 -->\n<g id=\"node11\" class=\"node\">\n<title>326</title>\n<polygon fill=\"#c0c0c0\" stroke=\"black\" points=\"574,-36 520,-36 520,0 574,0 574,-36\"/>\n<text text-anchor=\"middle\" x=\"547\" y=\"-14.3\" font-family=\"Helvetica,sans-Serif\" font-size=\"14.00\">(...)</text>\n</g>\n<!-- 325&#45;&gt;326 -->\n<g id=\"edge10\" class=\"edge\">\n<title>325&#45;&gt;326</title>\n<path fill=\"none\" stroke=\"black\" d=\"M571.21,-71.8C567.34,-63.35 563.03,-53.95 559.13,-45.45\"/>\n<polygon fill=\"black\" stroke=\"black\" points=\"562.3,-43.96 554.95,-36.33 555.93,-46.88 562.3,-43.96\"/>\n</g>\n<!-- 361 -->\n<g id=\"node12\" class=\"node\">\n<title>361</title>\n<polygon fill=\"#c0c0c0\" stroke=\"black\" points=\"646,-36 592,-36 592,0 646,0 646,-36\"/>\n<text text-anchor=\"middle\" x=\"619\" y=\"-14.3\" font-family=\"Helvetica,sans-Serif\" font-size=\"14.00\">(...)</text>\n</g>\n<!-- 325&#45;&gt;361 -->\n<g id=\"edge11\" class=\"edge\">\n<title>325&#45;&gt;361</title>\n<path fill=\"none\" stroke=\"black\" d=\"M594.79,-71.8C598.66,-63.35 602.97,-53.95 606.87,-45.45\"/>\n<polygon fill=\"black\" stroke=\"black\" points=\"610.07,-46.88 611.05,-36.33 603.7,-43.96 610.07,-46.88\"/>\n</g>\n<!-- 433 -->\n<g id=\"node14\" class=\"node\">\n<title>433</title>\n<polygon fill=\"#c0c0c0\" stroke=\"black\" points=\"807,-36 753,-36 753,0 807,0 807,-36\"/>\n<text text-anchor=\"middle\" x=\"780\" y=\"-14.3\" font-family=\"Helvetica,sans-Serif\" font-size=\"14.00\">(...)</text>\n</g>\n<!-- 432&#45;&gt;433 -->\n<g id=\"edge13\" class=\"edge\">\n<title>432&#45;&gt;433</title>\n<path fill=\"none\" stroke=\"black\" d=\"M804.21,-71.8C800.34,-63.35 796.03,-53.95 792.13,-45.45\"/>\n<polygon fill=\"black\" stroke=\"black\" points=\"795.3,-43.96 787.95,-36.33 788.93,-46.88 795.3,-43.96\"/>\n</g>\n<!-- 468 -->\n<g id=\"node15\" class=\"node\">\n<title>468</title>\n<polygon fill=\"#c0c0c0\" stroke=\"black\" points=\"879,-36 825,-36 825,0 879,0 879,-36\"/>\n<text text-anchor=\"middle\" x=\"852\" y=\"-14.3\" font-family=\"Helvetica,sans-Serif\" font-size=\"14.00\">(...)</text>\n</g>\n<!-- 432&#45;&gt;468 -->\n<g id=\"edge14\" class=\"edge\">\n<title>432&#45;&gt;468</title>\n<path fill=\"none\" stroke=\"black\" d=\"M827.79,-71.8C831.66,-63.35 835.97,-53.95 839.87,-45.45\"/>\n<polygon fill=\"black\" stroke=\"black\" points=\"843.07,-46.88 844.05,-36.33 836.7,-43.96 843.07,-46.88\"/>\n</g>\n</g>\n</svg>\n",
            "text/plain": [
              "<graphviz.sources.Source at 0x7a72273128f0>"
            ]
          },
          "metadata": {}
        },
        {
          "output_type": "display_data",
          "data": {
            "image/svg+xml": "<?xml version=\"1.0\" encoding=\"UTF-8\" standalone=\"no\"?>\n<!DOCTYPE svg PUBLIC \"-//W3C//DTD SVG 1.1//EN\"\n \"http://www.w3.org/Graphics/SVG/1.1/DTD/svg11.dtd\">\n<!-- Generated by graphviz version 2.43.0 (0)\n -->\n<!-- Title: Tree Pages: 1 -->\n<svg width=\"945pt\" height=\"311pt\"\n viewBox=\"0.00 0.00 945.00 311.00\" xmlns=\"http://www.w3.org/2000/svg\" xmlns:xlink=\"http://www.w3.org/1999/xlink\">\n<g id=\"graph0\" class=\"graph\" transform=\"scale(1 1) rotate(0) translate(4 307)\">\n<title>Tree</title>\n<polygon fill=\"white\" stroke=\"transparent\" points=\"-4,4 -4,-307 941,-307 941,4 -4,4\"/>\n<!-- 0 -->\n<g id=\"node1\" class=\"node\">\n<title>0</title>\n<polygon fill=\"#fef8fe\" stroke=\"black\" points=\"589,-303 359,-303 359,-250 589,-250 589,-303\"/>\n<text text-anchor=\"middle\" x=\"474\" y=\"-287.8\" font-family=\"Helvetica,sans-Serif\" font-size=\"14.00\">talk_time &lt;= 6.5</text>\n<text text-anchor=\"middle\" x=\"474\" y=\"-272.8\" font-family=\"Helvetica,sans-Serif\" font-size=\"14.00\">samples = 100.0%</text>\n<text text-anchor=\"middle\" x=\"474\" y=\"-257.8\" font-family=\"Helvetica,sans-Serif\" font-size=\"14.00\">value = [0.236, 0.246, 0.244, 0.274]</text>\n</g>\n<!-- 1 -->\n<g id=\"node2\" class=\"node\">\n<title>1</title>\n<polygon fill=\"#fcf3ec\" stroke=\"black\" points=\"465,-214 243,-214 243,-161 465,-161 465,-214\"/>\n<text text-anchor=\"middle\" x=\"354\" y=\"-198.8\" font-family=\"Helvetica,sans-Serif\" font-size=\"14.00\">m_dep &lt;= 0.85</text>\n<text text-anchor=\"middle\" x=\"354\" y=\"-183.8\" font-family=\"Helvetica,sans-Serif\" font-size=\"14.00\">samples = 26.6%</text>\n<text text-anchor=\"middle\" x=\"354\" y=\"-168.8\" font-family=\"Helvetica,sans-Serif\" font-size=\"14.00\">value = [0.333, 0.196, 0.21, 0.261]</text>\n</g>\n<!-- 0&#45;&gt;1 -->\n<g id=\"edge1\" class=\"edge\">\n<title>0&#45;&gt;1</title>\n<path fill=\"none\" stroke=\"black\" d=\"M438.65,-249.87C425.82,-240.57 411.18,-229.95 397.72,-220.2\"/>\n<polygon fill=\"black\" stroke=\"black\" points=\"399.67,-217.29 389.52,-214.25 395.56,-222.95 399.67,-217.29\"/>\n<text text-anchor=\"middle\" x=\"393.45\" y=\"-235.24\" font-family=\"Helvetica,sans-Serif\" font-size=\"14.00\">True</text>\n</g>\n<!-- 186 -->\n<g id=\"node9\" class=\"node\">\n<title>186</title>\n<polygon fill=\"#fefbfe\" stroke=\"black\" points=\"705,-214 483,-214 483,-161 705,-161 705,-214\"/>\n<text text-anchor=\"middle\" x=\"594\" y=\"-198.8\" font-family=\"Helvetica,sans-Serif\" font-size=\"14.00\">clock_speed &lt;= 2.35</text>\n<text text-anchor=\"middle\" x=\"594\" y=\"-183.8\" font-family=\"Helvetica,sans-Serif\" font-size=\"14.00\">samples = 73.4%</text>\n<text text-anchor=\"middle\" x=\"594\" y=\"-168.8\" font-family=\"Helvetica,sans-Serif\" font-size=\"14.00\">value = [0.199, 0.265, 0.256, 0.28]</text>\n</g>\n<!-- 0&#45;&gt;186 -->\n<g id=\"edge8\" class=\"edge\">\n<title>0&#45;&gt;186</title>\n<path fill=\"none\" stroke=\"black\" d=\"M509.35,-249.87C522.18,-240.57 536.82,-229.95 550.28,-220.2\"/>\n<polygon fill=\"black\" stroke=\"black\" points=\"552.44,-222.95 558.48,-214.25 548.33,-217.29 552.44,-222.95\"/>\n<text text-anchor=\"middle\" x=\"554.55\" y=\"-235.24\" font-family=\"Helvetica,sans-Serif\" font-size=\"14.00\">False</text>\n</g>\n<!-- 2 -->\n<g id=\"node3\" class=\"node\">\n<title>2</title>\n<polygon fill=\"#fae7d9\" stroke=\"black\" points=\"222,-125 0,-125 0,-72 222,-72 222,-125\"/>\n<text text-anchor=\"middle\" x=\"111\" y=\"-109.8\" font-family=\"Helvetica,sans-Serif\" font-size=\"14.00\">px_height &lt;= 591.5</text>\n<text text-anchor=\"middle\" x=\"111\" y=\"-94.8\" font-family=\"Helvetica,sans-Serif\" font-size=\"14.00\">samples = 21.5%</text>\n<text text-anchor=\"middle\" x=\"111\" y=\"-79.8\" font-family=\"Helvetica,sans-Serif\" font-size=\"14.00\">value = [0.378, 0.18, 0.209, 0.233]</text>\n</g>\n<!-- 1&#45;&gt;2 -->\n<g id=\"edge2\" class=\"edge\">\n<title>1&#45;&gt;2</title>\n<path fill=\"none\" stroke=\"black\" d=\"M282.73,-160.98C254.17,-150.76 221.12,-138.93 191.68,-128.39\"/>\n<polygon fill=\"black\" stroke=\"black\" points=\"192.86,-125.09 182.26,-125.01 190.5,-131.68 192.86,-125.09\"/>\n</g>\n<!-- 153 -->\n<g id=\"node6\" class=\"node\">\n<title>153</title>\n<polygon fill=\"#f9e1fb\" stroke=\"black\" points=\"470,-125 240,-125 240,-72 470,-72 470,-125\"/>\n<text text-anchor=\"middle\" x=\"355\" y=\"-109.8\" font-family=\"Helvetica,sans-Serif\" font-size=\"14.00\">ram &lt;= 3245.5</text>\n<text text-anchor=\"middle\" x=\"355\" y=\"-94.8\" font-family=\"Helvetica,sans-Serif\" font-size=\"14.00\">samples = 5.1%</text>\n<text text-anchor=\"middle\" x=\"355\" y=\"-79.8\" font-family=\"Helvetica,sans-Serif\" font-size=\"14.00\">value = [0.157, 0.258, 0.213, 0.371]</text>\n</g>\n<!-- 1&#45;&gt;153 -->\n<g id=\"edge5\" class=\"edge\">\n<title>1&#45;&gt;153</title>\n<path fill=\"none\" stroke=\"black\" d=\"M354.29,-160.87C354.39,-152.89 354.49,-143.93 354.59,-135.38\"/>\n<polygon fill=\"black\" stroke=\"black\" points=\"358.09,-135.29 354.7,-125.25 351.09,-135.21 358.09,-135.29\"/>\n</g>\n<!-- 3 -->\n<g id=\"node4\" class=\"node\">\n<title>3</title>\n<polygon fill=\"#c0c0c0\" stroke=\"black\" points=\"102,-36 48,-36 48,0 102,0 102,-36\"/>\n<text text-anchor=\"middle\" x=\"75\" y=\"-14.3\" font-family=\"Helvetica,sans-Serif\" font-size=\"14.00\">(...)</text>\n</g>\n<!-- 2&#45;&gt;3 -->\n<g id=\"edge3\" class=\"edge\">\n<title>2&#45;&gt;3</title>\n<path fill=\"none\" stroke=\"black\" d=\"M99.21,-71.8C95.34,-63.35 91.03,-53.95 87.13,-45.45\"/>\n<polygon fill=\"black\" stroke=\"black\" points=\"90.3,-43.96 82.95,-36.33 83.93,-46.88 90.3,-43.96\"/>\n</g>\n<!-- 72 -->\n<g id=\"node5\" class=\"node\">\n<title>72</title>\n<polygon fill=\"#c0c0c0\" stroke=\"black\" points=\"174,-36 120,-36 120,0 174,0 174,-36\"/>\n<text text-anchor=\"middle\" x=\"147\" y=\"-14.3\" font-family=\"Helvetica,sans-Serif\" font-size=\"14.00\">(...)</text>\n</g>\n<!-- 2&#45;&gt;72 -->\n<g id=\"edge4\" class=\"edge\">\n<title>2&#45;&gt;72</title>\n<path fill=\"none\" stroke=\"black\" d=\"M122.79,-71.8C126.66,-63.35 130.97,-53.95 134.87,-45.45\"/>\n<polygon fill=\"black\" stroke=\"black\" points=\"138.07,-46.88 139.05,-36.33 131.7,-43.96 138.07,-46.88\"/>\n</g>\n<!-- 154 -->\n<g id=\"node7\" class=\"node\">\n<title>154</title>\n<polygon fill=\"#c0c0c0\" stroke=\"black\" points=\"346,-36 292,-36 292,0 346,0 346,-36\"/>\n<text text-anchor=\"middle\" x=\"319\" y=\"-14.3\" font-family=\"Helvetica,sans-Serif\" font-size=\"14.00\">(...)</text>\n</g>\n<!-- 153&#45;&gt;154 -->\n<g id=\"edge6\" class=\"edge\">\n<title>153&#45;&gt;154</title>\n<path fill=\"none\" stroke=\"black\" d=\"M343.21,-71.8C339.34,-63.35 335.03,-53.95 331.13,-45.45\"/>\n<polygon fill=\"black\" stroke=\"black\" points=\"334.3,-43.96 326.95,-36.33 327.93,-46.88 334.3,-43.96\"/>\n</g>\n<!-- 179 -->\n<g id=\"node8\" class=\"node\">\n<title>179</title>\n<polygon fill=\"#c0c0c0\" stroke=\"black\" points=\"418,-36 364,-36 364,0 418,0 418,-36\"/>\n<text text-anchor=\"middle\" x=\"391\" y=\"-14.3\" font-family=\"Helvetica,sans-Serif\" font-size=\"14.00\">(...)</text>\n</g>\n<!-- 153&#45;&gt;179 -->\n<g id=\"edge7\" class=\"edge\">\n<title>153&#45;&gt;179</title>\n<path fill=\"none\" stroke=\"black\" d=\"M366.79,-71.8C370.66,-63.35 374.97,-53.95 378.87,-45.45\"/>\n<polygon fill=\"black\" stroke=\"black\" points=\"382.07,-46.88 383.05,-36.33 375.7,-43.96 382.07,-46.88\"/>\n</g>\n<!-- 187 -->\n<g id=\"node10\" class=\"node\">\n<title>187</title>\n<polygon fill=\"#fefafe\" stroke=\"black\" points=\"696.5,-125 489.5,-125 489.5,-72 696.5,-72 696.5,-125\"/>\n<text text-anchor=\"middle\" x=\"593\" y=\"-109.8\" font-family=\"Helvetica,sans-Serif\" font-size=\"14.00\">mobile_wt &lt;= 127.5</text>\n<text text-anchor=\"middle\" x=\"593\" y=\"-94.8\" font-family=\"Helvetica,sans-Serif\" font-size=\"14.00\">samples = 58.1%</text>\n<text text-anchor=\"middle\" x=\"593\" y=\"-79.8\" font-family=\"Helvetica,sans-Serif\" font-size=\"14.00\">value = [0.168, 0.283, 0.25, 0.3]</text>\n</g>\n<!-- 186&#45;&gt;187 -->\n<g id=\"edge9\" class=\"edge\">\n<title>186&#45;&gt;187</title>\n<path fill=\"none\" stroke=\"black\" d=\"M593.71,-160.87C593.61,-152.89 593.51,-143.93 593.41,-135.38\"/>\n<polygon fill=\"black\" stroke=\"black\" points=\"596.91,-135.21 593.3,-125.25 589.91,-135.29 596.91,-135.21\"/>\n</g>\n<!-- 586 -->\n<g id=\"node13\" class=\"node\">\n<title>586</title>\n<polygon fill=\"#fefaf6\" stroke=\"black\" points=\"937,-125 715,-125 715,-72 937,-72 937,-125\"/>\n<text text-anchor=\"middle\" x=\"826\" y=\"-109.8\" font-family=\"Helvetica,sans-Serif\" font-size=\"14.00\">ram &lt;= 1521.5</text>\n<text text-anchor=\"middle\" x=\"826\" y=\"-94.8\" font-family=\"Helvetica,sans-Serif\" font-size=\"14.00\">samples = 15.3%</text>\n<text text-anchor=\"middle\" x=\"826\" y=\"-79.8\" font-family=\"Helvetica,sans-Serif\" font-size=\"14.00\">value = [0.31, 0.202, 0.279, 0.209]</text>\n</g>\n<!-- 186&#45;&gt;586 -->\n<g id=\"edge12\" class=\"edge\">\n<title>186&#45;&gt;586</title>\n<path fill=\"none\" stroke=\"black\" d=\"M662.04,-160.98C689.07,-150.85 720.32,-139.13 748.24,-128.66\"/>\n<polygon fill=\"black\" stroke=\"black\" points=\"749.83,-131.8 757.96,-125.01 747.37,-125.25 749.83,-131.8\"/>\n</g>\n<!-- 188 -->\n<g id=\"node11\" class=\"node\">\n<title>188</title>\n<polygon fill=\"#c0c0c0\" stroke=\"black\" points=\"584,-36 530,-36 530,0 584,0 584,-36\"/>\n<text text-anchor=\"middle\" x=\"557\" y=\"-14.3\" font-family=\"Helvetica,sans-Serif\" font-size=\"14.00\">(...)</text>\n</g>\n<!-- 187&#45;&gt;188 -->\n<g id=\"edge10\" class=\"edge\">\n<title>187&#45;&gt;188</title>\n<path fill=\"none\" stroke=\"black\" d=\"M581.21,-71.8C577.34,-63.35 573.03,-53.95 569.13,-45.45\"/>\n<polygon fill=\"black\" stroke=\"black\" points=\"572.3,-43.96 564.95,-36.33 565.93,-46.88 572.3,-43.96\"/>\n</g>\n<!-- 407 -->\n<g id=\"node12\" class=\"node\">\n<title>407</title>\n<polygon fill=\"#c0c0c0\" stroke=\"black\" points=\"656,-36 602,-36 602,0 656,0 656,-36\"/>\n<text text-anchor=\"middle\" x=\"629\" y=\"-14.3\" font-family=\"Helvetica,sans-Serif\" font-size=\"14.00\">(...)</text>\n</g>\n<!-- 187&#45;&gt;407 -->\n<g id=\"edge11\" class=\"edge\">\n<title>187&#45;&gt;407</title>\n<path fill=\"none\" stroke=\"black\" d=\"M604.79,-71.8C608.66,-63.35 612.97,-53.95 616.87,-45.45\"/>\n<polygon fill=\"black\" stroke=\"black\" points=\"620.07,-46.88 621.05,-36.33 613.7,-43.96 620.07,-46.88\"/>\n</g>\n<!-- 587 -->\n<g id=\"node14\" class=\"node\">\n<title>587</title>\n<polygon fill=\"#c0c0c0\" stroke=\"black\" points=\"817,-36 763,-36 763,0 817,0 817,-36\"/>\n<text text-anchor=\"middle\" x=\"790\" y=\"-14.3\" font-family=\"Helvetica,sans-Serif\" font-size=\"14.00\">(...)</text>\n</g>\n<!-- 586&#45;&gt;587 -->\n<g id=\"edge13\" class=\"edge\">\n<title>586&#45;&gt;587</title>\n<path fill=\"none\" stroke=\"black\" d=\"M814.21,-71.8C810.34,-63.35 806.03,-53.95 802.13,-45.45\"/>\n<polygon fill=\"black\" stroke=\"black\" points=\"805.3,-43.96 797.95,-36.33 798.93,-46.88 805.3,-43.96\"/>\n</g>\n<!-- 612 -->\n<g id=\"node15\" class=\"node\">\n<title>612</title>\n<polygon fill=\"#c0c0c0\" stroke=\"black\" points=\"889,-36 835,-36 835,0 889,0 889,-36\"/>\n<text text-anchor=\"middle\" x=\"862\" y=\"-14.3\" font-family=\"Helvetica,sans-Serif\" font-size=\"14.00\">(...)</text>\n</g>\n<!-- 586&#45;&gt;612 -->\n<g id=\"edge14\" class=\"edge\">\n<title>586&#45;&gt;612</title>\n<path fill=\"none\" stroke=\"black\" d=\"M837.79,-71.8C841.66,-63.35 845.97,-53.95 849.87,-45.45\"/>\n<polygon fill=\"black\" stroke=\"black\" points=\"853.07,-46.88 854.05,-36.33 846.7,-43.96 853.07,-46.88\"/>\n</g>\n</g>\n</svg>\n",
            "text/plain": [
              "<graphviz.sources.Source at 0x7a72273129b0>"
            ]
          },
          "metadata": {}
        },
        {
          "output_type": "display_data",
          "data": {
            "image/svg+xml": "<?xml version=\"1.0\" encoding=\"UTF-8\" standalone=\"no\"?>\n<!DOCTYPE svg PUBLIC \"-//W3C//DTD SVG 1.1//EN\"\n \"http://www.w3.org/Graphics/SVG/1.1/DTD/svg11.dtd\">\n<!-- Generated by graphviz version 2.43.0 (0)\n -->\n<!-- Title: Tree Pages: 1 -->\n<svg width=\"966pt\" height=\"311pt\"\n viewBox=\"0.00 0.00 966.00 311.00\" xmlns=\"http://www.w3.org/2000/svg\" xmlns:xlink=\"http://www.w3.org/1999/xlink\">\n<g id=\"graph0\" class=\"graph\" transform=\"scale(1 1) rotate(0) translate(4 307)\">\n<title>Tree</title>\n<polygon fill=\"white\" stroke=\"transparent\" points=\"-4,4 -4,-307 962,-307 962,4 -4,4\"/>\n<!-- 0 -->\n<g id=\"node1\" class=\"node\">\n<title>0</title>\n<polygon fill=\"#fdfffd\" stroke=\"black\" points=\"594,-303 364,-303 364,-250 594,-250 594,-303\"/>\n<text text-anchor=\"middle\" x=\"479\" y=\"-287.8\" font-family=\"Helvetica,sans-Serif\" font-size=\"14.00\">px_width &lt;= 1625.5</text>\n<text text-anchor=\"middle\" x=\"479\" y=\"-272.8\" font-family=\"Helvetica,sans-Serif\" font-size=\"14.00\">samples = 100.0%</text>\n<text text-anchor=\"middle\" x=\"479\" y=\"-257.8\" font-family=\"Helvetica,sans-Serif\" font-size=\"14.00\">value = [0.259, 0.267, 0.228, 0.246]</text>\n</g>\n<!-- 1 -->\n<g id=\"node2\" class=\"node\">\n<title>1</title>\n<polygon fill=\"#fef9f6\" stroke=\"black\" points=\"466,-214 244,-214 244,-161 466,-161 466,-214\"/>\n<text text-anchor=\"middle\" x=\"355\" y=\"-198.8\" font-family=\"Helvetica,sans-Serif\" font-size=\"14.00\">pc &lt;= 18.5</text>\n<text text-anchor=\"middle\" x=\"355\" y=\"-183.8\" font-family=\"Helvetica,sans-Serif\" font-size=\"14.00\">samples = 74.4%</text>\n<text text-anchor=\"middle\" x=\"355\" y=\"-168.8\" font-family=\"Helvetica,sans-Serif\" font-size=\"14.00\">value = [0.293, 0.26, 0.235, 0.211]</text>\n</g>\n<!-- 0&#45;&gt;1 -->\n<g id=\"edge1\" class=\"edge\">\n<title>0&#45;&gt;1</title>\n<path fill=\"none\" stroke=\"black\" d=\"M442.47,-249.87C429.21,-240.57 414.08,-229.95 400.18,-220.2\"/>\n<polygon fill=\"black\" stroke=\"black\" points=\"401.9,-217.13 391.7,-214.25 397.88,-222.86 401.9,-217.13\"/>\n<text text-anchor=\"middle\" x=\"396.02\" y=\"-235.17\" font-family=\"Helvetica,sans-Serif\" font-size=\"14.00\">True</text>\n</g>\n<!-- 536 -->\n<g id=\"node9\" class=\"node\">\n<title>536</title>\n<polygon fill=\"#fceefd\" stroke=\"black\" points=\"718,-214 488,-214 488,-161 718,-161 718,-214\"/>\n<text text-anchor=\"middle\" x=\"603\" y=\"-198.8\" font-family=\"Helvetica,sans-Serif\" font-size=\"14.00\">sc_h &lt;= 16.5</text>\n<text text-anchor=\"middle\" x=\"603\" y=\"-183.8\" font-family=\"Helvetica,sans-Serif\" font-size=\"14.00\">samples = 25.6%</text>\n<text text-anchor=\"middle\" x=\"603\" y=\"-168.8\" font-family=\"Helvetica,sans-Serif\" font-size=\"14.00\">value = [0.159, 0.286, 0.208, 0.347]</text>\n</g>\n<!-- 0&#45;&gt;536 -->\n<g id=\"edge8\" class=\"edge\">\n<title>0&#45;&gt;536</title>\n<path fill=\"none\" stroke=\"black\" d=\"M515.53,-249.87C528.79,-240.57 543.92,-229.95 557.82,-220.2\"/>\n<polygon fill=\"black\" stroke=\"black\" points=\"560.12,-222.86 566.3,-214.25 556.1,-217.13 560.12,-222.86\"/>\n<text text-anchor=\"middle\" x=\"561.98\" y=\"-235.17\" font-family=\"Helvetica,sans-Serif\" font-size=\"14.00\">False</text>\n</g>\n<!-- 2 -->\n<g id=\"node3\" class=\"node\">\n<title>2</title>\n<polygon fill=\"#fdf5ef\" stroke=\"black\" points=\"222,-125 0,-125 0,-72 222,-72 222,-125\"/>\n<text text-anchor=\"middle\" x=\"111\" y=\"-109.8\" font-family=\"Helvetica,sans-Serif\" font-size=\"14.00\">mobile_wt &lt;= 81.5</text>\n<text text-anchor=\"middle\" x=\"111\" y=\"-94.8\" font-family=\"Helvetica,sans-Serif\" font-size=\"14.00\">samples = 68.3%</text>\n<text text-anchor=\"middle\" x=\"111\" y=\"-79.8\" font-family=\"Helvetica,sans-Serif\" font-size=\"14.00\">value = [0.31, 0.248, 0.236, 0.206]</text>\n</g>\n<!-- 1&#45;&gt;2 -->\n<g id=\"edge2\" class=\"edge\">\n<title>1&#45;&gt;2</title>\n<path fill=\"none\" stroke=\"black\" d=\"M283.44,-160.98C254.76,-150.76 221.57,-138.93 192.02,-128.39\"/>\n<polygon fill=\"black\" stroke=\"black\" points=\"193.15,-125.08 182.56,-125.01 190.8,-131.67 193.15,-125.08\"/>\n</g>\n<!-- 513 -->\n<g id=\"node6\" class=\"node\">\n<title>513</title>\n<polygon fill=\"#defadb\" stroke=\"black\" points=\"470,-125 240,-125 240,-72 470,-72 470,-125\"/>\n<text text-anchor=\"middle\" x=\"355\" y=\"-109.8\" font-family=\"Helvetica,sans-Serif\" font-size=\"14.00\">ram &lt;= 3069.0</text>\n<text text-anchor=\"middle\" x=\"355\" y=\"-94.8\" font-family=\"Helvetica,sans-Serif\" font-size=\"14.00\">samples = 6.0%</text>\n<text text-anchor=\"middle\" x=\"355\" y=\"-79.8\" font-family=\"Helvetica,sans-Serif\" font-size=\"14.00\">value = [0.112, 0.398, 0.224, 0.265]</text>\n</g>\n<!-- 1&#45;&gt;513 -->\n<g id=\"edge5\" class=\"edge\">\n<title>1&#45;&gt;513</title>\n<path fill=\"none\" stroke=\"black\" d=\"M355,-160.87C355,-152.89 355,-143.93 355,-135.38\"/>\n<polygon fill=\"black\" stroke=\"black\" points=\"358.5,-135.25 355,-125.25 351.5,-135.25 358.5,-135.25\"/>\n</g>\n<!-- 3 -->\n<g id=\"node4\" class=\"node\">\n<title>3</title>\n<polygon fill=\"#c0c0c0\" stroke=\"black\" points=\"102,-36 48,-36 48,0 102,0 102,-36\"/>\n<text text-anchor=\"middle\" x=\"75\" y=\"-14.3\" font-family=\"Helvetica,sans-Serif\" font-size=\"14.00\">(...)</text>\n</g>\n<!-- 2&#45;&gt;3 -->\n<g id=\"edge3\" class=\"edge\">\n<title>2&#45;&gt;3</title>\n<path fill=\"none\" stroke=\"black\" d=\"M99.21,-71.8C95.34,-63.35 91.03,-53.95 87.13,-45.45\"/>\n<polygon fill=\"black\" stroke=\"black\" points=\"90.3,-43.96 82.95,-36.33 83.93,-46.88 90.3,-43.96\"/>\n</g>\n<!-- 10 -->\n<g id=\"node5\" class=\"node\">\n<title>10</title>\n<polygon fill=\"#c0c0c0\" stroke=\"black\" points=\"174,-36 120,-36 120,0 174,0 174,-36\"/>\n<text text-anchor=\"middle\" x=\"147\" y=\"-14.3\" font-family=\"Helvetica,sans-Serif\" font-size=\"14.00\">(...)</text>\n</g>\n<!-- 2&#45;&gt;10 -->\n<g id=\"edge4\" class=\"edge\">\n<title>2&#45;&gt;10</title>\n<path fill=\"none\" stroke=\"black\" d=\"M122.79,-71.8C126.66,-63.35 130.97,-53.95 134.87,-45.45\"/>\n<polygon fill=\"black\" stroke=\"black\" points=\"138.07,-46.88 139.05,-36.33 131.7,-43.96 138.07,-46.88\"/>\n</g>\n<!-- 514 -->\n<g id=\"node7\" class=\"node\">\n<title>514</title>\n<polygon fill=\"#c0c0c0\" stroke=\"black\" points=\"346,-36 292,-36 292,0 346,0 346,-36\"/>\n<text text-anchor=\"middle\" x=\"319\" y=\"-14.3\" font-family=\"Helvetica,sans-Serif\" font-size=\"14.00\">(...)</text>\n</g>\n<!-- 513&#45;&gt;514 -->\n<g id=\"edge6\" class=\"edge\">\n<title>513&#45;&gt;514</title>\n<path fill=\"none\" stroke=\"black\" d=\"M343.21,-71.8C339.34,-63.35 335.03,-53.95 331.13,-45.45\"/>\n<polygon fill=\"black\" stroke=\"black\" points=\"334.3,-43.96 326.95,-36.33 327.93,-46.88 334.3,-43.96\"/>\n</g>\n<!-- 535 -->\n<g id=\"node8\" class=\"node\">\n<title>535</title>\n<polygon fill=\"#c0c0c0\" stroke=\"black\" points=\"418,-36 364,-36 364,0 418,0 418,-36\"/>\n<text text-anchor=\"middle\" x=\"391\" y=\"-14.3\" font-family=\"Helvetica,sans-Serif\" font-size=\"14.00\">(...)</text>\n</g>\n<!-- 513&#45;&gt;535 -->\n<g id=\"edge7\" class=\"edge\">\n<title>513&#45;&gt;535</title>\n<path fill=\"none\" stroke=\"black\" d=\"M366.79,-71.8C370.66,-63.35 374.97,-53.95 378.87,-45.45\"/>\n<polygon fill=\"black\" stroke=\"black\" points=\"382.07,-46.88 383.05,-36.33 375.7,-43.96 382.07,-46.88\"/>\n</g>\n<!-- 537 -->\n<g id=\"node10\" class=\"node\">\n<title>537</title>\n<polygon fill=\"#fef9fe\" stroke=\"black\" points=\"718,-125 488,-125 488,-72 718,-72 718,-125\"/>\n<text text-anchor=\"middle\" x=\"603\" y=\"-109.8\" font-family=\"Helvetica,sans-Serif\" font-size=\"14.00\">battery_power &lt;= 999.5</text>\n<text text-anchor=\"middle\" x=\"603\" y=\"-94.8\" font-family=\"Helvetica,sans-Serif\" font-size=\"14.00\">samples = 18.7%</text>\n<text text-anchor=\"middle\" x=\"603\" y=\"-79.8\" font-family=\"Helvetica,sans-Serif\" font-size=\"14.00\">value = [0.139, 0.333, 0.173, 0.354]</text>\n</g>\n<!-- 536&#45;&gt;537 -->\n<g id=\"edge9\" class=\"edge\">\n<title>536&#45;&gt;537</title>\n<path fill=\"none\" stroke=\"black\" d=\"M603,-160.87C603,-152.89 603,-143.93 603,-135.38\"/>\n<polygon fill=\"black\" stroke=\"black\" points=\"606.5,-135.25 603,-125.25 599.5,-135.25 606.5,-135.25\"/>\n</g>\n<!-- 658 -->\n<g id=\"node13\" class=\"node\">\n<title>658</title>\n<polygon fill=\"#fdf5fe\" stroke=\"black\" points=\"958,-125 736,-125 736,-72 958,-72 958,-125\"/>\n<text text-anchor=\"middle\" x=\"847\" y=\"-109.8\" font-family=\"Helvetica,sans-Serif\" font-size=\"14.00\">m_dep &lt;= 0.85</text>\n<text text-anchor=\"middle\" x=\"847\" y=\"-94.8\" font-family=\"Helvetica,sans-Serif\" font-size=\"14.00\">samples = 6.9%</text>\n<text text-anchor=\"middle\" x=\"847\" y=\"-79.8\" font-family=\"Helvetica,sans-Serif\" font-size=\"14.00\">value = [0.209, 0.165, 0.296, 0.33]</text>\n</g>\n<!-- 536&#45;&gt;658 -->\n<g id=\"edge12\" class=\"edge\">\n<title>536&#45;&gt;658</title>\n<path fill=\"none\" stroke=\"black\" d=\"M674.56,-160.98C703.24,-150.76 736.43,-138.93 765.98,-128.39\"/>\n<polygon fill=\"black\" stroke=\"black\" points=\"767.2,-131.67 775.44,-125.01 764.85,-125.08 767.2,-131.67\"/>\n</g>\n<!-- 538 -->\n<g id=\"node11\" class=\"node\">\n<title>538</title>\n<polygon fill=\"#c0c0c0\" stroke=\"black\" points=\"594,-36 540,-36 540,0 594,0 594,-36\"/>\n<text text-anchor=\"middle\" x=\"567\" y=\"-14.3\" font-family=\"Helvetica,sans-Serif\" font-size=\"14.00\">(...)</text>\n</g>\n<!-- 537&#45;&gt;538 -->\n<g id=\"edge10\" class=\"edge\">\n<title>537&#45;&gt;538</title>\n<path fill=\"none\" stroke=\"black\" d=\"M591.21,-71.8C587.34,-63.35 583.03,-53.95 579.13,-45.45\"/>\n<polygon fill=\"black\" stroke=\"black\" points=\"582.3,-43.96 574.95,-36.33 575.93,-46.88 582.3,-43.96\"/>\n</g>\n<!-- 581 -->\n<g id=\"node12\" class=\"node\">\n<title>581</title>\n<polygon fill=\"#c0c0c0\" stroke=\"black\" points=\"666,-36 612,-36 612,0 666,0 666,-36\"/>\n<text text-anchor=\"middle\" x=\"639\" y=\"-14.3\" font-family=\"Helvetica,sans-Serif\" font-size=\"14.00\">(...)</text>\n</g>\n<!-- 537&#45;&gt;581 -->\n<g id=\"edge11\" class=\"edge\">\n<title>537&#45;&gt;581</title>\n<path fill=\"none\" stroke=\"black\" d=\"M614.79,-71.8C618.66,-63.35 622.97,-53.95 626.87,-45.45\"/>\n<polygon fill=\"black\" stroke=\"black\" points=\"630.07,-46.88 631.05,-36.33 623.7,-43.96 630.07,-46.88\"/>\n</g>\n<!-- 659 -->\n<g id=\"node14\" class=\"node\">\n<title>659</title>\n<polygon fill=\"#c0c0c0\" stroke=\"black\" points=\"838,-36 784,-36 784,0 838,0 838,-36\"/>\n<text text-anchor=\"middle\" x=\"811\" y=\"-14.3\" font-family=\"Helvetica,sans-Serif\" font-size=\"14.00\">(...)</text>\n</g>\n<!-- 658&#45;&gt;659 -->\n<g id=\"edge13\" class=\"edge\">\n<title>658&#45;&gt;659</title>\n<path fill=\"none\" stroke=\"black\" d=\"M835.21,-71.8C831.34,-63.35 827.03,-53.95 823.13,-45.45\"/>\n<polygon fill=\"black\" stroke=\"black\" points=\"826.3,-43.96 818.95,-36.33 819.93,-46.88 826.3,-43.96\"/>\n</g>\n<!-- 718 -->\n<g id=\"node15\" class=\"node\">\n<title>718</title>\n<polygon fill=\"#c0c0c0\" stroke=\"black\" points=\"910,-36 856,-36 856,0 910,0 910,-36\"/>\n<text text-anchor=\"middle\" x=\"883\" y=\"-14.3\" font-family=\"Helvetica,sans-Serif\" font-size=\"14.00\">(...)</text>\n</g>\n<!-- 658&#45;&gt;718 -->\n<g id=\"edge14\" class=\"edge\">\n<title>658&#45;&gt;718</title>\n<path fill=\"none\" stroke=\"black\" d=\"M858.79,-71.8C862.66,-63.35 866.97,-53.95 870.87,-45.45\"/>\n<polygon fill=\"black\" stroke=\"black\" points=\"874.07,-46.88 875.05,-36.33 867.7,-43.96 874.07,-46.88\"/>\n</g>\n</g>\n</svg>\n",
            "text/plain": [
              "<graphviz.sources.Source at 0x7a72273128f0>"
            ]
          },
          "metadata": {}
        }
      ]
    },
    {
      "cell_type": "code",
      "source": [
        "param_dist = {'n_estimators': randint(50,500),\n",
        "              'max_depth': randint(1,20)}\n",
        "\n",
        "# Create a random forest classifier\n",
        "rf = RandomForestClassifier()\n",
        "\n",
        "# Use random search to find the best hyperparameters\n",
        "rand_search = RandomizedSearchCV(rf,\n",
        "                                 param_distributions = param_dist,\n",
        "                                 n_iter=5,\n",
        "                                 cv=5)\n",
        "\n",
        "# Fit the random search object to the data\n",
        "rand_search.fit(X_train, y_train)"
      ],
      "metadata": {
        "id": "1m30BH5mBbfD",
        "colab": {
          "base_uri": "https://localhost:8080/",
          "height": 117
        },
        "outputId": "0fd9fa34-5246-4634-dd4d-a8dd3268d044"
      },
      "execution_count": 39,
      "outputs": [
        {
          "output_type": "execute_result",
          "data": {
            "text/plain": [
              "RandomizedSearchCV(cv=5, estimator=RandomForestClassifier(), n_iter=5,\n",
              "                   param_distributions={'max_depth': <scipy.stats._distn_infrastructure.rv_discrete_frozen object at 0x7a7227312a40>,\n",
              "                                        'n_estimators': <scipy.stats._distn_infrastructure.rv_discrete_frozen object at 0x7a7227313040>})"
            ],
            "text/html": [
              "<style>#sk-container-id-5 {color: black;background-color: white;}#sk-container-id-5 pre{padding: 0;}#sk-container-id-5 div.sk-toggleable {background-color: white;}#sk-container-id-5 label.sk-toggleable__label {cursor: pointer;display: block;width: 100%;margin-bottom: 0;padding: 0.3em;box-sizing: border-box;text-align: center;}#sk-container-id-5 label.sk-toggleable__label-arrow:before {content: \"▸\";float: left;margin-right: 0.25em;color: #696969;}#sk-container-id-5 label.sk-toggleable__label-arrow:hover:before {color: black;}#sk-container-id-5 div.sk-estimator:hover label.sk-toggleable__label-arrow:before {color: black;}#sk-container-id-5 div.sk-toggleable__content {max-height: 0;max-width: 0;overflow: hidden;text-align: left;background-color: #f0f8ff;}#sk-container-id-5 div.sk-toggleable__content pre {margin: 0.2em;color: black;border-radius: 0.25em;background-color: #f0f8ff;}#sk-container-id-5 input.sk-toggleable__control:checked~div.sk-toggleable__content {max-height: 200px;max-width: 100%;overflow: auto;}#sk-container-id-5 input.sk-toggleable__control:checked~label.sk-toggleable__label-arrow:before {content: \"▾\";}#sk-container-id-5 div.sk-estimator input.sk-toggleable__control:checked~label.sk-toggleable__label {background-color: #d4ebff;}#sk-container-id-5 div.sk-label input.sk-toggleable__control:checked~label.sk-toggleable__label {background-color: #d4ebff;}#sk-container-id-5 input.sk-hidden--visually {border: 0;clip: rect(1px 1px 1px 1px);clip: rect(1px, 1px, 1px, 1px);height: 1px;margin: -1px;overflow: hidden;padding: 0;position: absolute;width: 1px;}#sk-container-id-5 div.sk-estimator {font-family: monospace;background-color: #f0f8ff;border: 1px dotted black;border-radius: 0.25em;box-sizing: border-box;margin-bottom: 0.5em;}#sk-container-id-5 div.sk-estimator:hover {background-color: #d4ebff;}#sk-container-id-5 div.sk-parallel-item::after {content: \"\";width: 100%;border-bottom: 1px solid gray;flex-grow: 1;}#sk-container-id-5 div.sk-label:hover label.sk-toggleable__label {background-color: #d4ebff;}#sk-container-id-5 div.sk-serial::before {content: \"\";position: absolute;border-left: 1px solid gray;box-sizing: border-box;top: 0;bottom: 0;left: 50%;z-index: 0;}#sk-container-id-5 div.sk-serial {display: flex;flex-direction: column;align-items: center;background-color: white;padding-right: 0.2em;padding-left: 0.2em;position: relative;}#sk-container-id-5 div.sk-item {position: relative;z-index: 1;}#sk-container-id-5 div.sk-parallel {display: flex;align-items: stretch;justify-content: center;background-color: white;position: relative;}#sk-container-id-5 div.sk-item::before, #sk-container-id-5 div.sk-parallel-item::before {content: \"\";position: absolute;border-left: 1px solid gray;box-sizing: border-box;top: 0;bottom: 0;left: 50%;z-index: -1;}#sk-container-id-5 div.sk-parallel-item {display: flex;flex-direction: column;z-index: 1;position: relative;background-color: white;}#sk-container-id-5 div.sk-parallel-item:first-child::after {align-self: flex-end;width: 50%;}#sk-container-id-5 div.sk-parallel-item:last-child::after {align-self: flex-start;width: 50%;}#sk-container-id-5 div.sk-parallel-item:only-child::after {width: 0;}#sk-container-id-5 div.sk-dashed-wrapped {border: 1px dashed gray;margin: 0 0.4em 0.5em 0.4em;box-sizing: border-box;padding-bottom: 0.4em;background-color: white;}#sk-container-id-5 div.sk-label label {font-family: monospace;font-weight: bold;display: inline-block;line-height: 1.2em;}#sk-container-id-5 div.sk-label-container {text-align: center;}#sk-container-id-5 div.sk-container {/* jupyter's `normalize.less` sets `[hidden] { display: none; }` but bootstrap.min.css set `[hidden] { display: none !important; }` so we also need the `!important` here to be able to override the default hidden behavior on the sphinx rendered scikit-learn.org. See: https://github.com/scikit-learn/scikit-learn/issues/21755 */display: inline-block !important;position: relative;}#sk-container-id-5 div.sk-text-repr-fallback {display: none;}</style><div id=\"sk-container-id-5\" class=\"sk-top-container\"><div class=\"sk-text-repr-fallback\"><pre>RandomizedSearchCV(cv=5, estimator=RandomForestClassifier(), n_iter=5,\n",
              "                   param_distributions={&#x27;max_depth&#x27;: &lt;scipy.stats._distn_infrastructure.rv_discrete_frozen object at 0x7a7227312a40&gt;,\n",
              "                                        &#x27;n_estimators&#x27;: &lt;scipy.stats._distn_infrastructure.rv_discrete_frozen object at 0x7a7227313040&gt;})</pre><b>In a Jupyter environment, please rerun this cell to show the HTML representation or trust the notebook. <br />On GitHub, the HTML representation is unable to render, please try loading this page with nbviewer.org.</b></div><div class=\"sk-container\" hidden><div class=\"sk-item sk-dashed-wrapped\"><div class=\"sk-label-container\"><div class=\"sk-label sk-toggleable\"><input class=\"sk-toggleable__control sk-hidden--visually\" id=\"sk-estimator-id-7\" type=\"checkbox\" ><label for=\"sk-estimator-id-7\" class=\"sk-toggleable__label sk-toggleable__label-arrow\">RandomizedSearchCV</label><div class=\"sk-toggleable__content\"><pre>RandomizedSearchCV(cv=5, estimator=RandomForestClassifier(), n_iter=5,\n",
              "                   param_distributions={&#x27;max_depth&#x27;: &lt;scipy.stats._distn_infrastructure.rv_discrete_frozen object at 0x7a7227312a40&gt;,\n",
              "                                        &#x27;n_estimators&#x27;: &lt;scipy.stats._distn_infrastructure.rv_discrete_frozen object at 0x7a7227313040&gt;})</pre></div></div></div><div class=\"sk-parallel\"><div class=\"sk-parallel-item\"><div class=\"sk-item\"><div class=\"sk-label-container\"><div class=\"sk-label sk-toggleable\"><input class=\"sk-toggleable__control sk-hidden--visually\" id=\"sk-estimator-id-8\" type=\"checkbox\" ><label for=\"sk-estimator-id-8\" class=\"sk-toggleable__label sk-toggleable__label-arrow\">estimator: RandomForestClassifier</label><div class=\"sk-toggleable__content\"><pre>RandomForestClassifier()</pre></div></div></div><div class=\"sk-serial\"><div class=\"sk-item\"><div class=\"sk-estimator sk-toggleable\"><input class=\"sk-toggleable__control sk-hidden--visually\" id=\"sk-estimator-id-9\" type=\"checkbox\" ><label for=\"sk-estimator-id-9\" class=\"sk-toggleable__label sk-toggleable__label-arrow\">RandomForestClassifier</label><div class=\"sk-toggleable__content\"><pre>RandomForestClassifier()</pre></div></div></div></div></div></div></div></div></div></div>"
            ]
          },
          "metadata": {},
          "execution_count": 39
        }
      ]
    },
    {
      "cell_type": "code",
      "source": [
        "# Create a variable for the best model\n",
        "best_rf = rand_search.best_estimator_\n",
        "\n",
        "# Print the best hyperparameters\n",
        "print('Best hyperparameters:',  rand_search.best_params_)"
      ],
      "metadata": {
        "id": "iA_6b2WHBg53",
        "colab": {
          "base_uri": "https://localhost:8080/"
        },
        "outputId": "dbf67e7f-8f3c-4e6d-b309-e8d96dd4f851"
      },
      "execution_count": 40,
      "outputs": [
        {
          "output_type": "stream",
          "name": "stdout",
          "text": [
            "Best hyperparameters: {'max_depth': 18, 'n_estimators': 336}\n"
          ]
        }
      ]
    },
    {
      "cell_type": "code",
      "source": [
        "# Generate predictions with the best model\n",
        "y_pred = best_rf.predict(X_test)\n",
        "\n",
        "accuracy = accuracy_score(y_test, y_pred)\n",
        "print(\"Accuracy:\", accuracy)\n",
        "\n",
        "# Create the confusion matrix\n",
        "cm = confusion_matrix(y_test, y_pred)\n",
        "\n",
        "ConfusionMatrixDisplay(confusion_matrix=cm).plot();"
      ],
      "metadata": {
        "id": "E0iS20wjBjTD",
        "colab": {
          "base_uri": "https://localhost:8080/",
          "height": 466
        },
        "outputId": "fde36c1c-ecc3-4901-be3e-db3a29cb8a1f"
      },
      "execution_count": 41,
      "outputs": [
        {
          "output_type": "stream",
          "name": "stdout",
          "text": [
            "Accuracy: 0.8721804511278195\n"
          ]
        },
        {
          "output_type": "display_data",
          "data": {
            "text/plain": [
              "<Figure size 640x480 with 2 Axes>"
            ],
            "image/png": "[encoded data removed]"
          },
          "metadata": {}
        }
      ]
    },
    {
      "cell_type": "markdown",
      "source": [
        "### Logistic"
      ],
      "metadata": {
        "id": "fORx6hyULdv_"
      }
    },
    {
      "cell_type": "markdown",
      "source": [
        "polynomial"
      ],
      "metadata": {
        "id": "OmtJhpNFd3tS"
      }
    },
    {
      "cell_type": "code",
      "source": [
        "from sklearn.preprocessing import StandardScaler\n",
        "\n",
        "# copy of datasets\n",
        "X_train_normalized = X_train.copy()\n",
        "X_test_normalized = X_test.copy()\n",
        "\n",
        "# numerical features\n",
        "num_cols = ['battery_power', 'clock_speed', 'fc',\n",
        "       'int_memory', 'm_dep', 'mobile_wt', 'n_cores', 'pc', 'px_height',\n",
        "       'px_width', 'ram', 'sc_h', 'sc_w', 'talk_time', ]\n",
        "\n",
        "# apply standardization on numerical features\n",
        "for i in num_cols:\n",
        "\n",
        "    # fit on training data column\n",
        "    scale = StandardScaler().fit(X_train_normalized[[i]])\n",
        "\n",
        "    # transform the training data column\n",
        "    X_train_normalized[i] = scale.transform(X_train_normalized[[i]])\n",
        "\n",
        "    # transform the testing data column\n",
        "    X_test_normalized[i] = scale.transform(X_test_normalized[[i]])"
      ],
      "metadata": {
        "id": "sw5DhLqVLftv"
      },
      "execution_count": 42,
      "outputs": []
    },
    {
      "cell_type": "code",
      "source": [
        "# instantiate the model (using the default parameters)\n",
        "logreg = LogisticRegression(random_state=16)\n",
        "\n",
        "# fit the model with data\n",
        "logreg.fit(X_train, y_train)"
      ],
      "metadata": {
        "id": "Y7FpliLrb40f",
        "colab": {
          "base_uri": "https://localhost:8080/",
          "height": 0
        },
        "outputId": "a181763c-e260-4855-9b07-14971b39e986"
      },
      "execution_count": 43,
      "outputs": [
        {
          "output_type": "stream",
          "name": "stderr",
          "text": [
            "/usr/local/lib/python3.10/dist-packages/sklearn/linear_model/_logistic.py:458: ConvergenceWarning: lbfgs failed to converge (status=1):\n",
            "STOP: TOTAL NO. of ITERATIONS REACHED LIMIT.\n",
            "\n",
            "Increase the number of iterations (max_iter) or scale the data as shown in:\n",
            "    https://scikit-learn.org/stable/modules/preprocessing.html\n",
            "Please also refer to the documentation for alternative solver options:\n",
            "    https://scikit-learn.org/stable/modules/linear_model.html#logistic-regression\n",
            "  n_iter_i = _check_optimize_result(\n"
          ]
        },
        {
          "output_type": "execute_result",
          "data": {
            "text/plain": [
              "LogisticRegression(random_state=16)"
            ],
            "text/html": [
              "<style>#sk-container-id-6 {color: black;background-color: white;}#sk-container-id-6 pre{padding: 0;}#sk-container-id-6 div.sk-toggleable {background-color: white;}#sk-container-id-6 label.sk-toggleable__label {cursor: pointer;display: block;width: 100%;margin-bottom: 0;padding: 0.3em;box-sizing: border-box;text-align: center;}#sk-container-id-6 label.sk-toggleable__label-arrow:before {content: \"▸\";float: left;margin-right: 0.25em;color: #696969;}#sk-container-id-6 label.sk-toggleable__label-arrow:hover:before {color: black;}#sk-container-id-6 div.sk-estimator:hover label.sk-toggleable__label-arrow:before {color: black;}#sk-container-id-6 div.sk-toggleable__content {max-height: 0;max-width: 0;overflow: hidden;text-align: left;background-color: #f0f8ff;}#sk-container-id-6 div.sk-toggleable__content pre {margin: 0.2em;color: black;border-radius: 0.25em;background-color: #f0f8ff;}#sk-container-id-6 input.sk-toggleable__control:checked~div.sk-toggleable__content {max-height: 200px;max-width: 100%;overflow: auto;}#sk-container-id-6 input.sk-toggleable__control:checked~label.sk-toggleable__label-arrow:before {content: \"▾\";}#sk-container-id-6 div.sk-estimator input.sk-toggleable__control:checked~label.sk-toggleable__label {background-color: #d4ebff;}#sk-container-id-6 div.sk-label input.sk-toggleable__control:checked~label.sk-toggleable__label {background-color: #d4ebff;}#sk-container-id-6 input.sk-hidden--visually {border: 0;clip: rect(1px 1px 1px 1px);clip: rect(1px, 1px, 1px, 1px);height: 1px;margin: -1px;overflow: hidden;padding: 0;position: absolute;width: 1px;}#sk-container-id-6 div.sk-estimator {font-family: monospace;background-color: #f0f8ff;border: 1px dotted black;border-radius: 0.25em;box-sizing: border-box;margin-bottom: 0.5em;}#sk-container-id-6 div.sk-estimator:hover {background-color: #d4ebff;}#sk-container-id-6 div.sk-parallel-item::after {content: \"\";width: 100%;border-bottom: 1px solid gray;flex-grow: 1;}#sk-container-id-6 div.sk-label:hover label.sk-toggleable__label {background-color: #d4ebff;}#sk-container-id-6 div.sk-serial::before {content: \"\";position: absolute;border-left: 1px solid gray;box-sizing: border-box;top: 0;bottom: 0;left: 50%;z-index: 0;}#sk-container-id-6 div.sk-serial {display: flex;flex-direction: column;align-items: center;background-color: white;padding-right: 0.2em;padding-left: 0.2em;position: relative;}#sk-container-id-6 div.sk-item {position: relative;z-index: 1;}#sk-container-id-6 div.sk-parallel {display: flex;align-items: stretch;justify-content: center;background-color: white;position: relative;}#sk-container-id-6 div.sk-item::before, #sk-container-id-6 div.sk-parallel-item::before {content: \"\";position: absolute;border-left: 1px solid gray;box-sizing: border-box;top: 0;bottom: 0;left: 50%;z-index: -1;}#sk-container-id-6 div.sk-parallel-item {display: flex;flex-direction: column;z-index: 1;position: relative;background-color: white;}#sk-container-id-6 div.sk-parallel-item:first-child::after {align-self: flex-end;width: 50%;}#sk-container-id-6 div.sk-parallel-item:last-child::after {align-self: flex-start;width: 50%;}#sk-container-id-6 div.sk-parallel-item:only-child::after {width: 0;}#sk-container-id-6 div.sk-dashed-wrapped {border: 1px dashed gray;margin: 0 0.4em 0.5em 0.4em;box-sizing: border-box;padding-bottom: 0.4em;background-color: white;}#sk-container-id-6 div.sk-label label {font-family: monospace;font-weight: bold;display: inline-block;line-height: 1.2em;}#sk-container-id-6 div.sk-label-container {text-align: center;}#sk-container-id-6 div.sk-container {/* jupyter's `normalize.less` sets `[hidden] { display: none; }` but bootstrap.min.css set `[hidden] { display: none !important; }` so we also need the `!important` here to be able to override the default hidden behavior on the sphinx rendered scikit-learn.org. See: https://github.com/scikit-learn/scikit-learn/issues/21755 */display: inline-block !important;position: relative;}#sk-container-id-6 div.sk-text-repr-fallback {display: none;}</style><div id=\"sk-container-id-6\" class=\"sk-top-container\"><div class=\"sk-text-repr-fallback\"><pre>LogisticRegression(random_state=16)</pre><b>In a Jupyter environment, please rerun this cell to show the HTML representation or trust the notebook. <br />On GitHub, the HTML representation is unable to render, please try loading this page with nbviewer.org.</b></div><div class=\"sk-container\" hidden><div class=\"sk-item\"><div class=\"sk-estimator sk-toggleable\"><input class=\"sk-toggleable__control sk-hidden--visually\" id=\"sk-estimator-id-10\" type=\"checkbox\" checked><label for=\"sk-estimator-id-10\" class=\"sk-toggleable__label sk-toggleable__label-arrow\">LogisticRegression</label><div class=\"sk-toggleable__content\"><pre>LogisticRegression(random_state=16)</pre></div></div></div></div></div>"
            ]
          },
          "metadata": {},
          "execution_count": 43
        }
      ]
    },
    {
      "cell_type": "code",
      "source": [
        "y_pred = logreg.predict(X_test)"
      ],
      "metadata": {
        "id": "siq9xeceb6lW"
      },
      "execution_count": 44,
      "outputs": []
    },
    {
      "cell_type": "code",
      "source": [
        "print(accuracy_score(y_train, logreg.predict(X_train_normalized)))\n",
        "print(accuracy_score(y_test, logreg.predict(X_test_normalized)))"
      ],
      "metadata": {
        "colab": {
          "base_uri": "https://localhost:8080/"
        },
        "id": "7tZjz8dlj3D2",
        "outputId": "63cd2531-4a3f-42dd-a277-2e0449663a44"
      },
      "execution_count": 45,
      "outputs": [
        {
          "output_type": "stream",
          "name": "stdout",
          "text": [
            "0.28015075376884424\n",
            "0.2781954887218045\n"
          ]
        }
      ]
    },
    {
      "cell_type": "code",
      "source": [
        "cnf_matrix = confusion_matrix(y_test, y_pred)\n",
        "# import required modules\n",
        "class_names=[0,1,2,3] # name  of classes\n",
        "fig, ax = plt.subplots()\n",
        "tick_marks = np.arange(len(class_names))\n",
        "plt.xticks(tick_marks, class_names)\n",
        "plt.yticks(tick_marks, class_names)\n",
        "# create heatmap\n",
        "sns.heatmap(pd.DataFrame(cnf_matrix), annot=True, cmap=\"YlGnBu\" ,fmt='g')\n",
        "ax.xaxis.set_label_position(\"top\")\n",
        "plt.tight_layout()\n",
        "plt.title('Confusion matrix', y=1.1)\n",
        "plt.ylabel('Actual label')\n",
        "plt.xlabel('Predicted label')"
      ],
      "metadata": {
        "id": "7VeMUkaRb8x-",
        "colab": {
          "base_uri": "https://localhost:8080/",
          "height": 0
        },
        "outputId": "c5f0a7c3-9427-40c6-9e74-b0449737b608"
      },
      "execution_count": 46,
      "outputs": [
        {
          "output_type": "execute_result",
          "data": {
            "text/plain": [
              "Text(0.5, 427.9555555555555, 'Predicted label')"
            ]
          },
          "metadata": {},
          "execution_count": 46
        },
        {
          "output_type": "display_data",
          "data": {
            "text/plain": [
              "<Figure size 640x480 with 2 Axes>"
            ],
            "image/png": "[encoded data removed]"
          },
          "metadata": {}
        }
      ]
    },
    {
      "cell_type": "code",
      "source": [
        "from sklearn.metrics import classification_report\n",
        "print(classification_report(y_test, y_pred))"
      ],
      "metadata": {
        "id": "if_yIwQCcJ9k",
        "colab": {
          "base_uri": "https://localhost:8080/"
        },
        "outputId": "f96239bc-9328-4036-93ba-6570b6112010"
      },
      "execution_count": 47,
      "outputs": [
        {
          "output_type": "stream",
          "name": "stdout",
          "text": [
            "              precision    recall  f1-score   support\n",
            "\n",
            "           0       0.81      0.75      0.78       106\n",
            "           1       0.48      0.53      0.51        89\n",
            "           2       0.53      0.49      0.50       107\n",
            "           3       0.68      0.73      0.71        97\n",
            "\n",
            "    accuracy                           0.63       399\n",
            "   macro avg       0.63      0.63      0.62       399\n",
            "weighted avg       0.63      0.63      0.63       399\n",
            "\n"
          ]
        }
      ]
    }
  ]
}